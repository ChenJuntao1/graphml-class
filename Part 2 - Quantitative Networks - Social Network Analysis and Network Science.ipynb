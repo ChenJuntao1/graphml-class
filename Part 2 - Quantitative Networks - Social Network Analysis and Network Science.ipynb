{
 "cells": [
  {
   "cell_type": "code",
   "execution_count": 5,
   "id": "1ff047e8-e1c6-4429-92c4-945f040e1691",
   "metadata": {
    "tags": []
   },
   "outputs": [],
   "source": [
    "# First install takes a while to download models\n",
    "!pip install --quiet -r requirements.txt"
   ]
  },
  {
   "cell_type": "code",
   "execution_count": 19,
   "id": "b6f26d5a-daad-493d-aeb6-7e312ee2472d",
   "metadata": {
    "tags": []
   },
   "outputs": [],
   "source": [
    "import os\n",
    "import re\n",
    "\n",
    "import graphistry\n",
    "import networkx as nx\n",
    "import pandas as pd\n",
    "import requests"
   ]
  },
  {
   "cell_type": "code",
   "execution_count": 3,
   "id": "3f27ed23-fd02-430d-ac15-d93430438fb4",
   "metadata": {
    "tags": []
   },
   "outputs": [],
   "source": [
    "# Environment variable setup\n",
    "GRAPHISTRY_USERNAME = os.getenv(\"GRAPHISTRY_USERNAME\")\n",
    "GRAPHISTRY_PASSWORD = os.getenv(\"GRAPHISTRY_PASSWORD\")"
   ]
  },
  {
   "cell_type": "markdown",
   "id": "f9c73178-317f-4bda-953e-74597e4b6f6c",
   "metadata": {},
   "source": [
    "# Part 2: Quantitative Networks: Social Network Analysis and Network Science\n",
    "\n",
    "## Visualizing Networks with Graphistry\n",
    "\n",
    "Throughout this part of the course we will be using `pygraphistry` and [Graphistry Hub](https://hub.graphistry.com/) [https://hub.graphistry.com/](https://hub.graphistry.com/) to visualize networks. Both are free for personal use and are powerful for visualizing networks large and small.\n",
    "\n",
    "You can [signup](https://hub.graphistry.com/accounts/signup/) for a Graphistry account at [https://hub.graphistry.com/accounts/signup/](https://hub.graphistry.com/accounts/signup/) with your Github or Google account. Retain and use the username and password in "
   ]
  },
  {
   "cell_type": "code",
   "execution_count": 4,
   "id": "96638e3d-bff3-48eb-916a-34b9b042a080",
   "metadata": {
    "tags": []
   },
   "outputs": [],
   "source": [
    "graphistry.register(\n",
    "    api=3,\n",
    "    username=GRAPHISTRY_USERNAME,\n",
    "    password=GRAPHISTRY_PASSWORD,\n",
    ")"
   ]
  },
  {
   "cell_type": "markdown",
   "id": "dee9d6bf-d6f4-4104-9579-e11c4f844072",
   "metadata": {},
   "source": [
    "# Social Network Analysis\n",
    "\n",
    "We start with an example of a social network: [High-energy physics theory citation network](https://snap.stanford.edu/data/cit-HepTh.html) from [Stanford SNAP](http://snap.stanford.edu/).\n",
    "\n",
    "> Arxiv HEP-TH (high energy physics theory) citation graph is from the e-print arXiv and covers all the citations within a dataset of 27,770 papers with 352,807 edges. If a paper i cites paper j, the graph contains a directed edge from i to j. If a paper cites, or is cited by, a paper outside the dataset, the graph does not contain any information about this.\n",
    ">\n",
    "> The data covers papers in the period from January 1993 to April 2003 (124 months). It begins within a few months of the inception of the arXiv, and thus represents essentially the complete history of its HEP-TH section.\n",
    ">\n",
    "> The data was originally released as a part of [2003 KDD Cup](http://www.cs.cornell.edu/projects/kddcup/).\n",
    "\n",
    "J. Leskovec, J. Kleinberg and C. Faloutsos. [Graphs over Time: Densification Laws, Shrinking Diameters and Possible Explanations.](http://www.cs.cmu.edu/~jure/pubs/powergrowth-kdd05.pdf) ACM SIGKDD International Conference on Knowledge Discovery and Data Mining (KDD), 2005.\n",
    "\n",
    "Note: in addition to the metadata in the graph below, the time of paper submission is also available: https://snap.stanford.edu/data/cit-HepTh-dates.txt.gz\n",
    "\n",
    "## Extract Edge List and Build Directional Graph (DiGraph)\n",
    "\n",
    "First we download the edge list and build the structure of the network: `(paper)-cited->(paper)`"
   ]
  },
  {
   "cell_type": "code",
   "execution_count": 50,
   "id": "4b04e501-4648-46c5-85fd-64f954ff5837",
   "metadata": {
    "tags": []
   },
   "outputs": [],
   "source": [
    "import gzip\n",
    "import io\n",
    "import networkx as nx\n",
    "import tarfile\n",
    "\n",
    "\n",
    "# Initialize a directed graph\n",
    "G = nx.DiGraph()\n",
    "\n",
    "# Download and load edges (citations) from `cit-HepTh.txt.gz`\n",
    "response = requests.get(\"https://snap.stanford.edu/data/cit-HepTh.txt.gz\")\n",
    "gzip_content = io.BytesIO(response.content)\n",
    "\n",
    "# Decompress the gzip content and build the edge list for our network\n",
    "with gzip.GzipFile(fileobj=gzip_content) as f:\n",
    "    for line in f:\n",
    "        line = line.decode('utf-8')\n",
    "        # Ignore lines that start with '#'\n",
    "        if not line.startswith('#'):\n",
    "            cited, citing = line.strip().split('\\t')\n",
    "            G.add_edge(citing, cited)"
   ]
  },
  {
   "cell_type": "markdown",
   "id": "9dc0c296-d40d-4f99-bf12-f29d5a624e8e",
   "metadata": {},
   "source": [
    "## Summarize the Propertis of our DiGraph\n",
    "\n",
    "Let's check how many nodes and edges we have. This will help evaluate how we are doing when we parse the abstracts to add properties to our DiGraph."
   ]
  },
  {
   "cell_type": "code",
   "execution_count": 51,
   "id": "db5c603f-d26b-4b6c-905d-bab3b46638f5",
   "metadata": {
    "tags": []
   },
   "outputs": [
    {
     "name": "stdout",
     "output_type": "stream",
     "text": [
      "Total nodes: 27,770\n",
      "Total edges: 352,807\n"
     ]
    }
   ],
   "source": [
    "print(f\"Total nodes: {G.number_of_nodes():,}\")\n",
    "print(f\"Total edges: {G.number_of_edges():,}\")"
   ]
  },
  {
   "cell_type": "markdown",
   "id": "b5d90d7c-8ddb-453d-b0a4-2e6b01623cd8",
   "metadata": {},
   "source": [
    "## Add Properties to Nodes in Network\n",
    "\n",
    "Now we will use `extract_paper_info(text)` to add structured data to the nodes in our network.\n",
    "\n",
    "### Using ChatGPT to Write NetworkX Code\n",
    "\n",
    "We cover Chatbots at the end of this course, I just want to point out that the following dialogue generated the code below:\n",
    "\n",
    "```\n",
    "I am going to past some text representing some semi-structured data about an academic paper below:\n",
    "\n",
    "Paper: hep-th/0002031\n",
    "From: Maulik K. Parikh \n",
    "Date: Fri, 4 Feb 2000 17:04:51 GMT   (10kb)\n",
    "\n",
    "Title: Confinement and the AdS/CFT Correspondence\n",
    "Authors: D. S. Berman and Maulik K. Parikh\n",
    "Comments: 12 pages, 1 figure, RevTeX\n",
    "Report-no: SPIN-1999/25, UG-1999/42\n",
    "Journal-ref: Phys.Lett. B483 (2000) 271-276\n",
    "\\\\\n",
    "  We study the thermodynamics of the confined and unconfined phases of\n",
    "superconformal Yang-Mills in finite volume and at large N using the AdS/CFT\n",
    "correspondence. We discuss the necessary conditions for a smooth phase\n",
    "crossover and obtain an N-dependent curve for the phase boundary.\n",
    "\\\\\n",
    "\n",
    "Now I want you to write python code to extract the fields \"Paper\", \"From\", \"Date\", \"Title\", \"Authors\", \"Comments\", \"Report-no\", \"Journal-ref\" and the last field the \"Abstract\" text content.\n",
    "```"
   ]
  },
  {
   "cell_type": "code",
   "execution_count": 52,
   "id": "07b6aab2-dfbd-4b8f-951d-5ad7bb92f4f2",
   "metadata": {
    "tags": []
   },
   "outputs": [],
   "source": [
    "def extract_paper_info(text):\n",
    "    # Define patterns for each field\n",
    "    patterns = {\n",
    "        \"Paper\": r\"Paper:\\s*(.+?)\\n\",\n",
    "        \"From\": r\"From:\\s*(.+?)\\n\",\n",
    "        \"Date\": r\"Date:\\s*(.+?)\\n\",\n",
    "        \"Title\": r\"Title:\\s*(.+?)\\n\",\n",
    "        \"Authors\": r\"Authors:\\s*(.+?)\\n\",\n",
    "        \"Comments\": r\"Comments:\\s*(.+?)\\n\",\n",
    "        \"Report-no\": r\"Report-no:\\s*(.+?)\\n\",\n",
    "        \"Journal-ref\": r\"Journal-ref:\\s*(.+?)\\n\",\n",
    "        \"Abstract\": r\"\\\\\\\\\\n\\s*(.*?)\\n\\\\\\\\\"\n",
    "    }\n",
    "\n",
    "    # Extract field values\n",
    "    paper_info = {}\n",
    "    for field, pattern in patterns.items():\n",
    "        match = re.search(pattern, text, re.DOTALL)\n",
    "        if match:\n",
    "            paper_info[field] = match.group(1).strip()\n",
    "\n",
    "    return paper_info"
   ]
  },
  {
   "cell_type": "code",
   "execution_count": 53,
   "id": "bc75bfac-2f2e-4305-8d40-072e5f64aead",
   "metadata": {
    "tags": []
   },
   "outputs": [],
   "source": [
    "# Download the abstracts from `cit-HepTh-abstracts.tar.gz`\n",
    "abstract_response = requests.get(\"https://snap.stanford.edu/data/cit-HepTh-abstracts.tar.gz\")\n",
    "\n",
    "# Convert the response content to an in-memory binary stream\n",
    "abstract_gzip_content = io.BytesIO(abstract_response.content)\n",
    "\n",
    "# Decompress the gzip content\n",
    "with gzip.GzipFile(fileobj=abstract_gzip_content) as f:\n",
    "    with tarfile.open(fileobj=f, mode='r|') as tar:\n",
    "        for member in tar:\n",
    "            abstract_file = tar.extractfile(member)\n",
    "            if abstract_file is not None:\n",
    "                content = abstract_file.read().decode('utf-8')\n",
    "                paper_info = extract_paper_info(content)\n",
    "                if paper_info:\n",
    "                    paper_id = paper_info.get(\"Paper\", \"\").split(\"/\")[-1]  # Get the paper ID part of the \"Paper\" field\n",
    "                    for field, value in paper_info.items():\n",
    "                        if paper_id in G:\n",
    "                            G.nodes[paper_id][field] = value\n",
    "                        else:\n",
    "                            G.add_node(paper_id, **paper_info)\n",
    "\n",
    "# Now `G` is a property graph representing the \"High-energy physics theory citation network\" dataset"
   ]
  },
  {
   "cell_type": "code",
   "execution_count": null,
   "id": "5761e03f-df70-4a0c-91ea-99bd7be52020",
   "metadata": {
    "tags": []
   },
   "outputs": [],
   "source": []
  },
  {
   "cell_type": "code",
   "execution_count": 61,
   "id": "5afe75db-fc98-46d3-8454-8f0abdab166a",
   "metadata": {
    "tags": []
   },
   "outputs": [
    {
     "data": {
      "text/plain": [
       "{}"
      ]
     },
     "execution_count": 61,
     "metadata": {},
     "output_type": "execute_result"
    }
   ],
   "source": [
    "G.nodes[\"1001\"]"
   ]
  },
  {
   "cell_type": "code",
   "execution_count": 62,
   "id": "43fd7308-16d6-469f-a296-7872845e8353",
   "metadata": {
    "tags": []
   },
   "outputs": [
    {
     "data": {
      "text/plain": [
       "OutEdgeDataView([('1001', '5068'), ('1001', '7170'), ('1001', '7195'), ('1001', '11075'), ('1001', '104044'), ('1001', '105207'), ('1001', '112101'), ('1001', '209230'), ('1001', '212114'), ('1001', '212223')])"
      ]
     },
     "execution_count": 62,
     "metadata": {},
     "output_type": "execute_result"
    }
   ],
   "source": [
    "G.edges(\"1001\")"
   ]
  },
  {
   "cell_type": "code",
   "execution_count": null,
   "id": "3ed39a73-9d06-4968-824c-240d9f9bd16e",
   "metadata": {},
   "outputs": [],
   "source": [
    "list(G.nodes())[0:10]"
   ]
  }
 ],
 "metadata": {
  "kernelspec": {
   "display_name": "Python 3 (ipykernel)",
   "language": "python",
   "name": "python3"
  },
  "language_info": {
   "codemirror_mode": {
    "name": "ipython",
    "version": 3
   },
   "file_extension": ".py",
   "mimetype": "text/x-python",
   "name": "python",
   "nbconvert_exporter": "python",
   "pygments_lexer": "ipython3",
   "version": "3.10.11"
  }
 },
 "nbformat": 4,
 "nbformat_minor": 5
}
