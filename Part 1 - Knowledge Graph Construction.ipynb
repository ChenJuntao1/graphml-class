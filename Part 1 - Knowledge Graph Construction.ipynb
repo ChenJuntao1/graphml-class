{
 "cells": [
  {
   "cell_type": "code",
   "execution_count": 1,
   "id": "ed5319f2-b647-4bcc-90b2-8f748ed39eac",
   "metadata": {},
   "outputs": [],
   "source": [
    "import calendar\n",
    "import gzip\n",
    "import io\n",
    "import json\n",
    "import pickle\n",
    "import os\n",
    "import re\n",
    "import tarfile\n",
    "from datetime import date\n",
    "from typing import Dict, List, Union\n",
    "\n",
    "import graphistry\n",
    "import matplotlib.pyplot as plt\n",
    "import networkx as nx\n",
    "import numpy as np\n",
    "import pandas as pd\n",
    "import requests\n",
    "import seaborn as sns\n",
    "import umap\n",
    "from graphistry import Plottable\n",
    "from sentence_transformers import SentenceTransformer\n",
    "from sklearn.cluster import DBSCAN, KMeans\n",
    "from sklearn.preprocessing import StandardScaler\n",
    "from torch import Tensor"
   ]
  },
  {
   "cell_type": "code",
   "execution_count": 2,
   "id": "7c866f3f-adce-447d-ab09-f0165b3bd20d",
   "metadata": {},
   "outputs": [],
   "source": [
    "# Make Seaborn pretty :)\n",
    "sns.set(style='white', context='poster')"
   ]
  },
  {
   "cell_type": "markdown",
   "id": "ca312d8d-ed3d-4f0d-811f-58d5c810a8c1",
   "metadata": {},
   "source": [
    "Part 1: Knowledge Graph Construction\n",
    "====================================\n",
    "\n",
    "In this section of the course, we will cover _knowledge graph construction_ or how to construct knowledge graphs from both _natural networks_ and _structural networks_. In the lecture I described _knowledge graph construction_ as the process of building a knowledge graph from raw data using ETL, data transformations or Natural Language Processing (NLP).\n",
    "\n",
    "There are two main types of networks in common use: simple and heterogeneous networks. We're going to start out building a simple network where nodes are _academic papers_ and edges are _citations between papers_.\n",
    "\n",
    "<center><img src=\"images/Graphs-vs-Heterogeneous-Graphs-2000px.png\" width=\"1000px\" /></center>\n",
    "\n",
    "There are two categories of data from which we can build networks: _natural networks_ and _structural networks_. We can also transform _existing networks_ that are already formatted and easy to work with.\n",
    "\n",
    "<center><img src=\"images/ETL-in-Natural-and-Structural-Graphs.jpg\" width=\"860px\" /></center>\n",
    "\n",
    "Structural networks are just as important as natural networks because...\n",
    "\n",
    "<center><img src=\"images/Raw-Data-are-Often-Not-Networks.png\" width=\"960px\" /></center>\n",
    "<center>Slide on Network Construction from <a href=\"https://scholar.google.com/citations?user=Q_kKkIUAAAAJ&hl=en&oi=ao\">Jure Leskovec's</a> <a href=\"https://web.stanford.edu/class/cs224w/\">Stanford CS224W class</a> when it was still called <i>Network Analysis</i>. Today it is called <i>Machine Learning with Graphs</i></center>\n",
    "\n",
    "<br />\n",
    "\n",
    "Given time, we'll be building both _simple_ and _heterogeneous networks_ from both _natural_ and _structural graphs_. We'll start with the former.\n",
    "\n",
    "# Section Textbook\n",
    "\n",
    "An excellent resource for the first two parts of this course, **Knowledge Graph Construction** and **Network Science** is the [Network Science (CC4063 / CC4095)](https://www.dcc.fc.up.pt/~pribeiro/aulas/ns2122/) class taught by [Pedro Ribeiro](https://www.dcc.fc.up.pt/~pribeiro/) at the [Center for Research in Advanced Computing Systems](https://cracs.fc.up.pt/), part of the [Computer Science Department](https://www.dcc.fc.up.pt/site/) of the [University of Porto](https://www.up.pt/portal/en/).\n",
    "\n",
    "We will be using [Section 10: Network Construction](https://www.dcc.fc.up.pt/~pribeiro/aulas/ns2122/handouts.html#construction) during this part of the course, and specifically the slides for that section: [Network Construction (selected slides from J. Leskovec and L. Lacasa)](https://www.dcc.fc.up.pt/~pribeiro/aulas/ns2122/10_netconstruction.pdf)."
   ]
  },
  {
   "cell_type": "markdown",
   "id": "33276594-d0c7-4a44-8637-a5426107134e",
   "metadata": {},
   "source": [
    "# Setting up Graphistry\n",
    "\n",
    "First let's setup a network visualization tool to help us evaluate what we are building. Throughout this part of the course we will be using `pygraphistry` and [Graphistry Hub](https://hub.graphistry.com/) [https://hub.graphistry.com/](https://hub.graphistry.com/) to visualize networks. Both are free for personal use and are powerful for visualizing networks large and small.\n",
    "\n",
    "You can [signup](https://hub.graphistry.com/accounts/signup/) for a Graphistry account at [https://hub.graphistry.com/accounts/signup/](https://hub.graphistry.com/accounts/signup/). <b>You should use a username/password/email to get the required credentials</b>, although after that you can login with your Github or Google account.\n",
    "\n",
    "<center><img src=\"images/graphistry_hub_registration.png\" /></center>\n",
    "\n",
    "Retain and use your credentials in the login form and in the environment variables in the next cell below. You should set the `GRAPHISTRY_USERNAME` and `GRAPHISTRY_PASSWORD` variables in the `env/graphistry.env` file, and then restart this docker container to pickup the new values.\n",
    "\n",
    "<center><img src=\"images/graphistry_hub_homepage.png\" /></center>\n",
    "\n",
    "## Graphistry Streamlit Examples\n",
    "\n",
    "Graphistry can be used with [Streamlit]([streamlit](https://streamlit.io/)) to build simple, all-Python web applications with forms driving interactive network visualizations. Check out [graphistry/graph-app-kit](https://github.com/graphistry/graph-app-kit/tree/master/src/python/views/) for a number of very-simple-to-build [`streamlit`](https://pypi.org/project/streamlit/) applications leveraging [pygraphistry](https://pygraphistry.readthedocs.io/) ([graphistry/pygraphistry](https://github.com/graphistry/pygraphistry)).\n",
    "\n",
    "Graphistry's [UMAP support](https://umap-learn.readthedocs.io/en/latest/plotting.html) does something similar to what we do below when construction a KNN vector network, but using GPUs in **a few lines of code**."
   ]
  },
  {
   "cell_type": "markdown",
   "id": "94962741-ff18-417f-a218-52e6a61f5a0e",
   "metadata": {},
   "source": [
    "# Knowledge Graph Construction via Extract-Transform-Load (ETL) for a Simple, Natural Graph\n",
    "\n",
    "We are going to start out by building a knowledge graph from an existing edge list and then add properties to it in a process called [Extract-Transform-Load or ETL](https://aws.amazon.com/what-is/etl/) (some peope like [ELT](https://www.techtarget.com/searchdatamanagement/definition/Extract-Load-Transform-ELT), it's all the same to me). A common method of building an enterprise knowledge graph as a _property graph_ is to take a company's data on a platform like [PySpark](https://spark.apache.org/docs/3.3.1/api/python/index.html#:~:text=PySpark%20is%20an%20interface%20for,data%20in%20a%20distributed%20environment.) [a Python interface to [Apache Spark](https://spark.apache.org/). [Databricks](https://www.databricks.com/glossary/pyspark) is a popular [Platform as a Service (PaaS)](https://www.techtarget.com/searchcloudcomputing/definition/Platform-as-a-Service-PaaS#:~:text=Platform%20as%20a%20service%20(PaaS,software%20on%20its%20own%20infrastructure.) solution for Spark and [MLFlow](https://mlflow.org/), a [machine-learning operations (MLOps)](https://www.databricks.com/glossary/mlops) platform] and ETL it into nodes and edges, each of which have properties. Then this data is loaded into a graph database like [Neo4j](https://neo4j.com/developer/cypher/) for querying [[Neo4j Community Edition](https://neo4j.com/licensing/#neo4j-community-edition:~:text=About%20Neo4j%20Licenses-,Neo4j%20Community%20Edition,use%20Community%20Edition%2C%20whether%20or%20not%20your%20software%20is%20closed%20source.,-Download%20Neo4j%20%E2%86%92) is running on your machine right now via [docker compose](https://docs.docker.com/compose/) if you're running this course]. We will demonstrate that process below using [NetworkX](https://networkx.org/) and [PyData](https://pydata.org/) [Pandas](https://pandas.pydata.org/docs/). We will also perform Natural Language Processing to create label for our nodes to use in Part 3 - Graph Analytics and Part 4 - Graph Machine Learning.\n",
    "\n",
    "After that we will use text embeddings [sentence encoders] to build a K-Nearest-Neighbors network of papers as related by the semantics [meaning] of their abstracts. For now, think about ETL :)\n",
    "\n",
    "## High-energy Physics Theory Citation Network\n",
    "\n",
    "We'll be using the [High-energy physics theory citation network](https://snap.stanford.edu/data/cit-HepTh.html) from [Stanford SNAP](https://snap.stanford.edu/index.html). SNAP has many large network datasets available in the [Stanford Large Network Dataset Collection](https://snap.stanford.edu/data/).\n",
    "\n",
    "The dataset includes the following files, which we will combine:\n",
    "\n",
    "* [Citation graph edge list](https://snap.stanford.edu/data/cit-HepTh.txt.gz) contains node ID pairs. Node IDs are standard paper identifiers. This will build the core structure of our network.\n",
    "* [Paper metadata](cit-HepTh-abstracts.tar.gz) including abstracts. This will add propertis to our network.\n",
    "* [Publishing dates on arXiv](https://snap.stanford.edu/data/cit-HepTh-dates.txt.gz) will make our citation network a temporal [Directed-Acyclic-Graph (DAG)](https://en.wikipedia.org/wiki/Directed_acyclic_graph) since one paper can't cite another before it is written and there are no reciprocal edges. While we don't focus on this, it does affect our analysis.\n",
    "\n",
    "## Dataset Citation\n",
    "\n",
    "```\n",
    "Paper: hep-th/0002031\n",
    "From: Maulik K. Parikh \n",
    "Date: Fri, 4 Feb 2000 17:04:51 GMT   (10kb)\n",
    "\n",
    "Title: Confinement and the AdS/CFT Correspondence\n",
    "Authors: D. S. Berman and Maulik K. Parikh\n",
    "Comments: 12 pages, 1 figure, RevTeX\n",
    "Report-no: SPIN-1999/25, UG-1999/42\n",
    "Journal-ref: Phys.Lett. B483 (2000) 271-276\n",
    "\\\\\n",
    "  We study the thermodynamics of the confined and unconfined phases of\n",
    "superconformal Yang-Mills in finite volume and at large N using the AdS/CFT\n",
    "correspondence. We discuss the necessary conditions for a smooth phase\n",
    "crossover and obtain an N-dependent curve for the phase boundary.\n",
    "\\\\\n",
    "```"
   ]
  },
  {
   "cell_type": "code",
   "execution_count": 3,
   "id": "b3c191a7-0372-4723-9909-cefd2afc61a2",
   "metadata": {},
   "outputs": [],
   "source": [
    "# Environment variable setup\n",
    "GRAPHISTRY_USERNAME = os.getenv(\"GRAPHISTRY_USERNAME\")\n",
    "GRAPHISTRY_PASSWORD = os.getenv(\"GRAPHISTRY_PASSWORD\")"
   ]
  },
  {
   "cell_type": "code",
   "execution_count": 4,
   "id": "06e92082-faad-40a2-836e-ca7f98c5f081",
   "metadata": {},
   "outputs": [],
   "source": [
    "graphistry.register(\n",
    "    api=3,\n",
    "    username=GRAPHISTRY_USERNAME,\n",
    "    password=GRAPHISTRY_PASSWORD,\n",
    ")"
   ]
  },
  {
   "cell_type": "code",
   "execution_count": 5,
   "id": "09972cd9-b909-445f-8b78-94d1978b4125",
   "metadata": {},
   "outputs": [],
   "source": [
    "# Configuration for Graphistry\n",
    "FAVICON_URL = \"https://graphlet.ai/assets/icons/favicon.ico\"\n",
    "LOGO = {\"url\": \"https://graphlet.ai/assets/Branding/Graphlet%20AI.svg\", \"dimensions\": {\"maxWidth\": 60, \"maxHeight\": 60}}"
   ]
  },
  {
   "cell_type": "code",
   "execution_count": 6,
   "id": "c23d5a59-b4b5-4854-83d9-47a317b06058",
   "metadata": {},
   "outputs": [],
   "source": [
    "# Parameters for GRAPHISTRY\n",
    "GRAPHISTRY_PARAMS = {\n",
    "    \"play\": 500,\n",
    "    \"pointOpacity\": 0.7,\n",
    "    \"edgeOpacity\": 0.3,\n",
    "    \"edgeCurvature\": 0.3,\n",
    "    \"showArrows\": True,\n",
    "    \"gravity\": 0.15,\n",
    "    \"showPointsOfInterestLabel\": False,\n",
    "    \"labels\": {\n",
    "        \"shortenLabels\": False,\n",
    "    },\n",
    "    \"scalingRatio\": 0.5,\n",
    "}"
   ]
  },
  {
   "cell_type": "code",
   "execution_count": 7,
   "id": "426f7989-baa4-43d8-b6b7-3e6b1aee6f33",
   "metadata": {},
   "outputs": [],
   "source": [
    "# A big palette from 3 different palettes from: https://www.heavy.ai/blog/12-color-palettes-for-telling-better-stories-with-your-data\n",
    "CATEGORICAL_PALETTE: List[str] = (\n",
    "    [\n",
    "        \"#ea5545\",\n",
    "        \"#f46a9b\",\n",
    "        \"#ef9b20\",\n",
    "        \"#edbf33\",\n",
    "        \"#ede15b\",\n",
    "        \"#bdcf32\",\n",
    "        \"#87bc45\",\n",
    "        \"#27aeef\",\n",
    "        \"#b33dc6\",\n",
    "    ]\n",
    "    + [\n",
    "        \"#b30000\",\n",
    "        \"#7c1158\",\n",
    "        \"#4421af\",\n",
    "        \"#1a53ff\",\n",
    "        \"#0d88e6\",\n",
    "        \"#00b7c7\",\n",
    "        \"#5ad45a\",\n",
    "        \"#8be04e\",\n",
    "        \"#ebdc78\",\n",
    "    ]\n",
    "    + [\n",
    "        \"#fd7f6f\",\n",
    "        \"#7eb0d5\",\n",
    "        \"#b2e061\",\n",
    "        \"#bd7ebe\",\n",
    "        \"#ffb55a\",\n",
    "        \"#ffee65\",\n",
    "        \"#beb9db\",\n",
    "        \"#fdcce5\",\n",
    "        \"#8bd3c7\",\n",
    "    ]\n",
    ")"
   ]
  },
  {
   "cell_type": "markdown",
   "id": "46b3cf16-524f-49a0-9865-eb5924e357d1",
   "metadata": {},
   "source": [
    "## `NetworkX` on PyPi is `networkx` in code is `nx`.\n",
    "\n",
    "The convention we used above is to load NetworkX via `import networkx as nx` so we can use the shorthand `nx` to call its classes and algorithms.\n",
    "\n",
    "## Numeric Node IDs\n",
    "\n",
    "What follows is a demonstration of _knowledge graph construction_, which we covered in the lecture. A node/edge list was provided, but the IDs are not sequential... which a network sampling tool I hope to use called [littleballoffur](https://github.com/benedekrozemberczki/littleballoffur) requires. In fact many graph libraries require sequential IDs. We must transform the graph IDs, create a mapping back and forth and annotate the nodes with properties for both IDs.\n",
    "\n",
    "## Build a Directional Graph (nx.DiGraph) from a CSV\n",
    "\n",
    "The edge list is a `#` commented, space-delimited CSV. We will parse it, assign sequential IDs and build a [`nx.DiGraph`](https://networkx.org/documentation/stable/reference/classes/digraph.html).\n",
    "\n",
    "### Download the Citation Edge List\n",
    "\n",
    "First, we download the edge list and build the structure of the network: `(paper)-cited->(paper)`. Note that we cache the edge list so you can edit the code without having to re-download the data.\n",
    "\n",
    "The edge list is located at [https://snap.stanford.edu/data/cit-HepTh.txt.gz](https://snap.stanford.edu/data/cit-HepTh.txt.gz) and is stored in `data/cit-HepTh.txt.gz`. We will read the file in its compressed state via the `gzip` builtin library."
   ]
  },
  {
   "cell_type": "code",
   "execution_count": 8,
   "id": "7a4b88f4-deaf-444a-b90f-10bd9b7dad4f",
   "metadata": {},
   "outputs": [
    {
     "name": "stdout",
     "output_type": "stream",
     "text": [
      "Using existing citation graph edge file data/cit-HepTh.txt.gz\n"
     ]
    }
   ],
   "source": [
    "# Download and load edges (citations) from `cit-HepTh.txt.gz`\n",
    "edge_path = \"data/cit-HepTh.txt.gz\"\n",
    "gzip_content = None\n",
    "\n",
    "if os.path.exists(edge_path):\n",
    "    print(f\"Using existing citation graph edge file {edge_path}\")\n",
    "    gzip_content = open(edge_path, \"rb\")\n",
    "else:\n",
    "    print(\"Fetching citation graph edge file ...\")\n",
    "    response = requests.get(f\"https://snap.stanford.edu/{edge_path}\")\n",
    "    gzip_content = io.BytesIO(response.content)\n",
    "\n",
    "    print(\"Writing edge list to file {edge_path}\")\n",
    "    with open(edge_path, \"wb\") as f:\n",
    "        f.write(response.content)\n",
    "        print(f\"Wrote downloaded edge file to {edge_path}\")"
   ]
  },
  {
   "cell_type": "code",
   "execution_count": 9,
   "id": "7b1ba635-1606-4e15-9b2f-795b79e44753",
   "metadata": {},
   "outputs": [
    {
     "name": "stdout",
     "output_type": "stream",
     "text": [
      "# Directed graph (each unordered pair of nodes is saved once): Cit-HepTh.txt \n",
      "# Paper citation network of Arxiv High Energy Physics Theory category\n",
      "# Nodes: 27770 Edges: 352807\n",
      "# FromNodeId\tToNodeId\n",
      "1001\t9304045\n",
      "1001\t9308122\n",
      "1001\t9309097\n",
      "1001\t9311042\n",
      "1001\t9401139\n",
      "1001\t9404151\n",
      "\n",
      "gzip: stdout: Broken pipe\n"
     ]
    }
   ],
   "source": [
    "# Check the top 10 lines of our gzip text file\n",
    "!zcat data/cit-HepTh.txt.gz | head -10"
   ]
  },
  {
   "cell_type": "markdown",
   "id": "88106b1c-c9a1-4ebe-82e2-a54d2b31df9e",
   "metadata": {},
   "source": [
    "### Graph and Identifier Setup\n",
    "\n",
    "We create directional a [`nx.DiGraph`](https://networkx.org/documentation/stable/reference/classes/digraph.html) because citations are inherently directional: from citer to cited. Note that whether we model them this way or not, citation graphs are temporal networks. The citing paper's publishing date must fall after cited paper's publishing date. We'll load publishing dates below.\n",
    "\n",
    "We need to setup `file_to_net` and `net_to_file` dictionaries to map back and forth between the file format's identifiers and or own sequential identifiers we'll be assigning starting with 0."
   ]
  },
  {
   "cell_type": "code",
   "execution_count": 10,
   "id": "78b66727-06b4-4c72-b02a-1caf2a66242a",
   "metadata": {},
   "outputs": [],
   "source": [
    "# Initialize a directed graph\n",
    "G = nx.DiGraph()"
   ]
  },
  {
   "cell_type": "code",
   "execution_count": 11,
   "id": "71c3f84c-c441-46f1-988b-7bca8c561a7e",
   "metadata": {},
   "outputs": [],
   "source": [
    "# We need to create sequential IDs starting from 0 for littleballoffur and DGL\n",
    "file_to_net: Dict[int, int] = {}\n",
    "net_to_file: Dict[int, int] = {}\n",
    "current_idx = 0"
   ]
  },
  {
   "cell_type": "markdown",
   "id": "181ae24c-b54d-4a5a-b286-c5f0288eaab4",
   "metadata": {},
   "source": [
    "### From Text to Graph\n",
    "\n"
   ]
  },
  {
   "cell_type": "code",
   "execution_count": 12,
   "id": "4cd66174-f00d-448d-be65-b68787ea7adb",
   "metadata": {},
   "outputs": [
    {
     "name": "stdout",
     "output_type": "stream",
     "text": [
      "Building network structure ...\n",
      "Network built! It contains 27,770 nodes and 352,807 edges.\n"
     ]
    }
   ],
   "source": [
    "# Decompress the gzip content and build the edge list for our network\n",
    "print(\"Building network structure ...\")\n",
    "\n",
    "# Note we reuse the `gzip_content` variable from the download cell. This is a weird way to do it :)\n",
    "with gzip.GzipFile(fileobj=gzip_content) as f:\n",
    "\n",
    "    # Iterate through the lines, using the `line_number` as an `edge_id` below.\n",
    "    # They won't quite start at 0 owing to comments, but that's ok in the case of edges.\n",
    "    for line_number, line in enumerate(f):\n",
    "        line = line.decode(\"utf-8\")\n",
    "\n",
    "        # Ignore comment lines that start with '#'\n",
    "        if not line.startswith(\"#\"):\n",
    "            # Source (citing), desstination (cited) papers\n",
    "            citing_key, cited_key = line.strip().split(\"\\t\")\n",
    "\n",
    "            # The edge list makes the paper ID an int, stripping 0001001 to 1001, for example\n",
    "            citing_key, cited_key = int(citing_key), int(cited_key)\n",
    "\n",
    "            # If the either of the paper IDs don't exist, make one\n",
    "            for key in [citing_key, cited_key]:\n",
    "                if key not in file_to_net:\n",
    "                    # Build up an index that maps back and forth\n",
    "                    file_to_net[key] = current_idx\n",
    "                    net_to_file[current_idx] = key\n",
    "\n",
    "                    # Bump the current ID\n",
    "                    current_idx += 1\n",
    "\n",
    "            # print(f\"Citing key: {citing_key}, Cited key: {cited_key}\")\n",
    "            # print(f\"Mapped key: {file_to_net[citing_key]}, Mapped key: {file_to_net[cited_key]}\")\n",
    "\n",
    "            G.add_edge(file_to_net[citing_key], file_to_net[cited_key], edge_id=line_number)\n",
    "\n",
    "            # Conditionally set the keys on the nodes\n",
    "            G.nodes[file_to_net[citing_key]][\"file_id\"] = citing_key\n",
    "            G.nodes[file_to_net[citing_key]][\"sequential_id\"] = file_to_net[citing_key]\n",
    "\n",
    "            G.nodes[file_to_net[cited_key]][\"file_id\"] = cited_key\n",
    "            G.nodes[file_to_net[cited_key]][\"sequential_id\"] = file_to_net[cited_key]\n",
    "\n",
    "print(f\"Network built! It contains {G.number_of_nodes():,} nodes and {G.number_of_edges():,} edges.\")"
   ]
  },
  {
   "cell_type": "markdown",
   "id": "26805bf9-3b99-40fb-8757-9970a235fa6b",
   "metadata": {},
   "source": [
    "## Persist the `file_to_net` and `net_to_file` Maps\n",
    "\n",
    "We need to persist these indexes as we will load and use them in part 2."
   ]
  },
  {
   "cell_type": "code",
   "execution_count": 13,
   "id": "0cabae7b-8402-4677-82b5-cded122ebf26",
   "metadata": {},
   "outputs": [
    {
     "data": {
      "text/plain": [
       "[(1001, 0),\n",
       " (9304045, 1),\n",
       " (9308122, 2),\n",
       " (9309097, 3),\n",
       " (9311042, 4),\n",
       " (9401139, 5),\n",
       " (9404151, 6),\n",
       " (9407087, 7),\n",
       " (9408099, 8),\n",
       " (9501030, 9)]"
      ]
     },
     "execution_count": 13,
     "metadata": {},
     "output_type": "execute_result"
    }
   ],
   "source": [
    "list(file_to_net.items())[0:10]"
   ]
  },
  {
   "cell_type": "code",
   "execution_count": 14,
   "id": "5b8058b4-02fb-4038-834a-4bf935b9e008",
   "metadata": {},
   "outputs": [],
   "source": [
    "with open(\"data/citation/file_to_net.pkl\", \"wb\") as f:\n",
    "    pickle.dump(file_to_net, f)\n",
    "with open(\"data/citation/file_to_net.json\", \"w\") as f:\n",
    "    json.dump(file_to_net, f)\n",
    "\n",
    "with open(\"data/citation/net_to_file.pkl\", \"wb\") as f:\n",
    "    pickle.dump(net_to_file, f)\n",
    "with open(\"data/citation/net_to_file.json\", \"w\") as f:\n",
    "    json.dump(net_to_file, f)"
   ]
  },
  {
   "cell_type": "markdown",
   "id": "39a5d993-5545-4886-966a-e622d2409215",
   "metadata": {},
   "source": [
    "## Node Properties from Abstract Metadata\n",
    "\n",
    "In addition to the edge list, SNAP provides the paper's essential metadata in another file, which we will load to provide node properties and text embeddings for citation graph.\n",
    "\n",
    "We are going to perform the following steps:\n",
    "\n",
    "1) Download and cache the metadata to `data/cit-HepTh-abstracts.tar.gz`. Note that 1 file corresponds to one paper node's metadata.\n",
    "2) Process the tarball file where one file corresponds to one node ID in the original file. See why we made or mappings `file_to_net` and `net_to_file`?\n",
    "3) Assign node properties by parsing the fields of the record using traditional information extraction with regular expressions.\n",
    "4) Use a sentence transformer paraphrase model to summarize the entire textual record and enable node comparison for journal label creation.\n",
    "\n",
    "### Downloading the Abstract Metadata\n",
    "\n",
    "Another file containing node metadata, including the abstracts, for about 90% of nodes in this network is provided at [https://snap.stanford.edu/data/cit-HepTh-abstracts.tar.gz](https://snap.stanford.edu/data/cit-HepTh-abstracts.tar.gz), which we will save to `data/cit-HepTh-abstracts.tar.gz`. This code works just like the edge list download code above."
   ]
  },
  {
   "cell_type": "code",
   "execution_count": 15,
   "id": "4609227a-1af3-41fd-9921-7715c11d9685",
   "metadata": {},
   "outputs": [
    {
     "name": "stdout",
     "output_type": "stream",
     "text": [
      "Fetching paper abstracts ...\n",
      "Using existing paper abstracts file data/cit-HepTh-abstracts.tar.gz\n"
     ]
    }
   ],
   "source": [
    "# Download the abstracts from `cit-HepTh-abstracts.tar.gz`\n",
    "print(\"Fetching paper abstracts ...\")\n",
    "abstract_path = \"data/cit-HepTh-abstracts.tar.gz\"\n",
    "abstract_gzip_content = None\n",
    "\n",
    "if os.path.exists(abstract_path):\n",
    "    print(f\"Using existing paper abstracts file {abstract_path}\")\n",
    "    with open(abstract_path, \"rb\") as f:\n",
    "        abstract_gzip_content = io.BytesIO(f.read())\n",
    "else:\n",
    "    print(\"Downloading paper abbstracts ...\")\n",
    "    abstract_response = requests.get(f\"https://snap.stanford.edu/{abstract_path}\")\n",
    "    abstract_gzip_content = io.BytesIO(abstract_response.content)\n",
    "\n",
    "    print(f\"Downloading abstract file to {abstract_path}\")\n",
    "    with open(abstract_path, \"wb\") as f:\n",
    "        f.write(abstract_response.content)\n",
    "        print(f\"Wrote downloaded abstract file to {abstract_path}\")"
   ]
  },
  {
   "cell_type": "markdown",
   "id": "28ee4892-b011-4b3b-bb18-78633a297a3b",
   "metadata": {},
   "source": [
    "### Manually Parsing Node Metadata\n",
    "\n",
    "As a first pass let's use regular expressions in the Python `re` builtin library to extract each paper's fields so we can assign them as properties to our `nx.DiGraph` nodes.\n",
    "\n",
    "Here is what a couple of **test documents** look like. This is corresponds to two files in our abstract tarball."
   ]
  },
  {
   "cell_type": "code",
   "execution_count": 16,
   "id": "ce09eff3-3189-45c5-b139-3d346bf97e59",
   "metadata": {},
   "outputs": [],
   "source": [
    "docs = [\n",
    "\"\"\"------------------------------------------------------------------------------\n",
    "\\\\\n",
    "Paper: hep-th/9612115\n",
    "From: Asato Tsuchiya <tsuchiya@theory.kek.jp>\n",
    "Date: Wed, 11 Dec 1996 17:38:56 +0900   (20kb)\n",
    "Date (revised): Tue, 31 Dec 1996 01:06:34 +0900\n",
    "\n",
    "Title: A Large-N Reduced Model as Superstring\n",
    "Authors: N. Ishibashi, H. Kawai, Y. Kitazawa and A. Tsuchiya\n",
    "Comments: 29 pages, Latex, a footnote and references added, eq.(3.52)\n",
    "corrected, minor corrections\n",
    "Report-no: KEK-TH-503, TIT/HEP-357\n",
    "Journal-ref: Nucl.Phys. B498 (1997) 467-491\n",
    "\\\\\n",
    "A matrix model which has the manifest ten-dimensional N=2 super Poincare\n",
    "invariance is proposed. Interactions between BPS-saturated states are analyzed\n",
    "to show that massless spectrum is the same as that of type IIB string theory.\n",
    "It is conjectured that the large-N reduced model of ten-dimensional super\n",
    "Yang-Mills theory can be regarded as a constructive definition of this model\n",
    "and therefore is equivalent to superstring theory.\n",
    "\\\\\n",
    "\"\"\",\n",
    "    \"\"\"------------------------------------------------------------------------------\n",
    "\\\\\n",
    "Paper: hep-th/9711029\n",
    "From: John Schwarz <jhs@theory.caltech.edu>\n",
    "Date: Wed, 5 Nov 1997 17:30:55 GMT   (20kb)\n",
    "Date (revised v2): Thu, 6 Nov 1997 23:52:45 GMT   (21kb)\n",
    "\n",
    "Title: The Status of String Theory\n",
    "Author: John H. Schwarz\n",
    "Comments: 16 pages, latex, two figures; minor corrections, references added\n",
    "Report-no: CALT-68-2140\n",
    "\\\\\n",
    "There have been many remarkable developments in our understanding of\n",
    "superstring theory in the past few years, a period that has been described as\n",
    "``the second superstring revolution.'' Several of them are discussed here. The\n",
    "presentation is intended primarily for the benefit of nonexperts.\n",
    "\\\\\n",
    "\"\"\",\n",
    "]"
   ]
  },
  {
   "cell_type": "markdown",
   "id": "44f48a8b-95b3-404e-8658-7c9fd4002acd",
   "metadata": {},
   "source": [
    "### Structured Information Extraction with a Regex Helper\n",
    "\n",
    "Our extract function was created through trial and error using the [Pythex Regex Editor](https://pythex.org/). Paste the test documents where it says `Your test data` and try a couple of the patterns such as `r\"\"` above that where it says `Your regular expression`. It will show you where the patterns match in your data. A new section displays the matches within the text and a window on the right shows the text your regular expression will return via the list the `match.groups()` command returns.\n",
    "\n",
    "A few cycles of this and we have a clean extraction. In practice, I used more test records than this, which I've spared you in the interest of time :) Regular expressions are difficult to learn, but there are resources and **ChatGPT-4 is quite capable at writing regex!** It wrote many of the ones below.\n",
    "\n",
    "<center><img src=\"images/Pythex-Regex-Helper.png\" width=\"1000px\" /></center>\n",
    "\n",
    "I used Pythex to help write the `extract_paper_info(record)` method below:"
   ]
  },
  {
   "cell_type": "code",
   "execution_count": 17,
   "id": "1b66d7e1-9e7a-4f51-adc2-7d26538b5dc0",
   "metadata": {},
   "outputs": [],
   "source": [
    "def extract_paper_info(record):\n",
    "    \"\"\"Extract structured information from the text of academic paper text records using regular expressions.\n",
    "\n",
    "    Note: I was written wholly or in part by ChatGPT4 on May 23, 2023.\n",
    "    \"\"\"\n",
    "\n",
    "    # Initialize an empty dictionary to hold the information\n",
    "    info = {}\n",
    "\n",
    "    # Match \"Paper\" field\n",
    "    paper_match = re.search(r\"Paper:\\s*(.*)\", record)\n",
    "    if paper_match:\n",
    "        info[\"Paper\"] = paper_match.group(1)\n",
    "\n",
    "    # # Match \"From\" field\n",
    "    # from_match = re.search(r\"From:\\s*(.*)\", record)\n",
    "    # if from_match:\n",
    "    #     info['From'] = from_match.group(1)\n",
    "\n",
    "    # Match \"From\" field\n",
    "    from_match = re.search(r\"From:\\s*([^<]*)<\", record)\n",
    "    if from_match:\n",
    "        info[\"From\"] = from_match.group(1).strip()\n",
    "\n",
    "    # Match \"Date\" field\n",
    "    date_match = re.search(r\"Date:\\s*(.*)(\\s*)(\\(\\d+kb\\))\", record)\n",
    "    if date_match:\n",
    "        info[\"Date\"] = date_match.group(1).strip()\n",
    "\n",
    "    # Match \"Title\" field\n",
    "    title_match = re.search(r\"Title:\\s*(.*)\", record)\n",
    "    if title_match:\n",
    "        info[\"Title\"] = title_match.group(1)\n",
    "\n",
    "    # Match \"Authors\" field\n",
    "    authors_match = re.search(r\"Authors:\\s*(.*)\", record)\n",
    "    if authors_match:\n",
    "        info[\"Authors\"] = authors_match.group(1)\n",
    "\n",
    "    # Match \"Comments\" field\n",
    "    comments_match = re.search(r\"Comments:\\s*(.*)\", record)\n",
    "    if comments_match:\n",
    "        info[\"Comments\"] = comments_match.group(1)\n",
    "\n",
    "    # Match \"Report-no\" field\n",
    "    report_no_match = re.search(r\"Report-no:\\s*(.*)\", record)\n",
    "    if report_no_match:\n",
    "        info[\"Report-no\"] = report_no_match.group(1)\n",
    "\n",
    "    # Match \"Journal-ref\" field\n",
    "    journal_ref_match = re.search(r\"Journal-ref:\\s*(.*)\", record)\n",
    "    if journal_ref_match:\n",
    "        info[\"Journal-ref\"] = journal_ref_match.group(1)\n",
    "\n",
    "    # Extract \"Abstract\" field\n",
    "    abstract_pattern = r\"Journal-ref:[^\\\\\\\\]*\\\\\\\\[\\n\\s]*(.*?)(?=\\\\\\\\)\"\n",
    "    abstract_match = re.search(abstract_pattern, record, re.DOTALL)\n",
    "    if abstract_match:\n",
    "        abstract = abstract_match.group(1)\n",
    "        abstract = abstract.replace(\"\\n\", \" \").replace(\"  \", \" \")\n",
    "        info[\"Abstract\"] = abstract.strip()\n",
    "\n",
    "    return info"
   ]
  },
  {
   "cell_type": "markdown",
   "id": "fe9f0c15-5080-4875-9c9a-9312ee9e5ab6",
   "metadata": {},
   "source": [
    "### Testing Our Information Extraction\n",
    "\n",
    "To develop the above I created the unit tests below. Inspect the values so you agree they work :)"
   ]
  },
  {
   "cell_type": "code",
   "execution_count": 18,
   "id": "e92f08f8-aa75-44a7-8e9c-b941b7bf0d64",
   "metadata": {},
   "outputs": [],
   "source": [
    "(doc1, doc2) = docs\n",
    "\n",
    "paper_info = extract_paper_info(doc1)\n",
    "# Get the paper ID part of the \"Paper\" field\n",
    "paper_id = int(paper_info.get(\"Paper\", \"\").split(\"/\")[-1])\n",
    "assert paper_info[\"Paper\"] == \"hep-th/9612115\"\n",
    "assert paper_id == 9612115\n",
    "\n",
    "paper_info = extract_paper_info(doc2)\n",
    "# Get the paper ID part of the \"Paper\" field\n",
    "paper_id = int(paper_info.get(\"Paper\", \"\").split(\"/\")[-1])\n",
    "assert paper_info[\"Paper\"] == \"hep-th/9711029\"\n",
    "assert paper_id == 9711029"
   ]
  },
  {
   "cell_type": "markdown",
   "id": "d1786f68-848a-442a-9e96-ccd70debf27a",
   "metadata": {},
   "source": [
    "### Setting Node Properties\n",
    "\n",
    "With our information extraction function tested, we are ready to loop through the abstract metadata tarball's files `G.nodes()` and assign the extract function's fields as node fields."
   ]
  },
  {
   "cell_type": "code",
   "execution_count": 19,
   "id": "a18b0860-2b80-4903-9d5b-1bc7c557d7e6",
   "metadata": {},
   "outputs": [
    {
     "name": "stdout",
     "output_type": "stream",
     "text": [
      "Added metadata to 27,770 nodes, 1,785 were unknown.\n"
     ]
    }
   ],
   "source": [
    "hit_count, miss_count, matches = 0, 0, 0\n",
    "all_abstracts: List[str] = []\n",
    "abstracts: Dict[int, str] = {}\n",
    "paper_ids: List[int] = []\n",
    "# Decompress the gzip content, then work through the abstract files in the tarball\n",
    "with gzip.GzipFile(fileobj=abstract_gzip_content) as f:\n",
    "    with tarfile.open(fileobj=f, mode=\"r|\") as tar:\n",
    "        for member in tar:\n",
    "            abstract_file = tar.extractfile(member)\n",
    "            if abstract_file:\n",
    "                content = abstract_file.read().decode(\"utf-8\")\n",
    "\n",
    "                paper_id = int(os.path.basename(member.name).split(\".\")[0])\n",
    "\n",
    "                # We can also parse and use those values directly or embed field-wise\n",
    "                paper_info = extract_paper_info(content)\n",
    "                if paper_info:\n",
    "                    abstract_paper_id = paper_info.get(\"Paper\", \"\").split(\"/\")[-1]\n",
    "                    if paper_id != int(abstract_paper_id):\n",
    "                        matches += 1\n",
    "                        print(f\"Paper ID {paper_id} != {abstract_paper_id}\")\n",
    "\n",
    "                    # Get the paper ID part of the \"Paper\" field\n",
    "                    if paper_id in file_to_net and file_to_net[paper_id] in G:\n",
    "                        for field, value in paper_info.items():\n",
    "                            G.nodes[file_to_net[paper_id]][field] = value\n",
    "\n",
    "                        abstracts[paper_id] = content\n",
    "                        all_abstracts.append(content)\n",
    "                        paper_ids.append(paper_id)\n",
    "\n",
    "                        hit_count += 1\n",
    "\n",
    "                    else:\n",
    "                        # Add isolated nodes if paper_id isn't in G\n",
    "                        miss_count += 1\n",
    "                        # We could do this for some use cases to create isolated nodes. Not all graphs are connected. See Part 2, Network Science.\n",
    "                        # G.add_node(file_to_net[paper_id], **paper_info)\n",
    "\n",
    "# Now `G` is a property graph representing the \"High-energy physics theory citation network\" dataset\n",
    "print(f\"Added metadata to {hit_count:,} nodes, {miss_count:,} were unknown.\")"
   ]
  },
  {
   "cell_type": "markdown",
   "id": "b7767a17-0955-4a8f-a34e-9996fcb54b90",
   "metadata": {},
   "source": [
    "## Temporal Networks\n",
    "\n",
    "Our citation graph is a temporal network. Temporal networks have a determined sequence in which nodes are added to the graph - just as real networks evolve. Network science and graph machine learning for temporal networks that don't take time into account can result in incorrect analyses and inaccurate machine learning inference.\n",
    "\n",
    "<center><img src=\"images/Temporal-vs-static-networks-A-The-sequence-of-contacts-among-three-nodes-capturing_W640.jpg\" width=\"800px\" /></center>\n",
    "<center>Image source: <a href=\"https://www.researchgate.net/publication/305492361_The_fundamental_advantages_of_temporal_networks\">The fundamental advantages of temporal networks, Li et al., 2016</a></center>\n",
    "\n",
    "### Downloading Publishing Dates\n",
    "\n",
    "The timestamps are available at [https://snap.stanford.edu/data/cit-HepTh-dates.txt.gz](https://snap.stanford.edu/data/cit-HepTh-dates.txt.gz) and are downloaded to `data/cit-HepTh-dates.txt.gz`."
   ]
  },
  {
   "cell_type": "code",
   "execution_count": 20,
   "id": "d35f49a5-d300-4c10-8cef-ccbd664257fd",
   "metadata": {},
   "outputs": [
    {
     "name": "stdout",
     "output_type": "stream",
     "text": [
      "Using existing paper dates file data/cit-HepTh-dates.txt.gz\n"
     ]
    }
   ],
   "source": [
    "# Download and load edges (citations) from `cit-HepTh.txt.gz`\n",
    "dates_path = \"data/cit-HepTh-dates.txt.gz\"\n",
    "date_gzip_content = None\n",
    "\n",
    "if os.path.exists(dates_path):\n",
    "    print(f\"Using existing paper dates file {dates_path}\")\n",
    "    date_gzip_content = open(dates_path, \"rb\")\n",
    "else:\n",
    "    print(\"Downloading paper publishing dates ...\")\n",
    "    date_response = requests.get(f\"https://snap.stanford.edu/{dates_path}\")\n",
    "    date_gzip_content = io.BytesIO(date_response.content)\n",
    "\n",
    "    with open(dates_path, \"wb\") as f:\n",
    "        f.write(date_response.content)\n",
    "        print(\"Wrote downloaded publishing dates file to {dates_path}\")"
   ]
  },
  {
   "cell_type": "markdown",
   "id": "c4dc8390-c714-4c75-b702-5f3c243e1d0d",
   "metadata": {},
   "source": [
    "### Adding a Temporal Property\n",
    "\n",
    "Publishing dates go under the `Published` node property."
   ]
  },
  {
   "cell_type": "code",
   "execution_count": 21,
   "id": "acaca8e5-e0c1-4fbc-ba9a-a514218acccf",
   "metadata": {},
   "outputs": [
    {
     "name": "stdout",
     "output_type": "stream",
     "text": [
      "Adding publising dates ...\n"
     ]
    }
   ],
   "source": [
    "# Decompress the gzip content and add a \"published\" date property to our nodes\n",
    "print(\"Adding publising dates ...\")\n",
    "with gzip.GzipFile(fileobj=date_gzip_content) as f:\n",
    "    for line in f:\n",
    "        line = line.decode(\"utf-8\")\n",
    "        # Ignore lines that start with '#'\n",
    "        if not line.startswith(\"#\"):\n",
    "            paper_id, iso_date = line.strip().split(\"\\t\")\n",
    "\n",
    "            # The edge list makes the paper ID an int, stripping 0001001 to 1001, for example\n",
    "            paper_id = int(paper_id)\n",
    "\n",
    "            if paper_id in file_to_net and file_to_net[paper_id] in G:\n",
    "                # Add a UTC timestamp for the data\n",
    "                G.nodes[file_to_net[paper_id]][\"Published\"] = calendar.timegm(\n",
    "                    date.fromisoformat(iso_date).timetuple()\n",
    "                )"
   ]
  },
  {
   "cell_type": "markdown",
   "id": "72a45ded-092d-49e7-bcbd-55018997b7e7",
   "metadata": {},
   "source": [
    "### Test our Network Build\n",
    "\n",
    "Let's make sure everything built as expected..."
   ]
  },
  {
   "cell_type": "code",
   "execution_count": 22,
   "id": "e2a6d03a-4bbe-4997-b3fd-6ee1f728c927",
   "metadata": {},
   "outputs": [
    {
     "name": "stdout",
     "output_type": "stream",
     "text": [
      "{\n",
      "    \"file_id\": 1001,\n",
      "    \"sequential_id\": 0,\n",
      "    \"Paper\": \"hep-th/0001001\",\n",
      "    \"From\": \"Paul S. Aspinwall\",\n",
      "    \"Date\": \"Sat, 1 Jan 2000 00:02:31 GMT\",\n",
      "    \"Title\": \"Compactification, Geometry and Duality: N=2\",\n",
      "    \"Authors\": \"Paul S. Aspinwall\",\n",
      "    \"Comments\": \"82 pages, 8 figures, LaTeX2e, TASI99, refs added and some typos fixed\",\n",
      "    \"Report-no\": \"DUKE-CGTP-00-01\",\n",
      "    \"Published\": 946684800\n",
      "}\n"
     ]
    }
   ],
   "source": [
    "# What is the first node?\n",
    "test_node = G.nodes[0]\n",
    "\n",
    "assert test_node[\"sequential_id\"] == 0\n",
    "assert test_node[\"file_id\"] == 1001\n",
    "\n",
    "print(json.dumps(test_node, indent=4))"
   ]
  },
  {
   "cell_type": "markdown",
   "id": "c5228d39-a3d1-40ef-ab76-f1bf99b79c37",
   "metadata": {},
   "source": [
    "## Abstract Embeddings\n",
    "\n",
    "In addition to parsing the data, we will embed the entire record. First we create a utility to embed string columns:"
   ]
  },
  {
   "cell_type": "code",
   "execution_count": 23,
   "id": "0043881c-c4d7-4357-b284-7e65ffb2063f",
   "metadata": {},
   "outputs": [
    {
     "data": {
      "application/vnd.jupyter.widget-view+json": {
       "model_id": "1ebfa1aeb9db4575af42d84ab373bca2",
       "version_major": 2,
       "version_minor": 0
      },
      "text/plain": [
       "Downloading (…)e9125/.gitattributes:   0%|          | 0.00/1.18k [00:00<?, ?B/s]"
      ]
     },
     "metadata": {},
     "output_type": "display_data"
    },
    {
     "data": {
      "application/vnd.jupyter.widget-view+json": {
       "model_id": "ce419dcf98ae4c5c86ef6f9df8bbad1d",
       "version_major": 2,
       "version_minor": 0
      },
      "text/plain": [
       "Downloading (…)_Pooling/config.json:   0%|          | 0.00/190 [00:00<?, ?B/s]"
      ]
     },
     "metadata": {},
     "output_type": "display_data"
    },
    {
     "data": {
      "application/vnd.jupyter.widget-view+json": {
       "model_id": "83af98a6b4b048eda54aae1fc08e3612",
       "version_major": 2,
       "version_minor": 0
      },
      "text/plain": [
       "Downloading (…)7e55de9125/README.md:   0%|          | 0.00/10.6k [00:00<?, ?B/s]"
      ]
     },
     "metadata": {},
     "output_type": "display_data"
    },
    {
     "data": {
      "application/vnd.jupyter.widget-view+json": {
       "model_id": "cb641f0cecb948cfa9426c0691a2e5d3",
       "version_major": 2,
       "version_minor": 0
      },
      "text/plain": [
       "Downloading (…)55de9125/config.json:   0%|          | 0.00/612 [00:00<?, ?B/s]"
      ]
     },
     "metadata": {},
     "output_type": "display_data"
    },
    {
     "data": {
      "application/vnd.jupyter.widget-view+json": {
       "model_id": "34edbc461cd74769a82a20e5cb699049",
       "version_major": 2,
       "version_minor": 0
      },
      "text/plain": [
       "Downloading (…)ce_transformers.json:   0%|          | 0.00/116 [00:00<?, ?B/s]"
      ]
     },
     "metadata": {},
     "output_type": "display_data"
    },
    {
     "data": {
      "application/vnd.jupyter.widget-view+json": {
       "model_id": "691f5b49018948f5b1850884820626db",
       "version_major": 2,
       "version_minor": 0
      },
      "text/plain": [
       "Downloading (…)125/data_config.json:   0%|          | 0.00/39.3k [00:00<?, ?B/s]"
      ]
     },
     "metadata": {},
     "output_type": "display_data"
    },
    {
     "data": {
      "application/vnd.jupyter.widget-view+json": {
       "model_id": "8ac9ee2eb81349a18075fd7979223fb1",
       "version_major": 2,
       "version_minor": 0
      },
      "text/plain": [
       "Downloading pytorch_model.bin:   0%|          | 0.00/90.9M [00:00<?, ?B/s]"
      ]
     },
     "metadata": {},
     "output_type": "display_data"
    },
    {
     "data": {
      "application/vnd.jupyter.widget-view+json": {
       "model_id": "d276bb83a4a14e64b3cc5533cacb2a13",
       "version_major": 2,
       "version_minor": 0
      },
      "text/plain": [
       "Downloading (…)nce_bert_config.json:   0%|          | 0.00/53.0 [00:00<?, ?B/s]"
      ]
     },
     "metadata": {},
     "output_type": "display_data"
    },
    {
     "data": {
      "application/vnd.jupyter.widget-view+json": {
       "model_id": "3711b929a6f0497090f8cc8d26a28576",
       "version_major": 2,
       "version_minor": 0
      },
      "text/plain": [
       "Downloading (…)cial_tokens_map.json:   0%|          | 0.00/112 [00:00<?, ?B/s]"
      ]
     },
     "metadata": {},
     "output_type": "display_data"
    },
    {
     "data": {
      "application/vnd.jupyter.widget-view+json": {
       "model_id": "401315c4b2444a8c892d9d4b3f0ace65",
       "version_major": 2,
       "version_minor": 0
      },
      "text/plain": [
       "Downloading (…)e9125/tokenizer.json:   0%|          | 0.00/466k [00:00<?, ?B/s]"
      ]
     },
     "metadata": {},
     "output_type": "display_data"
    },
    {
     "data": {
      "application/vnd.jupyter.widget-view+json": {
       "model_id": "8e2dbc041d954593bc2e8f7747e658b7",
       "version_major": 2,
       "version_minor": 0
      },
      "text/plain": [
       "Downloading (…)okenizer_config.json:   0%|          | 0.00/350 [00:00<?, ?B/s]"
      ]
     },
     "metadata": {},
     "output_type": "display_data"
    },
    {
     "data": {
      "application/vnd.jupyter.widget-view+json": {
       "model_id": "151fece92f8c41daaf4b39e85a43725a",
       "version_major": 2,
       "version_minor": 0
      },
      "text/plain": [
       "Downloading (…)9125/train_script.py:   0%|          | 0.00/13.2k [00:00<?, ?B/s]"
      ]
     },
     "metadata": {},
     "output_type": "display_data"
    },
    {
     "data": {
      "application/vnd.jupyter.widget-view+json": {
       "model_id": "995d80d5435742868b5b4c10282e8bd1",
       "version_major": 2,
       "version_minor": 0
      },
      "text/plain": [
       "Downloading (…)7e55de9125/vocab.txt:   0%|          | 0.00/232k [00:00<?, ?B/s]"
      ]
     },
     "metadata": {},
     "output_type": "display_data"
    },
    {
     "data": {
      "application/vnd.jupyter.widget-view+json": {
       "model_id": "a5561971c555429191c1f5de9f21ba83",
       "version_major": 2,
       "version_minor": 0
      },
      "text/plain": [
       "Downloading (…)5de9125/modules.json:   0%|          | 0.00/349 [00:00<?, ?B/s]"
      ]
     },
     "metadata": {},
     "output_type": "display_data"
    }
   ],
   "source": [
    "all_model = SentenceTransformer(\"sentence-transformers/all-MiniLM-L6-v2\")"
   ]
  },
  {
   "cell_type": "code",
   "execution_count": 24,
   "id": "fa37dfea-c8da-429d-83df-011c3fbc755e",
   "metadata": {},
   "outputs": [
    {
     "data": {
      "application/vnd.jupyter.widget-view+json": {
       "model_id": "3c6be9afd0eb40be9ad7188c3345ba87",
       "version_major": 2,
       "version_minor": 0
      },
      "text/plain": [
       "Downloading (…)001fa/.gitattributes:   0%|          | 0.00/690 [00:00<?, ?B/s]"
      ]
     },
     "metadata": {},
     "output_type": "display_data"
    },
    {
     "data": {
      "application/vnd.jupyter.widget-view+json": {
       "model_id": "8cdb9999f2f54661914ab3c7fcb21eb0",
       "version_major": 2,
       "version_minor": 0
      },
      "text/plain": [
       "Downloading (…)_Pooling/config.json:   0%|          | 0.00/190 [00:00<?, ?B/s]"
      ]
     },
     "metadata": {},
     "output_type": "display_data"
    },
    {
     "data": {
      "application/vnd.jupyter.widget-view+json": {
       "model_id": "d5052ab567ef45f8beb62dfe372ff0eb",
       "version_major": 2,
       "version_minor": 0
      },
      "text/plain": [
       "Downloading (…)3bbb8001fa/README.md:   0%|          | 0.00/3.69k [00:00<?, ?B/s]"
      ]
     },
     "metadata": {},
     "output_type": "display_data"
    },
    {
     "data": {
      "application/vnd.jupyter.widget-view+json": {
       "model_id": "9ed8506d8b6e476ba32556f60a61d90f",
       "version_major": 2,
       "version_minor": 0
      },
      "text/plain": [
       "Downloading (…)bb8001fa/config.json:   0%|          | 0.00/629 [00:00<?, ?B/s]"
      ]
     },
     "metadata": {},
     "output_type": "display_data"
    },
    {
     "data": {
      "application/vnd.jupyter.widget-view+json": {
       "model_id": "383fe8f58a0e400abdd3159e71771a28",
       "version_major": 2,
       "version_minor": 0
      },
      "text/plain": [
       "Downloading (…)ce_transformers.json:   0%|          | 0.00/122 [00:00<?, ?B/s]"
      ]
     },
     "metadata": {},
     "output_type": "display_data"
    },
    {
     "data": {
      "application/vnd.jupyter.widget-view+json": {
       "model_id": "beb6044c1cdf404faa5eec62b6b2eb7f",
       "version_major": 2,
       "version_minor": 0
      },
      "text/plain": [
       "Downloading pytorch_model.bin:   0%|          | 0.00/90.9M [00:00<?, ?B/s]"
      ]
     },
     "metadata": {},
     "output_type": "display_data"
    },
    {
     "data": {
      "application/vnd.jupyter.widget-view+json": {
       "model_id": "b7ff2506fdf14aa2813cd9865cd2a327",
       "version_major": 2,
       "version_minor": 0
      },
      "text/plain": [
       "Downloading (…)nce_bert_config.json:   0%|          | 0.00/53.0 [00:00<?, ?B/s]"
      ]
     },
     "metadata": {},
     "output_type": "display_data"
    },
    {
     "data": {
      "application/vnd.jupyter.widget-view+json": {
       "model_id": "b671ace5ca9c45819bfd9cdae6680733",
       "version_major": 2,
       "version_minor": 0
      },
      "text/plain": [
       "Downloading (…)cial_tokens_map.json:   0%|          | 0.00/112 [00:00<?, ?B/s]"
      ]
     },
     "metadata": {},
     "output_type": "display_data"
    },
    {
     "data": {
      "application/vnd.jupyter.widget-view+json": {
       "model_id": "cae5d1c071c042ed9b99b223a4959e82",
       "version_major": 2,
       "version_minor": 0
      },
      "text/plain": [
       "Downloading (…)001fa/tokenizer.json:   0%|          | 0.00/466k [00:00<?, ?B/s]"
      ]
     },
     "metadata": {},
     "output_type": "display_data"
    },
    {
     "data": {
      "application/vnd.jupyter.widget-view+json": {
       "model_id": "8d4e22edf68e452e9979681f5a529526",
       "version_major": 2,
       "version_minor": 0
      },
      "text/plain": [
       "Downloading (…)okenizer_config.json:   0%|          | 0.00/314 [00:00<?, ?B/s]"
      ]
     },
     "metadata": {},
     "output_type": "display_data"
    },
    {
     "data": {
      "application/vnd.jupyter.widget-view+json": {
       "model_id": "200e5afe611e4e9bae35dbfe9ecb1e91",
       "version_major": 2,
       "version_minor": 0
      },
      "text/plain": [
       "Downloading (…)3bbb8001fa/vocab.txt:   0%|          | 0.00/232k [00:00<?, ?B/s]"
      ]
     },
     "metadata": {},
     "output_type": "display_data"
    },
    {
     "data": {
      "application/vnd.jupyter.widget-view+json": {
       "model_id": "aefa4665f1ab4bd28bb3adaf6d1819aa",
       "version_major": 2,
       "version_minor": 0
      },
      "text/plain": [
       "Downloading (…)b8001fa/modules.json:   0%|          | 0.00/229 [00:00<?, ?B/s]"
      ]
     },
     "metadata": {},
     "output_type": "display_data"
    }
   ],
   "source": [
    "paraphrase_model = SentenceTransformer(\"sentence-transformers/paraphrase-MiniLM-L6-v2\")"
   ]
  },
  {
   "cell_type": "code",
   "execution_count": 25,
   "id": "01bb1116-6b21-45f7-94f2-49fe6af97658",
   "metadata": {},
   "outputs": [],
   "source": [
    "def embed_paper_info(\n",
    "    records: Union[str, List[str]], convert_to_tensor=True\n",
    ") -> Union[np.ndarray, Tensor]:\n",
    "    if records and isinstance(records, str):\n",
    "        records = [records]\n",
    "    return paraphrase_model.encode(records, convert_to_tensor=convert_to_tensor)"
   ]
  },
  {
   "cell_type": "markdown",
   "id": "77a38e4d-40f6-4484-be82-743f496cfdf8",
   "metadata": {},
   "source": [
    "Then we embed all the nodes' metadata."
   ]
  },
  {
   "cell_type": "code",
   "execution_count": 26,
   "id": "b0734266-b939-4438-8711-f675bfa93479",
   "metadata": {},
   "outputs": [],
   "source": [
    "# Embed the abstracts for GNN features. Embedding is a generic approach for retrieval as well.\n",
    "# Note: NetworkX can't save lists in GEXF format, so we'll JSONize the list & save the embeddings separately.\n",
    "embedded_abstracts: np.ndarray = None\n",
    "if os.path.exists(\"data/embedded_abstracts.npy\"):\n",
    "    embedded_abstracts = np.load(\"data/embedded_abstracts.npy\")\n",
    "else:\n",
    "    embedded_abstracts = embed_paper_info(all_abstracts, convert_to_tensor=False)\n",
    "    np.save(\"data/embedded_abstracts.npy\", embedded_abstracts)\n",
    "\n",
    "node_embedding_dict: Dict[int, List[float]] = {}\n",
    "if os.path.exists(\"data/node_embedding_dict.json.gz\"):\n",
    "    node_embedding_dict = json.load(\n",
    "        gzip.GzipFile(\"data/node_embedding_dict.json.gz\", \"r\"),\n",
    "        # encoding=\"utf-8\",\n",
    "    )\n",
    "else:\n",
    "    for paper_id, emb in zip(paper_ids, embedded_abstracts):\n",
    "        assert emb.shape == (384,)\n",
    "\n",
    "        # Gephi assumes a list of floats is a time series, so we need to convert to a string\n",
    "        emb_list = emb.tolist()\n",
    "        G.nodes[file_to_net[paper_id]][\"Embedding-JSON\"] = json.dumps(emb_list)\n",
    "\n",
    "        node_embedding_dict[paper_id] = emb_list\n",
    "\n",
    "# Write the mapping from paper ID to embedding to JSON.\n",
    "# Note: All JSON keys are strings. We will have to int(key) to read the data back.\n",
    "json.dump(\n",
    "    node_embedding_dict,\n",
    "    io.TextIOWrapper(\n",
    "        gzip.GzipFile(\"data/node_embedding_dict.json.gz\", \"w\"),\n",
    "        encoding=\"utf-8\",\n",
    "    ),\n",
    "    indent=4,\n",
    "    sort_keys=True,\n",
    ")\n",
    "\n",
    "# Write the entire network using GEXF format - the date has to be in UTC format for this to work.\n",
    "nx.write_gexf(G, path=\"data/physics_embeddings.gexf.gz\", prettyprint=True)"
   ]
  },
  {
   "cell_type": "markdown",
   "id": "0f6a32b3-319e-43ac-ab12-a4d906018c2d",
   "metadata": {},
   "source": [
    "# Label Making and K-Nearest-Neighbors (KNN) Graph Building\n",
    "\n",
    "Now we are going to build a pandas `DataFrame` or `pd.DataFrame` of our nodes so we can create clean labels for our journals. These will serve as labels for our machine-learning tasks using this network.\n",
    "\n",
    "In this section, we will also demonstrate another method of building a network - K-nearest-neighbors construction.\n",
    "\n",
    "## Building a Node `pd.DataFrame`"
   ]
  },
  {
   "cell_type": "code",
   "execution_count": 27,
   "id": "65ea0cd4-6b8d-40b6-a3d9-af30157e999b",
   "metadata": {},
   "outputs": [
    {
     "data": {
      "text/html": [
       "<div>\n",
       "<style scoped>\n",
       "    .dataframe tbody tr th:only-of-type {\n",
       "        vertical-align: middle;\n",
       "    }\n",
       "\n",
       "    .dataframe tbody tr th {\n",
       "        vertical-align: top;\n",
       "    }\n",
       "\n",
       "    .dataframe thead th {\n",
       "        text-align: right;\n",
       "    }\n",
       "</style>\n",
       "<table border=\"1\" class=\"dataframe\">\n",
       "  <thead>\n",
       "    <tr style=\"text-align: right;\">\n",
       "      <th></th>\n",
       "      <th>node</th>\n",
       "      <th>file_id</th>\n",
       "      <th>sequential_id</th>\n",
       "      <th>Paper</th>\n",
       "      <th>From</th>\n",
       "      <th>Date</th>\n",
       "      <th>Title</th>\n",
       "      <th>Authors</th>\n",
       "      <th>Comments</th>\n",
       "      <th>Report-no</th>\n",
       "      <th>Published</th>\n",
       "      <th>Journal-ref</th>\n",
       "      <th>Abstract</th>\n",
       "    </tr>\n",
       "  </thead>\n",
       "  <tbody>\n",
       "    <tr>\n",
       "      <th>0</th>\n",
       "      <td>0</td>\n",
       "      <td>1001</td>\n",
       "      <td>0</td>\n",
       "      <td>hep-th/0001001</td>\n",
       "      <td>Paul S. Aspinwall</td>\n",
       "      <td>Sat, 1 Jan 2000 00:02:31 GMT</td>\n",
       "      <td>Compactification, Geometry and Duality: N=2</td>\n",
       "      <td>Paul S. Aspinwall</td>\n",
       "      <td>82 pages, 8 figures, LaTeX2e, TASI99, refs add...</td>\n",
       "      <td>DUKE-CGTP-00-01</td>\n",
       "      <td>946684800.0</td>\n",
       "      <td></td>\n",
       "      <td></td>\n",
       "    </tr>\n",
       "    <tr>\n",
       "      <th>1</th>\n",
       "      <td>1</td>\n",
       "      <td>9304045</td>\n",
       "      <td>1</td>\n",
       "      <td>hep-th/9304045</td>\n",
       "      <td></td>\n",
       "      <td>Sun, 11 Apr 93 12:29:30 -0500</td>\n",
       "      <td>Generalized Calabi-Yau Manifolds and the Mirro...</td>\n",
       "      <td>P. Candelas, E. Derrick and L. Parkes</td>\n",
       "      <td>39 pages, plain TeX</td>\n",
       "      <td>CERN-TH.6831/93, UTTG-24-92</td>\n",
       "      <td></td>\n",
       "      <td>Nucl.Phys. B407 (1993) 115-154</td>\n",
       "      <td>We describe the mirror of the Z orbifold as a ...</td>\n",
       "    </tr>\n",
       "    <tr>\n",
       "      <th>2</th>\n",
       "      <td>2</td>\n",
       "      <td>9308122</td>\n",
       "      <td>2</td>\n",
       "      <td>hep-th/9308122</td>\n",
       "      <td></td>\n",
       "      <td>Thu, 26 Aug 93 14:09:47 SET</td>\n",
       "      <td>Mirror Symmetry, Mirror Map and Applications t...</td>\n",
       "      <td>S. Hosono, A. Klemm, S. Theisen</td>\n",
       "      <td>59 pages. Some changes in the references, a fe...</td>\n",
       "      <td>HUTMP-93/0801, LMU-TPW-93-22</td>\n",
       "      <td></td>\n",
       "      <td>Commun.Math.Phys. 167 (1995) 301-350</td>\n",
       "      <td>Mirror Symmetry, Picard-Fuchs equations and in...</td>\n",
       "    </tr>\n",
       "    <tr>\n",
       "      <th>3</th>\n",
       "      <td>3</td>\n",
       "      <td>9309097</td>\n",
       "      <td>3</td>\n",
       "      <td>hep-th/9309097</td>\n",
       "      <td></td>\n",
       "      <td>Fri, 17 Sep 93 17:18:41 EDT</td>\n",
       "      <td>Calabi-Yau Moduli Space, Mirror Manifolds and ...</td>\n",
       "      <td>P.S. Aspinwall, B.R. Greene and D.R. Morrison</td>\n",
       "      <td>74 pages (with 20 figures)</td>\n",
       "      <td>IASSNS-HEP-93/38, CNLS-93/1236</td>\n",
       "      <td></td>\n",
       "      <td>Nucl.Phys. B416 (1994) 414-480</td>\n",
       "      <td>We analyze the moduli spaces of Calabi-Yau thr...</td>\n",
       "    </tr>\n",
       "    <tr>\n",
       "      <th>4</th>\n",
       "      <td>4</td>\n",
       "      <td>9311042</td>\n",
       "      <td>4</td>\n",
       "      <td>hep-th/9311042</td>\n",
       "      <td></td>\n",
       "      <td>Sun, 7 Nov 93 23:00:47 EST</td>\n",
       "      <td>Measuring Small Distances in N=2 Sigma Models</td>\n",
       "      <td>Paul S. Aspinwall, Brian R. Greene, and David ...</td>\n",
       "      <td>62 pp. with 6 figs., LaTeX and epsf.tex</td>\n",
       "      <td>IASSNS-HEP-93/49</td>\n",
       "      <td></td>\n",
       "      <td>Nucl.Phys. B420 (1994) 184-242</td>\n",
       "      <td>We analyze global aspects of the moduli space ...</td>\n",
       "    </tr>\n",
       "  </tbody>\n",
       "</table>\n",
       "</div>"
      ],
      "text/plain": [
       "   node  file_id  sequential_id           Paper               From  \\\n",
       "0     0     1001              0  hep-th/0001001  Paul S. Aspinwall   \n",
       "1     1  9304045              1  hep-th/9304045                      \n",
       "2     2  9308122              2  hep-th/9308122                      \n",
       "3     3  9309097              3  hep-th/9309097                      \n",
       "4     4  9311042              4  hep-th/9311042                      \n",
       "\n",
       "                            Date  \\\n",
       "0   Sat, 1 Jan 2000 00:02:31 GMT   \n",
       "1  Sun, 11 Apr 93 12:29:30 -0500   \n",
       "2    Thu, 26 Aug 93 14:09:47 SET   \n",
       "3    Fri, 17 Sep 93 17:18:41 EDT   \n",
       "4     Sun, 7 Nov 93 23:00:47 EST   \n",
       "\n",
       "                                               Title  \\\n",
       "0        Compactification, Geometry and Duality: N=2   \n",
       "1  Generalized Calabi-Yau Manifolds and the Mirro...   \n",
       "2  Mirror Symmetry, Mirror Map and Applications t...   \n",
       "3  Calabi-Yau Moduli Space, Mirror Manifolds and ...   \n",
       "4      Measuring Small Distances in N=2 Sigma Models   \n",
       "\n",
       "                                             Authors  \\\n",
       "0                                  Paul S. Aspinwall   \n",
       "1              P. Candelas, E. Derrick and L. Parkes   \n",
       "2                    S. Hosono, A. Klemm, S. Theisen   \n",
       "3      P.S. Aspinwall, B.R. Greene and D.R. Morrison   \n",
       "4  Paul S. Aspinwall, Brian R. Greene, and David ...   \n",
       "\n",
       "                                            Comments  \\\n",
       "0  82 pages, 8 figures, LaTeX2e, TASI99, refs add...   \n",
       "1                                39 pages, plain TeX   \n",
       "2  59 pages. Some changes in the references, a fe...   \n",
       "3                         74 pages (with 20 figures)   \n",
       "4            62 pp. with 6 figs., LaTeX and epsf.tex   \n",
       "\n",
       "                        Report-no    Published  \\\n",
       "0                 DUKE-CGTP-00-01  946684800.0   \n",
       "1     CERN-TH.6831/93, UTTG-24-92                \n",
       "2    HUTMP-93/0801, LMU-TPW-93-22                \n",
       "3  IASSNS-HEP-93/38, CNLS-93/1236                \n",
       "4                IASSNS-HEP-93/49                \n",
       "\n",
       "                            Journal-ref  \\\n",
       "0                                         \n",
       "1        Nucl.Phys. B407 (1993) 115-154   \n",
       "2  Commun.Math.Phys. 167 (1995) 301-350   \n",
       "3        Nucl.Phys. B416 (1994) 414-480   \n",
       "4        Nucl.Phys. B420 (1994) 184-242   \n",
       "\n",
       "                                            Abstract  \n",
       "0                                                     \n",
       "1  We describe the mirror of the Z orbifold as a ...  \n",
       "2  Mirror Symmetry, Picard-Fuchs equations and in...  \n",
       "3  We analyze the moduli spaces of Calabi-Yau thr...  \n",
       "4  We analyze global aspects of the moduli space ...  "
      ]
     },
     "execution_count": 27,
     "metadata": {},
     "output_type": "execute_result"
    }
   ],
   "source": [
    "# Extract nodes and their attributes into a list of dictionaries\n",
    "node_data = [{**{\"node\": node}, **attr} for node, attr in G.nodes(data=True)]\n",
    "\n",
    "# Convert the list of dictionaries into a DataFrame\n",
    "node_df = pd.DataFrame(node_data)\n",
    "\n",
    "# Cleanup\n",
    "node_df.fillna(\"\", inplace=True)\n",
    "\n",
    "node_df.head()"
   ]
  },
  {
   "cell_type": "markdown",
   "id": "7e83edc4-87f5-483b-874b-e4715569dbb0",
   "metadata": {},
   "source": [
    "## Clustering `Journal-ref`\n",
    "\n",
    "Taking a look at the field representing the journal a paper appeared in, we have a problem if we want to use this field as a label for a categorical classification... this is a fuzzy string problem, not a regular expression problem."
   ]
  },
  {
   "cell_type": "code",
   "execution_count": 28,
   "id": "d92b9e53-2e5b-4896-998f-5661722acb21",
   "metadata": {},
   "outputs": [
    {
     "data": {
      "text/plain": [
       "25065                         Phys.Lett. B347 (1995) 21-27\n",
       "26461                     J.Math.Phys. 38 (1997) 5319-5349\n",
       "11901                                                     \n",
       "16275                                                     \n",
       "25951                     J.Math.Phys. 37 (1996) 5342-5350\n",
       "23494                                                     \n",
       "5038                        Nucl.Phys. B505 (1997) 445-460\n",
       "8393                   Class.Quant.Grav. 16 (1999) 849-869\n",
       "4048     In: Quantum Theory and Symmetries, H.-D. Doebn...\n",
       "24092                     J.Math.Phys. 41 (2000) 4379-4386\n",
       "Name: Journal-ref, dtype: object"
      ]
     },
     "execution_count": 28,
     "metadata": {},
     "output_type": "execute_result"
    }
   ],
   "source": [
    "node_df[\"Journal-ref\"].sample(n=10).head(10)"
   ]
  },
  {
   "cell_type": "markdown",
   "id": "253ab1d4-98e8-458e-80eb-1226342d7a6d",
   "metadata": {},
   "source": [
    "### Embedding `Title`, `Abstract` and `Journal-ref`\n",
    "\n",
    "That's ok! We will embed the `Journal-ref` field and cluster it to arrive at our class labels for each journal. This will give us a head start on presenting network construction using K-Nearest-Neighbors in the next section :)\n",
    "\n",
    "#### Simplify `Journal-ref` for Clustering\n",
    "\n",
    "What if we remove all the dates entirely? This should help us find titles :) While I am demonstrating vector operations, we might just use a Bag-of-Words model :)"
   ]
  },
  {
   "cell_type": "code",
   "execution_count": 29,
   "id": "e7d78186-7b6a-47f3-b87f-3a98918b8d4d",
   "metadata": {},
   "outputs": [
    {
     "data": {
      "text/plain": [
       "0                        \n",
       "1              Nucl.Phys.\n",
       "2        Commun.Math.Phys\n",
       "3              Nucl.Phys.\n",
       "4              Nucl.Phys.\n",
       "               ...       \n",
       "27765    Int.J.Theor.Phys\n",
       "27766           J.Phys.AL\n",
       "27767           Phys.Rev.\n",
       "27768          Nucl.Phys.\n",
       "27769                    \n",
       "Name: Journal-ref-Letters, Length: 27770, dtype: object"
      ]
     },
     "execution_count": 29,
     "metadata": {},
     "output_type": "execute_result"
    }
   ],
   "source": [
    "# Remove all non-text characters from Journal-ref to make it cluster better\n",
    "node_df[\"Journal-ref-Letters\"] = node_df[\"Journal-ref\"].str.replace(r\"[^a-zA-Z.]\", \"\", regex=True).str.strip().str[:-1]\n",
    "node_df[\"Journal-ref-Letters\"]"
   ]
  },
  {
   "cell_type": "code",
   "execution_count": 30,
   "id": "38c5e31a-855a-4b3c-af6c-1b570eb2c799",
   "metadata": {},
   "outputs": [],
   "source": [
    "def embed_cache_column(input_col: str, model_name: str, model: SentenceTransformer, df: pd.DataFrame) -> np.ndarray:\n",
    "    \"\"\"Given an input column, model name, SentenceTransformer model and a pd.DataFrame, produce an embedding.\"\"\"\n",
    "\n",
    "    base_path = \"data/embedded_journals\"\n",
    "    file_name = f\"{input_col}-{model_name}-Embedding.npy\"\n",
    "    file_path = os.path.join(base_path, file_name)\n",
    "    \n",
    "    embedding: np.ndarray = None\n",
    "    if os.path.exists(file_path):\n",
    "        embedding = np.load(file_path)\n",
    "        print(f\"Cachce hit for {file_path}\")\n",
    "    else:\n",
    "        print(f\"Cache miss for {file_path}, saved\")\n",
    "        embedding = model.encode(df[column].tolist())\n",
    "        np.save(file_path, embedding)\n",
    "        print(f\"Embedded {column} using {model_name} model\")\n",
    "\n",
    "    return embedding"
   ]
  },
  {
   "cell_type": "code",
   "execution_count": 31,
   "id": "45bf4e54-40a5-4dc9-b77b-86e4ff42d17a",
   "metadata": {},
   "outputs": [
    {
     "name": "stdout",
     "output_type": "stream",
     "text": [
      "Cachce hit for data/embedded_journals/Title-Paraphrase-Embedding.npy\n",
      "Cachce hit for data/embedded_journals/Title-All-Embedding.npy\n",
      "Cachce hit for data/embedded_journals/Abstract-Paraphrase-Embedding.npy\n",
      "Cachce hit for data/embedded_journals/Abstract-All-Embedding.npy\n",
      "Cachce hit for data/embedded_journals/Journal-ref-Paraphrase-Embedding.npy\n",
      "Cachce hit for data/embedded_journals/Journal-ref-All-Embedding.npy\n",
      "Cachce hit for data/embedded_journals/Journal-ref-Letters-Paraphrase-Embedding.npy\n",
      "Cachce hit for data/embedded_journals/Journal-ref-Letters-All-Embedding.npy\n"
     ]
    }
   ],
   "source": [
    "# Step 1. Embed the relevant text columns Journal-ref and cluster them to produce journal class labels.\n",
    "paraphrase_model = SentenceTransformer(\"sentence-transformers/paraphrase-MiniLM-L6-v2\")\n",
    "all_model = SentenceTransformer(\"sentence-transformers/all-MiniLM-L6-v2\")\n",
    "\n",
    "# Embed these columns\n",
    "paraphrase_embeddings: Dict[str, np.ndarray] = {}\n",
    "all_embeddings: Dict[str, np.ndarray] = {}\n",
    "\n",
    "# Generate embeddings, but do cache\n",
    "for column in [\"Title\", \"Abstract\", \"Journal-ref\", \"Journal-ref-Letters\"]:\n",
    "\n",
    "    # Paraphrase model\n",
    "    paraphrase_embeddings[column] = embed_cache_column(column, \"Paraphrase\", paraphrase_model, node_df)\n",
    "    node_df[f\"{column}-Paraphrase-Embedding\"] = paraphrase_embeddings[column].tolist()\n",
    "\n",
    "    # All model\n",
    "    all_embeddings[column] = embed_cache_column(column, \"All\", all_model, node_df)\n",
    "    node_df[f\"{column}-All-Embedding\"] = all_embeddings[column].tolist()   "
   ]
  },
  {
   "cell_type": "markdown",
   "id": "27846474-5bb9-4617-b223-d69074c81673",
   "metadata": {},
   "source": [
    "#### Assign Embeddings back to `node_df` `pd.DataFrame`"
   ]
  },
  {
   "cell_type": "code",
   "execution_count": 32,
   "id": "52417cab-bb35-4667-90ff-4d605c920025",
   "metadata": {},
   "outputs": [
    {
     "data": {
      "text/html": [
       "<div>\n",
       "<style scoped>\n",
       "    .dataframe tbody tr th:only-of-type {\n",
       "        vertical-align: middle;\n",
       "    }\n",
       "\n",
       "    .dataframe tbody tr th {\n",
       "        vertical-align: top;\n",
       "    }\n",
       "\n",
       "    .dataframe thead th {\n",
       "        text-align: right;\n",
       "    }\n",
       "</style>\n",
       "<table border=\"1\" class=\"dataframe\">\n",
       "  <thead>\n",
       "    <tr style=\"text-align: right;\">\n",
       "      <th></th>\n",
       "      <th>Journal-ref</th>\n",
       "      <th>Journal-ref-Letters</th>\n",
       "      <th>Journal-ref-Letters-All-Embedding</th>\n",
       "      <th>Journal-ref-Letters-Paraphrase-Embedding</th>\n",
       "    </tr>\n",
       "  </thead>\n",
       "  <tbody>\n",
       "    <tr>\n",
       "      <th>19481</th>\n",
       "      <td>Nucl.Phys. B641 (2002) 188-222</td>\n",
       "      <td>Nucl.Phys.</td>\n",
       "      <td>[-0.07679721713066101, -0.04238727316260338, -...</td>\n",
       "      <td>[-0.7856213450431824, 0.3381310999393463, 0.08...</td>\n",
       "    </tr>\n",
       "    <tr>\n",
       "      <th>27753</th>\n",
       "      <td>Phys.Rev. D62 (2000) 105014</td>\n",
       "      <td>Phys.Rev.</td>\n",
       "      <td>[-0.06749880313873291, -0.002981759374961257, ...</td>\n",
       "      <td>[-0.5587074160575867, -0.15173284709453583, 0....</td>\n",
       "    </tr>\n",
       "    <tr>\n",
       "      <th>9669</th>\n",
       "      <td>Phys.Lett. B342 (1995) 117-124</td>\n",
       "      <td>Phys.Lett.</td>\n",
       "      <td>[-0.04930078238248825, -0.029769131913781166, ...</td>\n",
       "      <td>[-0.32123279571533203, -0.2982199788093567, 0....</td>\n",
       "    </tr>\n",
       "    <tr>\n",
       "      <th>24678</th>\n",
       "      <td>Mod.Phys.Lett. A9 (1994) 1267-1272</td>\n",
       "      <td>Mod.Phys.Lett.</td>\n",
       "      <td>[-0.11654841899871826, 0.0008772385772317648, ...</td>\n",
       "      <td>[-0.3872363567352295, -0.00283125345595181, 0....</td>\n",
       "    </tr>\n",
       "    <tr>\n",
       "      <th>6638</th>\n",
       "      <td>Phys.Rev. D48 (1993) 5778-5783</td>\n",
       "      <td>Phys.Rev.</td>\n",
       "      <td>[-0.06749877333641052, -0.002981716301292181, ...</td>\n",
       "      <td>[-0.5587078928947449, -0.1517326533794403, 0.3...</td>\n",
       "    </tr>\n",
       "    <tr>\n",
       "      <th>21067</th>\n",
       "      <td>Annalen Phys. 8 (1999) 19-50</td>\n",
       "      <td>AnnalenPhys</td>\n",
       "      <td>[-0.0005380793008953333, 0.041370708495378494,...</td>\n",
       "      <td>[0.2056441754102707, 0.009336523711681366, 0.1...</td>\n",
       "    </tr>\n",
       "    <tr>\n",
       "      <th>660</th>\n",
       "      <td>Nucl.Phys. B523 (1998) 211-231</td>\n",
       "      <td>Nucl.Phys.</td>\n",
       "      <td>[-0.07679721713066101, -0.04238727316260338, -...</td>\n",
       "      <td>[-0.7856213450431824, 0.3381310999393463, 0.08...</td>\n",
       "    </tr>\n",
       "    <tr>\n",
       "      <th>18156</th>\n",
       "      <td></td>\n",
       "      <td></td>\n",
       "      <td>[-0.11883842200040817, 0.04829862713813782, -0...</td>\n",
       "      <td>[0.15472735464572906, 0.18004417419433594, 0.0...</td>\n",
       "    </tr>\n",
       "    <tr>\n",
       "      <th>4960</th>\n",
       "      <td>Nucl.Phys. B427 (1994) 245-272</td>\n",
       "      <td>Nucl.Phys.</td>\n",
       "      <td>[-0.07679721713066101, -0.04238727316260338, -...</td>\n",
       "      <td>[-0.7856213450431824, 0.3381310999393463, 0.08...</td>\n",
       "    </tr>\n",
       "    <tr>\n",
       "      <th>27611</th>\n",
       "      <td></td>\n",
       "      <td></td>\n",
       "      <td>[-0.11883842200040817, 0.04829862713813782, -0...</td>\n",
       "      <td>[0.15472735464572906, 0.18004417419433594, 0.0...</td>\n",
       "    </tr>\n",
       "    <tr>\n",
       "      <th>23686</th>\n",
       "      <td>Phys. Lett. B316 (1993) 282</td>\n",
       "      <td>Phys.Lett.</td>\n",
       "      <td>[-0.04930078238248825, -0.029769131913781166, ...</td>\n",
       "      <td>[-0.32123279571533203, -0.2982199788093567, 0....</td>\n",
       "    </tr>\n",
       "    <tr>\n",
       "      <th>14043</th>\n",
       "      <td>Nucl.Phys. B527 (1998) 479-498</td>\n",
       "      <td>Nucl.Phys.</td>\n",
       "      <td>[-0.07679717987775803, -0.04238726943731308, -...</td>\n",
       "      <td>[-0.7856212258338928, 0.3381311297416687, 0.08...</td>\n",
       "    </tr>\n",
       "    <tr>\n",
       "      <th>20527</th>\n",
       "      <td>J.Math.Phys. 35 (1994) 5219-5246</td>\n",
       "      <td>J.Math.Phys</td>\n",
       "      <td>[-0.08066173642873764, -0.0405711866915226, -0...</td>\n",
       "      <td>[-0.5401061177253723, -0.05109339579939842, 0....</td>\n",
       "    </tr>\n",
       "    <tr>\n",
       "      <th>1367</th>\n",
       "      <td>Chaos Solitons Fractals 10 (1999) 445-458</td>\n",
       "      <td>ChaosSolitonsFractal</td>\n",
       "      <td>[-0.030438361689448357, -0.03950335457921028, ...</td>\n",
       "      <td>[-0.8009364604949951, -0.42895713448524475, -0...</td>\n",
       "    </tr>\n",
       "    <tr>\n",
       "      <th>26476</th>\n",
       "      <td>Phys.Rev. D56 (1997) 1001-1004</td>\n",
       "      <td>Phys.Rev.</td>\n",
       "      <td>[-0.06749877333641052, -0.002981716301292181, ...</td>\n",
       "      <td>[-0.5587078928947449, -0.1517326533794403, 0.3...</td>\n",
       "    </tr>\n",
       "    <tr>\n",
       "      <th>11748</th>\n",
       "      <td>Phys.Rev. D53 (1996) 5717-5722</td>\n",
       "      <td>Phys.Rev.</td>\n",
       "      <td>[-0.06749877333641052, -0.002981716301292181, ...</td>\n",
       "      <td>[-0.5587078928947449, -0.1517326533794403, 0.3...</td>\n",
       "    </tr>\n",
       "    <tr>\n",
       "      <th>12716</th>\n",
       "      <td>Phys.Lett. B516 (2001) 143-150</td>\n",
       "      <td>Phys.Lett.</td>\n",
       "      <td>[-0.04930078238248825, -0.029769131913781166, ...</td>\n",
       "      <td>[-0.32123279571533203, -0.2982199788093567, 0....</td>\n",
       "    </tr>\n",
       "    <tr>\n",
       "      <th>6514</th>\n",
       "      <td>Phys.Rev. D57 (1998) 5134-5140</td>\n",
       "      <td>Phys.Rev.</td>\n",
       "      <td>[-0.06749877333641052, -0.0029817521572113037,...</td>\n",
       "      <td>[-0.5587078928947449, -0.15173283219337463, 0....</td>\n",
       "    </tr>\n",
       "    <tr>\n",
       "      <th>22031</th>\n",
       "      <td></td>\n",
       "      <td></td>\n",
       "      <td>[-0.11883842200040817, 0.04829862713813782, -0...</td>\n",
       "      <td>[0.15472735464572906, 0.18004417419433594, 0.0...</td>\n",
       "    </tr>\n",
       "    <tr>\n",
       "      <th>9350</th>\n",
       "      <td>Nucl.Phys. B457 (1995) 621-642</td>\n",
       "      <td>Nucl.Phys.</td>\n",
       "      <td>[-0.07679721713066101, -0.04238727316260338, -...</td>\n",
       "      <td>[-0.7856213450431824, 0.3381310999393463, 0.08...</td>\n",
       "    </tr>\n",
       "    <tr>\n",
       "      <th>13459</th>\n",
       "      <td></td>\n",
       "      <td></td>\n",
       "      <td>[-0.11883842200040817, 0.04829862713813782, -0...</td>\n",
       "      <td>[0.15472735464572906, 0.18004417419433594, 0.0...</td>\n",
       "    </tr>\n",
       "    <tr>\n",
       "      <th>22474</th>\n",
       "      <td></td>\n",
       "      <td></td>\n",
       "      <td>[-0.11883842200040817, 0.04829862713813782, -0...</td>\n",
       "      <td>[0.15472735464572906, 0.18004417419433594, 0.0...</td>\n",
       "    </tr>\n",
       "    <tr>\n",
       "      <th>9015</th>\n",
       "      <td>JETP Lett. 68 (1998) 117-123</td>\n",
       "      <td>JETPLett</td>\n",
       "      <td>[-0.09054383635520935, 0.025080490857362747, -...</td>\n",
       "      <td>[-0.21361911296844482, 0.4853554666042328, -0....</td>\n",
       "    </tr>\n",
       "    <tr>\n",
       "      <th>5399</th>\n",
       "      <td>Phys.Lett. B444 (1998) 327-331</td>\n",
       "      <td>Phys.Lett.</td>\n",
       "      <td>[-0.04930078238248825, -0.029769131913781166, ...</td>\n",
       "      <td>[-0.32123279571533203, -0.2982199788093567, 0....</td>\n",
       "    </tr>\n",
       "    <tr>\n",
       "      <th>7434</th>\n",
       "      <td>Phys.Lett. B458 (1999) 283-287</td>\n",
       "      <td>Phys.Lett.</td>\n",
       "      <td>[-0.04930078238248825, -0.029769131913781166, ...</td>\n",
       "      <td>[-0.32123279571533203, -0.2982199788093567, 0....</td>\n",
       "    </tr>\n",
       "    <tr>\n",
       "      <th>25506</th>\n",
       "      <td>Int.J.Theor.Phys. 35 (1996) 115-128</td>\n",
       "      <td>Int.J.Theor.Phys</td>\n",
       "      <td>[-0.08923361450433731, 0.011072667315602303, 0...</td>\n",
       "      <td>[-0.2359175831079483, -0.03066324070096016, -0...</td>\n",
       "    </tr>\n",
       "    <tr>\n",
       "      <th>20300</th>\n",
       "      <td></td>\n",
       "      <td></td>\n",
       "      <td>[-0.11883842200040817, 0.04829862713813782, -0...</td>\n",
       "      <td>[0.15472735464572906, 0.18004417419433594, 0.0...</td>\n",
       "    </tr>\n",
       "    <tr>\n",
       "      <th>10458</th>\n",
       "      <td>Annales Poincare Phys.Theor. 71 (1999) 359-394</td>\n",
       "      <td>AnnalesPoincarePhys.Theor</td>\n",
       "      <td>[-0.06845155358314514, 0.07564954459667206, -0...</td>\n",
       "      <td>[-0.4516398012638092, 0.06435784697532654, 0.0...</td>\n",
       "    </tr>\n",
       "    <tr>\n",
       "      <th>12641</th>\n",
       "      <td>J.Geom.Phys. 37 (2001) 100-125</td>\n",
       "      <td>J.Geom.Phys</td>\n",
       "      <td>[-0.06366849690675735, -0.055709488689899445, ...</td>\n",
       "      <td>[-0.6173787713050842, -0.08690330386161804, 0....</td>\n",
       "    </tr>\n",
       "    <tr>\n",
       "      <th>1430</th>\n",
       "      <td>Int.J.Mod.Phys. A14 (1999) 3421-3434</td>\n",
       "      <td>Int.J.Mod.Phys.</td>\n",
       "      <td>[-0.10542818903923035, 0.00243875733576715, -0...</td>\n",
       "      <td>[-0.19118404388427734, -0.21069897711277008, -...</td>\n",
       "    </tr>\n",
       "  </tbody>\n",
       "</table>\n",
       "</div>"
      ],
      "text/plain": [
       "                                          Journal-ref  \\\n",
       "19481                  Nucl.Phys. B641 (2002) 188-222   \n",
       "27753                     Phys.Rev. D62 (2000) 105014   \n",
       "9669                   Phys.Lett. B342 (1995) 117-124   \n",
       "24678              Mod.Phys.Lett. A9 (1994) 1267-1272   \n",
       "6638                   Phys.Rev. D48 (1993) 5778-5783   \n",
       "21067                    Annalen Phys. 8 (1999) 19-50   \n",
       "660                    Nucl.Phys. B523 (1998) 211-231   \n",
       "18156                                                   \n",
       "4960                   Nucl.Phys. B427 (1994) 245-272   \n",
       "27611                                                   \n",
       "23686                     Phys. Lett. B316 (1993) 282   \n",
       "14043                  Nucl.Phys. B527 (1998) 479-498   \n",
       "20527                J.Math.Phys. 35 (1994) 5219-5246   \n",
       "1367        Chaos Solitons Fractals 10 (1999) 445-458   \n",
       "26476                  Phys.Rev. D56 (1997) 1001-1004   \n",
       "11748                  Phys.Rev. D53 (1996) 5717-5722   \n",
       "12716                  Phys.Lett. B516 (2001) 143-150   \n",
       "6514                   Phys.Rev. D57 (1998) 5134-5140   \n",
       "22031                                                   \n",
       "9350                   Nucl.Phys. B457 (1995) 621-642   \n",
       "13459                                                   \n",
       "22474                                                   \n",
       "9015                     JETP Lett. 68 (1998) 117-123   \n",
       "5399                   Phys.Lett. B444 (1998) 327-331   \n",
       "7434                   Phys.Lett. B458 (1999) 283-287   \n",
       "25506             Int.J.Theor.Phys. 35 (1996) 115-128   \n",
       "20300                                                   \n",
       "10458  Annales Poincare Phys.Theor. 71 (1999) 359-394   \n",
       "12641                  J.Geom.Phys. 37 (2001) 100-125   \n",
       "1430             Int.J.Mod.Phys. A14 (1999) 3421-3434   \n",
       "\n",
       "             Journal-ref-Letters  \\\n",
       "19481                 Nucl.Phys.   \n",
       "27753                  Phys.Rev.   \n",
       "9669                  Phys.Lett.   \n",
       "24678             Mod.Phys.Lett.   \n",
       "6638                   Phys.Rev.   \n",
       "21067                AnnalenPhys   \n",
       "660                   Nucl.Phys.   \n",
       "18156                              \n",
       "4960                  Nucl.Phys.   \n",
       "27611                              \n",
       "23686                 Phys.Lett.   \n",
       "14043                 Nucl.Phys.   \n",
       "20527                J.Math.Phys   \n",
       "1367        ChaosSolitonsFractal   \n",
       "26476                  Phys.Rev.   \n",
       "11748                  Phys.Rev.   \n",
       "12716                 Phys.Lett.   \n",
       "6514                   Phys.Rev.   \n",
       "22031                              \n",
       "9350                  Nucl.Phys.   \n",
       "13459                              \n",
       "22474                              \n",
       "9015                    JETPLett   \n",
       "5399                  Phys.Lett.   \n",
       "7434                  Phys.Lett.   \n",
       "25506           Int.J.Theor.Phys   \n",
       "20300                              \n",
       "10458  AnnalesPoincarePhys.Theor   \n",
       "12641                J.Geom.Phys   \n",
       "1430             Int.J.Mod.Phys.   \n",
       "\n",
       "                       Journal-ref-Letters-All-Embedding  \\\n",
       "19481  [-0.07679721713066101, -0.04238727316260338, -...   \n",
       "27753  [-0.06749880313873291, -0.002981759374961257, ...   \n",
       "9669   [-0.04930078238248825, -0.029769131913781166, ...   \n",
       "24678  [-0.11654841899871826, 0.0008772385772317648, ...   \n",
       "6638   [-0.06749877333641052, -0.002981716301292181, ...   \n",
       "21067  [-0.0005380793008953333, 0.041370708495378494,...   \n",
       "660    [-0.07679721713066101, -0.04238727316260338, -...   \n",
       "18156  [-0.11883842200040817, 0.04829862713813782, -0...   \n",
       "4960   [-0.07679721713066101, -0.04238727316260338, -...   \n",
       "27611  [-0.11883842200040817, 0.04829862713813782, -0...   \n",
       "23686  [-0.04930078238248825, -0.029769131913781166, ...   \n",
       "14043  [-0.07679717987775803, -0.04238726943731308, -...   \n",
       "20527  [-0.08066173642873764, -0.0405711866915226, -0...   \n",
       "1367   [-0.030438361689448357, -0.03950335457921028, ...   \n",
       "26476  [-0.06749877333641052, -0.002981716301292181, ...   \n",
       "11748  [-0.06749877333641052, -0.002981716301292181, ...   \n",
       "12716  [-0.04930078238248825, -0.029769131913781166, ...   \n",
       "6514   [-0.06749877333641052, -0.0029817521572113037,...   \n",
       "22031  [-0.11883842200040817, 0.04829862713813782, -0...   \n",
       "9350   [-0.07679721713066101, -0.04238727316260338, -...   \n",
       "13459  [-0.11883842200040817, 0.04829862713813782, -0...   \n",
       "22474  [-0.11883842200040817, 0.04829862713813782, -0...   \n",
       "9015   [-0.09054383635520935, 0.025080490857362747, -...   \n",
       "5399   [-0.04930078238248825, -0.029769131913781166, ...   \n",
       "7434   [-0.04930078238248825, -0.029769131913781166, ...   \n",
       "25506  [-0.08923361450433731, 0.011072667315602303, 0...   \n",
       "20300  [-0.11883842200040817, 0.04829862713813782, -0...   \n",
       "10458  [-0.06845155358314514, 0.07564954459667206, -0...   \n",
       "12641  [-0.06366849690675735, -0.055709488689899445, ...   \n",
       "1430   [-0.10542818903923035, 0.00243875733576715, -0...   \n",
       "\n",
       "                Journal-ref-Letters-Paraphrase-Embedding  \n",
       "19481  [-0.7856213450431824, 0.3381310999393463, 0.08...  \n",
       "27753  [-0.5587074160575867, -0.15173284709453583, 0....  \n",
       "9669   [-0.32123279571533203, -0.2982199788093567, 0....  \n",
       "24678  [-0.3872363567352295, -0.00283125345595181, 0....  \n",
       "6638   [-0.5587078928947449, -0.1517326533794403, 0.3...  \n",
       "21067  [0.2056441754102707, 0.009336523711681366, 0.1...  \n",
       "660    [-0.7856213450431824, 0.3381310999393463, 0.08...  \n",
       "18156  [0.15472735464572906, 0.18004417419433594, 0.0...  \n",
       "4960   [-0.7856213450431824, 0.3381310999393463, 0.08...  \n",
       "27611  [0.15472735464572906, 0.18004417419433594, 0.0...  \n",
       "23686  [-0.32123279571533203, -0.2982199788093567, 0....  \n",
       "14043  [-0.7856212258338928, 0.3381311297416687, 0.08...  \n",
       "20527  [-0.5401061177253723, -0.05109339579939842, 0....  \n",
       "1367   [-0.8009364604949951, -0.42895713448524475, -0...  \n",
       "26476  [-0.5587078928947449, -0.1517326533794403, 0.3...  \n",
       "11748  [-0.5587078928947449, -0.1517326533794403, 0.3...  \n",
       "12716  [-0.32123279571533203, -0.2982199788093567, 0....  \n",
       "6514   [-0.5587078928947449, -0.15173283219337463, 0....  \n",
       "22031  [0.15472735464572906, 0.18004417419433594, 0.0...  \n",
       "9350   [-0.7856213450431824, 0.3381310999393463, 0.08...  \n",
       "13459  [0.15472735464572906, 0.18004417419433594, 0.0...  \n",
       "22474  [0.15472735464572906, 0.18004417419433594, 0.0...  \n",
       "9015   [-0.21361911296844482, 0.4853554666042328, -0....  \n",
       "5399   [-0.32123279571533203, -0.2982199788093567, 0....  \n",
       "7434   [-0.32123279571533203, -0.2982199788093567, 0....  \n",
       "25506  [-0.2359175831079483, -0.03066324070096016, -0...  \n",
       "20300  [0.15472735464572906, 0.18004417419433594, 0.0...  \n",
       "10458  [-0.4516398012638092, 0.06435784697532654, 0.0...  \n",
       "12641  [-0.6173787713050842, -0.08690330386161804, 0....  \n",
       "1430   [-0.19118404388427734, -0.21069897711277008, -...  "
      ]
     },
     "execution_count": 32,
     "metadata": {},
     "output_type": "execute_result"
    }
   ],
   "source": [
    "# Let's go with Journal-ref-Letters-Embedding below, less variance\n",
    "node_df[[\"Journal-ref\", \"Journal-ref-Letters\", \"Journal-ref-Letters-All-Embedding\", \"Journal-ref-Letters-Paraphrase-Embedding\"]].sample(30).head(30)"
   ]
  },
  {
   "cell_type": "markdown",
   "id": "39622cf8-0814-43fe-86a6-b1680754610d",
   "metadata": {},
   "source": [
    "### Clustering `Journal-ref-Letters-Embedding`\n",
    "\n",
    "Now we will use [UMAP](https://umap-learn.readthedocs.io/en/latest/) via the [umap-learn](https://umap-learn.readthedocs.io/en/latest/basic_usage.html) PyPi library to reduce our data to 2 dimensions and then [DBSCAN](https://en.wikipedia.org/wiki/DBSCAN) [which workds with 2D data and infers circles aroud centrioids] via [scikit-learn]() to cluster it into journal names. Our final step is to nominate a real journal name for each cluster, which we will do manually as this course is about graph ML and this is NLP :)\n",
    "\n",
    "Note that while normally you need to [standardize data](https://scikit-learn.org/stable/auto_examples/preprocessing/plot_all_scaling.html#standardscaler) to give it a normal distribution with something like [sklearn.preprocessing.StandardScaler](https://scikit-learn.org/stable/modules/generated/sklearn.preprocessing.StandardScaler.html), you do not need to do this when sentence encoding data with a sentence transformer as we have done.\n",
    "\n",
    "#### KMeans - Did Not Work :)\n",
    "\n",
    "KMeans didn't work, which is probably because I didn't know how to tune it effectively, but DBSCAN is fairly automatic and produced good clusters, so I used that. If you think about it though, KMeans starts with random centroids... and that is why it is splitting journals."
   ]
  },
  {
   "cell_type": "code",
   "execution_count": 33,
   "id": "0920893c-b620-4bac-bffa-32c419d1b880",
   "metadata": {},
   "outputs": [
    {
     "name": "stderr",
     "output_type": "stream",
     "text": [
      "/opt/conda/lib/python3.10/site-packages/sklearn/cluster/_kmeans.py:1416: FutureWarning: The default value of `n_init` will change from 10 to 'auto' in 1.4. Set the value of `n_init` explicitly to suppress the warning\n",
      "  super()._check_params_vs_input(X, default_n_init=10)\n",
      "/opt/conda/lib/python3.10/site-packages/sklearn/cluster/_kmeans.py:1416: FutureWarning: The default value of `n_init` will change from 10 to 'auto' in 1.4. Set the value of `n_init` explicitly to suppress the warning\n",
      "  super()._check_params_vs_input(X, default_n_init=10)\n"
     ]
    }
   ],
   "source": [
    "km = KMeans(\n",
    "    n_clusters=15,\n",
    "    init=\"k-means++\",\n",
    "    max_iter=200,\n",
    ")\n",
    "\n",
    "# Apply to both embeddings\n",
    "paraphrase_class_scores = km.fit_transform(node_df[\"Journal-ref-Letters-Paraphrase-Embedding\"].tolist())\n",
    "paraphrase_classes = np.argmax(paraphrase_class_scores, axis=1)\n",
    "node_df[\"Journal-ref-Letters-Paraphrase-KMeans\"] = paraphrase_classes.tolist()\n",
    "\n",
    "all_class_scores = km.fit_transform(node_df[\"Journal-ref-Letters-All-Embedding\"].tolist())\n",
    "all_classes = np.argmax(all_class_scores, axis=1)\n",
    "node_df[\"Journal-ref-Letters-All-KMeans\"] = all_classes.tolist()"
   ]
  },
  {
   "cell_type": "code",
   "execution_count": 34,
   "id": "4a5a83c5-dbbe-4ccf-b81d-07a57e33d5a2",
   "metadata": {},
   "outputs": [
    {
     "data": {
      "text/plain": [
       "((array([ 1,  2,  3,  5,  8,  9, 10]),\n",
       "  array([    4,  1093,    19,  3516,     2, 23133,     3])),\n",
       " (27770,))"
      ]
     },
     "execution_count": 34,
     "metadata": {},
     "output_type": "execute_result"
    }
   ],
   "source": [
    "np.unique(paraphrase_classes, return_counts=True), paraphrase_classes.shape"
   ]
  },
  {
   "cell_type": "code",
   "execution_count": 35,
   "id": "b814ead0-4090-420a-8956-24d9b9bad9f7",
   "metadata": {},
   "outputs": [
    {
     "data": {
      "text/plain": [
       "((array([ 0,  1,  2,  3,  4,  5,  6,  8, 10, 11, 12, 13]),\n",
       "  array([16825,    50,    52,     3,    11,   938,    14,   100,     7,\n",
       "             4,   120,  9646])),\n",
       " (27770,))"
      ]
     },
     "execution_count": 35,
     "metadata": {},
     "output_type": "execute_result"
    }
   ],
   "source": [
    "np.unique(all_classes, return_counts=True), all_classes.shape"
   ]
  },
  {
   "cell_type": "code",
   "execution_count": 36,
   "id": "78a52bee-c522-4553-9529-e36c91fc3c87",
   "metadata": {},
   "outputs": [
    {
     "data": {
      "text/html": [
       "<div>\n",
       "<style scoped>\n",
       "    .dataframe tbody tr th:only-of-type {\n",
       "        vertical-align: middle;\n",
       "    }\n",
       "\n",
       "    .dataframe tbody tr th {\n",
       "        vertical-align: top;\n",
       "    }\n",
       "\n",
       "    .dataframe thead th {\n",
       "        text-align: right;\n",
       "    }\n",
       "</style>\n",
       "<table border=\"1\" class=\"dataframe\">\n",
       "  <thead>\n",
       "    <tr style=\"text-align: right;\">\n",
       "      <th></th>\n",
       "      <th>Journal-ref</th>\n",
       "      <th>Journal-ref-Letters</th>\n",
       "      <th>Journal-ref-Letters-Paraphrase-KMeans</th>\n",
       "      <th>Journal-ref-Letters-All-KMeans</th>\n",
       "    </tr>\n",
       "  </thead>\n",
       "  <tbody>\n",
       "    <tr>\n",
       "      <th>17376</th>\n",
       "      <td>Class.Quant.Grav. 19 (2002) 5163-5172</td>\n",
       "      <td>Class.Quant.Grav</td>\n",
       "      <td>2</td>\n",
       "      <td>5</td>\n",
       "    </tr>\n",
       "    <tr>\n",
       "      <th>1086</th>\n",
       "      <td>Class.Quant.Grav. 16 (1999) 1733-1736</td>\n",
       "      <td>Class.Quant.Grav</td>\n",
       "      <td>2</td>\n",
       "      <td>5</td>\n",
       "    </tr>\n",
       "    <tr>\n",
       "      <th>21894</th>\n",
       "      <td>Phys.Rev. D60 (1999) 067505</td>\n",
       "      <td>Phys.Rev.</td>\n",
       "      <td>5</td>\n",
       "      <td>0</td>\n",
       "    </tr>\n",
       "    <tr>\n",
       "      <th>8072</th>\n",
       "      <td>Phys.Rev. D46 (1992) 2486-2496</td>\n",
       "      <td>Phys.Rev.</td>\n",
       "      <td>5</td>\n",
       "      <td>0</td>\n",
       "    </tr>\n",
       "    <tr>\n",
       "      <th>16319</th>\n",
       "      <td>Phys.Rev. D65 (2002) 023507</td>\n",
       "      <td>Phys.Rev.</td>\n",
       "      <td>5</td>\n",
       "      <td>0</td>\n",
       "    </tr>\n",
       "    <tr>\n",
       "      <th>26196</th>\n",
       "      <td>Mod.Phys.Lett. B11 (1997) 1-8</td>\n",
       "      <td>Mod.Phys.Lett.</td>\n",
       "      <td>9</td>\n",
       "      <td>0</td>\n",
       "    </tr>\n",
       "    <tr>\n",
       "      <th>14126</th>\n",
       "      <td></td>\n",
       "      <td></td>\n",
       "      <td>9</td>\n",
       "      <td>13</td>\n",
       "    </tr>\n",
       "    <tr>\n",
       "      <th>21440</th>\n",
       "      <td>JHEP 0208 (2002) 024</td>\n",
       "      <td>JHE</td>\n",
       "      <td>9</td>\n",
       "      <td>13</td>\n",
       "    </tr>\n",
       "    <tr>\n",
       "      <th>1893</th>\n",
       "      <td>Phys.Lett. B409 (1997) 131-135</td>\n",
       "      <td>Phys.Lett.</td>\n",
       "      <td>9</td>\n",
       "      <td>0</td>\n",
       "    </tr>\n",
       "    <tr>\n",
       "      <th>9893</th>\n",
       "      <td></td>\n",
       "      <td></td>\n",
       "      <td>9</td>\n",
       "      <td>13</td>\n",
       "    </tr>\n",
       "    <tr>\n",
       "      <th>4699</th>\n",
       "      <td>Phys.Lett. B349 (1995) 438-442</td>\n",
       "      <td>Phys.Lett.</td>\n",
       "      <td>9</td>\n",
       "      <td>0</td>\n",
       "    </tr>\n",
       "    <tr>\n",
       "      <th>25704</th>\n",
       "      <td>J.Phys. A28 (1995) 6877-6886</td>\n",
       "      <td>J.Phys.</td>\n",
       "      <td>9</td>\n",
       "      <td>0</td>\n",
       "    </tr>\n",
       "    <tr>\n",
       "      <th>11655</th>\n",
       "      <td></td>\n",
       "      <td></td>\n",
       "      <td>9</td>\n",
       "      <td>13</td>\n",
       "    </tr>\n",
       "    <tr>\n",
       "      <th>18992</th>\n",
       "      <td></td>\n",
       "      <td></td>\n",
       "      <td>9</td>\n",
       "      <td>13</td>\n",
       "    </tr>\n",
       "    <tr>\n",
       "      <th>18272</th>\n",
       "      <td>Nucl.Phys. B639 (2002) 331-342</td>\n",
       "      <td>Nucl.Phys.</td>\n",
       "      <td>9</td>\n",
       "      <td>0</td>\n",
       "    </tr>\n",
       "    <tr>\n",
       "      <th>18803</th>\n",
       "      <td>Mod.Phys.Lett. A12 (1997) 2445-2454</td>\n",
       "      <td>Mod.Phys.Lett.</td>\n",
       "      <td>9</td>\n",
       "      <td>0</td>\n",
       "    </tr>\n",
       "    <tr>\n",
       "      <th>25809</th>\n",
       "      <td></td>\n",
       "      <td></td>\n",
       "      <td>9</td>\n",
       "      <td>13</td>\n",
       "    </tr>\n",
       "    <tr>\n",
       "      <th>10343</th>\n",
       "      <td>Nucl.Phys. B448 (1995) 429-456</td>\n",
       "      <td>Nucl.Phys.</td>\n",
       "      <td>9</td>\n",
       "      <td>0</td>\n",
       "    </tr>\n",
       "    <tr>\n",
       "      <th>25727</th>\n",
       "      <td></td>\n",
       "      <td></td>\n",
       "      <td>9</td>\n",
       "      <td>13</td>\n",
       "    </tr>\n",
       "    <tr>\n",
       "      <th>11080</th>\n",
       "      <td>JHEP 0005 (2000) 028</td>\n",
       "      <td>JHE</td>\n",
       "      <td>9</td>\n",
       "      <td>13</td>\n",
       "    </tr>\n",
       "    <tr>\n",
       "      <th>8644</th>\n",
       "      <td>Nucl.Phys. B583 (2000) 105-144</td>\n",
       "      <td>Nucl.Phys.</td>\n",
       "      <td>9</td>\n",
       "      <td>0</td>\n",
       "    </tr>\n",
       "    <tr>\n",
       "      <th>16232</th>\n",
       "      <td>JHEP 0105 (2001) 043</td>\n",
       "      <td>JHE</td>\n",
       "      <td>9</td>\n",
       "      <td>13</td>\n",
       "    </tr>\n",
       "    <tr>\n",
       "      <th>25851</th>\n",
       "      <td>Mod.Phys.Lett. A11 (1996) 2065-2082</td>\n",
       "      <td>Mod.Phys.Lett.</td>\n",
       "      <td>9</td>\n",
       "      <td>0</td>\n",
       "    </tr>\n",
       "    <tr>\n",
       "      <th>9007</th>\n",
       "      <td>Phys.Lett. B482 (2000) 241-248</td>\n",
       "      <td>Phys.Lett.</td>\n",
       "      <td>9</td>\n",
       "      <td>0</td>\n",
       "    </tr>\n",
       "    <tr>\n",
       "      <th>16700</th>\n",
       "      <td>Nucl.Phys. B621 (2002) 388-412</td>\n",
       "      <td>Nucl.Phys.</td>\n",
       "      <td>9</td>\n",
       "      <td>0</td>\n",
       "    </tr>\n",
       "    <tr>\n",
       "      <th>3587</th>\n",
       "      <td>Phys.Lett. B313 (1993) 75-82</td>\n",
       "      <td>Phys.Lett.</td>\n",
       "      <td>9</td>\n",
       "      <td>0</td>\n",
       "    </tr>\n",
       "    <tr>\n",
       "      <th>23967</th>\n",
       "      <td></td>\n",
       "      <td></td>\n",
       "      <td>9</td>\n",
       "      <td>13</td>\n",
       "    </tr>\n",
       "    <tr>\n",
       "      <th>4157</th>\n",
       "      <td>Nucl.Phys. B523 (1998) 73-144</td>\n",
       "      <td>Nucl.Phys.</td>\n",
       "      <td>9</td>\n",
       "      <td>0</td>\n",
       "    </tr>\n",
       "    <tr>\n",
       "      <th>25415</th>\n",
       "      <td>Phys. Lett. B354 (1995) 345</td>\n",
       "      <td>Phys.Lett.</td>\n",
       "      <td>9</td>\n",
       "      <td>0</td>\n",
       "    </tr>\n",
       "    <tr>\n",
       "      <th>5356</th>\n",
       "      <td>Nucl. Phys. B440 (1995) 215-236</td>\n",
       "      <td>Nucl.Phys.</td>\n",
       "      <td>9</td>\n",
       "      <td>0</td>\n",
       "    </tr>\n",
       "  </tbody>\n",
       "</table>\n",
       "</div>"
      ],
      "text/plain": [
       "                                 Journal-ref Journal-ref-Letters  \\\n",
       "17376  Class.Quant.Grav. 19 (2002) 5163-5172    Class.Quant.Grav   \n",
       "1086   Class.Quant.Grav. 16 (1999) 1733-1736    Class.Quant.Grav   \n",
       "21894            Phys.Rev. D60 (1999) 067505           Phys.Rev.   \n",
       "8072          Phys.Rev. D46 (1992) 2486-2496           Phys.Rev.   \n",
       "16319            Phys.Rev. D65 (2002) 023507           Phys.Rev.   \n",
       "26196          Mod.Phys.Lett. B11 (1997) 1-8      Mod.Phys.Lett.   \n",
       "14126                                                              \n",
       "21440                   JHEP 0208 (2002) 024                 JHE   \n",
       "1893          Phys.Lett. B409 (1997) 131-135          Phys.Lett.   \n",
       "9893                                                               \n",
       "4699          Phys.Lett. B349 (1995) 438-442          Phys.Lett.   \n",
       "25704           J.Phys. A28 (1995) 6877-6886             J.Phys.   \n",
       "11655                                                              \n",
       "18992                                                              \n",
       "18272         Nucl.Phys. B639 (2002) 331-342          Nucl.Phys.   \n",
       "18803    Mod.Phys.Lett. A12 (1997) 2445-2454      Mod.Phys.Lett.   \n",
       "25809                                                              \n",
       "10343         Nucl.Phys. B448 (1995) 429-456          Nucl.Phys.   \n",
       "25727                                                              \n",
       "11080                   JHEP 0005 (2000) 028                 JHE   \n",
       "8644          Nucl.Phys. B583 (2000) 105-144          Nucl.Phys.   \n",
       "16232                   JHEP 0105 (2001) 043                 JHE   \n",
       "25851    Mod.Phys.Lett. A11 (1996) 2065-2082      Mod.Phys.Lett.   \n",
       "9007          Phys.Lett. B482 (2000) 241-248          Phys.Lett.   \n",
       "16700         Nucl.Phys. B621 (2002) 388-412          Nucl.Phys.   \n",
       "3587            Phys.Lett. B313 (1993) 75-82          Phys.Lett.   \n",
       "23967                                                              \n",
       "4157           Nucl.Phys. B523 (1998) 73-144          Nucl.Phys.   \n",
       "25415            Phys. Lett. B354 (1995) 345          Phys.Lett.   \n",
       "5356         Nucl. Phys. B440 (1995) 215-236          Nucl.Phys.   \n",
       "\n",
       "       Journal-ref-Letters-Paraphrase-KMeans  Journal-ref-Letters-All-KMeans  \n",
       "17376                                      2                               5  \n",
       "1086                                       2                               5  \n",
       "21894                                      5                               0  \n",
       "8072                                       5                               0  \n",
       "16319                                      5                               0  \n",
       "26196                                      9                               0  \n",
       "14126                                      9                              13  \n",
       "21440                                      9                              13  \n",
       "1893                                       9                               0  \n",
       "9893                                       9                              13  \n",
       "4699                                       9                               0  \n",
       "25704                                      9                               0  \n",
       "11655                                      9                              13  \n",
       "18992                                      9                              13  \n",
       "18272                                      9                               0  \n",
       "18803                                      9                               0  \n",
       "25809                                      9                              13  \n",
       "10343                                      9                               0  \n",
       "25727                                      9                              13  \n",
       "11080                                      9                              13  \n",
       "8644                                       9                               0  \n",
       "16232                                      9                              13  \n",
       "25851                                      9                               0  \n",
       "9007                                       9                               0  \n",
       "16700                                      9                               0  \n",
       "3587                                       9                               0  \n",
       "23967                                      9                              13  \n",
       "4157                                       9                               0  \n",
       "25415                                      9                               0  \n",
       "5356                                       9                               0  "
      ]
     },
     "execution_count": 36,
     "metadata": {},
     "output_type": "execute_result"
    }
   ],
   "source": [
    "(\n",
    "    node_df[[\"Journal-ref\", \"Journal-ref-Letters\", \"Journal-ref-Letters-Paraphrase-KMeans\", \"Journal-ref-Letters-All-KMeans\"]]\n",
    "    .sample(30)\n",
    "    .sort_values(by=\"Journal-ref-Letters-Paraphrase-KMeans\")\n",
    ")"
   ]
  },
  {
   "cell_type": "markdown",
   "id": "6b1b937d-67e5-458f-a8d0-079d941d6159",
   "metadata": {},
   "source": [
    "#### KMeans Did Not Work 2.0\n",
    "\n",
    "Although a nice way to begin, KMeans didn't work.\n",
    "\n",
    "**Q: Do any of you have more experience with KMeans than I do that can make it work to produce good journal clusters? :)**"
   ]
  },
  {
   "cell_type": "code",
   "execution_count": 37,
   "id": "6ac9ad4a-14b1-4e8c-bb06-309b309f8b2c",
   "metadata": {},
   "outputs": [
    {
     "data": {
      "text/html": [
       "<style>#sk-container-id-1 {color: black;}#sk-container-id-1 pre{padding: 0;}#sk-container-id-1 div.sk-toggleable {background-color: white;}#sk-container-id-1 label.sk-toggleable__label {cursor: pointer;display: block;width: 100%;margin-bottom: 0;padding: 0.3em;box-sizing: border-box;text-align: center;}#sk-container-id-1 label.sk-toggleable__label-arrow:before {content: \"▸\";float: left;margin-right: 0.25em;color: #696969;}#sk-container-id-1 label.sk-toggleable__label-arrow:hover:before {color: black;}#sk-container-id-1 div.sk-estimator:hover label.sk-toggleable__label-arrow:before {color: black;}#sk-container-id-1 div.sk-toggleable__content {max-height: 0;max-width: 0;overflow: hidden;text-align: left;background-color: #f0f8ff;}#sk-container-id-1 div.sk-toggleable__content pre {margin: 0.2em;color: black;border-radius: 0.25em;background-color: #f0f8ff;}#sk-container-id-1 input.sk-toggleable__control:checked~div.sk-toggleable__content {max-height: 200px;max-width: 100%;overflow: auto;}#sk-container-id-1 input.sk-toggleable__control:checked~label.sk-toggleable__label-arrow:before {content: \"▾\";}#sk-container-id-1 div.sk-estimator input.sk-toggleable__control:checked~label.sk-toggleable__label {background-color: #d4ebff;}#sk-container-id-1 div.sk-label input.sk-toggleable__control:checked~label.sk-toggleable__label {background-color: #d4ebff;}#sk-container-id-1 input.sk-hidden--visually {border: 0;clip: rect(1px 1px 1px 1px);clip: rect(1px, 1px, 1px, 1px);height: 1px;margin: -1px;overflow: hidden;padding: 0;position: absolute;width: 1px;}#sk-container-id-1 div.sk-estimator {font-family: monospace;background-color: #f0f8ff;border: 1px dotted black;border-radius: 0.25em;box-sizing: border-box;margin-bottom: 0.5em;}#sk-container-id-1 div.sk-estimator:hover {background-color: #d4ebff;}#sk-container-id-1 div.sk-parallel-item::after {content: \"\";width: 100%;border-bottom: 1px solid gray;flex-grow: 1;}#sk-container-id-1 div.sk-label:hover label.sk-toggleable__label {background-color: #d4ebff;}#sk-container-id-1 div.sk-serial::before {content: \"\";position: absolute;border-left: 1px solid gray;box-sizing: border-box;top: 0;bottom: 0;left: 50%;z-index: 0;}#sk-container-id-1 div.sk-serial {display: flex;flex-direction: column;align-items: center;background-color: white;padding-right: 0.2em;padding-left: 0.2em;position: relative;}#sk-container-id-1 div.sk-item {position: relative;z-index: 1;}#sk-container-id-1 div.sk-parallel {display: flex;align-items: stretch;justify-content: center;background-color: white;position: relative;}#sk-container-id-1 div.sk-item::before, #sk-container-id-1 div.sk-parallel-item::before {content: \"\";position: absolute;border-left: 1px solid gray;box-sizing: border-box;top: 0;bottom: 0;left: 50%;z-index: -1;}#sk-container-id-1 div.sk-parallel-item {display: flex;flex-direction: column;z-index: 1;position: relative;background-color: white;}#sk-container-id-1 div.sk-parallel-item:first-child::after {align-self: flex-end;width: 50%;}#sk-container-id-1 div.sk-parallel-item:last-child::after {align-self: flex-start;width: 50%;}#sk-container-id-1 div.sk-parallel-item:only-child::after {width: 0;}#sk-container-id-1 div.sk-dashed-wrapped {border: 1px dashed gray;margin: 0 0.4em 0.5em 0.4em;box-sizing: border-box;padding-bottom: 0.4em;background-color: white;}#sk-container-id-1 div.sk-label label {font-family: monospace;font-weight: bold;display: inline-block;line-height: 1.2em;}#sk-container-id-1 div.sk-label-container {text-align: center;}#sk-container-id-1 div.sk-container {/* jupyter's `normalize.less` sets `[hidden] { display: none; }` but bootstrap.min.css set `[hidden] { display: none !important; }` so we also need the `!important` here to be able to override the default hidden behavior on the sphinx rendered scikit-learn.org. See: https://github.com/scikit-learn/scikit-learn/issues/21755 */display: inline-block !important;position: relative;}#sk-container-id-1 div.sk-text-repr-fallback {display: none;}</style><div id=\"sk-container-id-1\" class=\"sk-top-container\"><div class=\"sk-text-repr-fallback\"><pre>UMAP()</pre><b>In a Jupyter environment, please rerun this cell to show the HTML representation or trust the notebook. <br />On GitHub, the HTML representation is unable to render, please try loading this page with nbviewer.org.</b></div><div class=\"sk-container\" hidden><div class=\"sk-item\"><div class=\"sk-estimator sk-toggleable\"><input class=\"sk-toggleable__control sk-hidden--visually\" id=\"sk-estimator-id-1\" type=\"checkbox\" checked><label for=\"sk-estimator-id-1\" class=\"sk-toggleable__label sk-toggleable__label-arrow\">UMAP</label><div class=\"sk-toggleable__content\"><pre>UMAP()</pre></div></div></div></div></div>"
      ],
      "text/plain": [
       "UMAP()"
      ]
     },
     "execution_count": 37,
     "metadata": {},
     "output_type": "execute_result"
    }
   ],
   "source": [
    "# Step 2: Dimension Reduction with UMAP\n",
    "reducer = umap.UMAP()\n",
    "reducer"
   ]
  },
  {
   "cell_type": "code",
   "execution_count": 38,
   "id": "d769fd55-8f03-4f09-a539-c277e2dc0eff",
   "metadata": {},
   "outputs": [
    {
     "data": {
      "text/plain": [
       "(array([[  0.6694817,   3.1932569],\n",
       "        [ 10.338653 , -10.777587 ],\n",
       "        [  0.7822161, -18.627348 ],\n",
       "        ...,\n",
       "        [ -0.8183424,  15.052164 ],\n",
       "        [ 11.771262 , -11.003657 ],\n",
       "        [  7.446892 ,  14.212007 ]], dtype=float32),\n",
       " (27770, 2))"
      ]
     },
     "execution_count": 38,
     "metadata": {},
     "output_type": "execute_result"
    }
   ],
   "source": [
    "reduced_paraphrase_embeddings = reducer.fit_transform(node_df[\"Journal-ref-Letters-Paraphrase-Embedding\"].tolist())\n",
    "reduced_paraphrase_embeddings, reduced_paraphrase_embeddings.shape"
   ]
  },
  {
   "cell_type": "code",
   "execution_count": 39,
   "id": "f3e2d63b-b61b-4e28-98a1-cb920f01dfb0",
   "metadata": {},
   "outputs": [
    {
     "data": {
      "text/plain": [
       "(array([[17.364332 ,  7.73158  ],\n",
       "        [-4.2181897, 18.4123   ],\n",
       "        [ 3.748561 , 15.968807 ],\n",
       "        ...,\n",
       "        [ 8.114671 ,  2.6806543],\n",
       "        [-4.5323467, 17.494972 ],\n",
       "        [17.623558 , -5.4471774]], dtype=float32),\n",
       " (27770, 2))"
      ]
     },
     "execution_count": 39,
     "metadata": {},
     "output_type": "execute_result"
    }
   ],
   "source": [
    "reduced_all_embeddings = reducer.fit_transform(node_df[\"Journal-ref-Letters-All-Embedding\"].tolist())\n",
    "reduced_all_embeddings, reduced_all_embeddings.shape"
   ]
  },
  {
   "cell_type": "markdown",
   "id": "105337a3-7a0a-4c2d-a11e-2e5ec61b93a4",
   "metadata": {},
   "source": [
    "#### Clustering with DBSCAN\n",
    "\n",
    "ChatGPT and I say:\n",
    "\n",
    "> DBSCAN groups together closely packed 2-dimensional data points based on a specified distance measure and minimum number of points. It starts with an arbitrary point, expands clusters from suitable points, and identifies noise points that don't belong to any cluster. This makes it good for finding arbitrary shaped clusters and outliers."
   ]
  },
  {
   "cell_type": "code",
   "execution_count": 40,
   "id": "dca51b0b-2fcb-4aab-b6eb-c8b610b01e15",
   "metadata": {},
   "outputs": [
    {
     "data": {
      "text/html": [
       "<style>#sk-container-id-2 {color: black;}#sk-container-id-2 pre{padding: 0;}#sk-container-id-2 div.sk-toggleable {background-color: white;}#sk-container-id-2 label.sk-toggleable__label {cursor: pointer;display: block;width: 100%;margin-bottom: 0;padding: 0.3em;box-sizing: border-box;text-align: center;}#sk-container-id-2 label.sk-toggleable__label-arrow:before {content: \"▸\";float: left;margin-right: 0.25em;color: #696969;}#sk-container-id-2 label.sk-toggleable__label-arrow:hover:before {color: black;}#sk-container-id-2 div.sk-estimator:hover label.sk-toggleable__label-arrow:before {color: black;}#sk-container-id-2 div.sk-toggleable__content {max-height: 0;max-width: 0;overflow: hidden;text-align: left;background-color: #f0f8ff;}#sk-container-id-2 div.sk-toggleable__content pre {margin: 0.2em;color: black;border-radius: 0.25em;background-color: #f0f8ff;}#sk-container-id-2 input.sk-toggleable__control:checked~div.sk-toggleable__content {max-height: 200px;max-width: 100%;overflow: auto;}#sk-container-id-2 input.sk-toggleable__control:checked~label.sk-toggleable__label-arrow:before {content: \"▾\";}#sk-container-id-2 div.sk-estimator input.sk-toggleable__control:checked~label.sk-toggleable__label {background-color: #d4ebff;}#sk-container-id-2 div.sk-label input.sk-toggleable__control:checked~label.sk-toggleable__label {background-color: #d4ebff;}#sk-container-id-2 input.sk-hidden--visually {border: 0;clip: rect(1px 1px 1px 1px);clip: rect(1px, 1px, 1px, 1px);height: 1px;margin: -1px;overflow: hidden;padding: 0;position: absolute;width: 1px;}#sk-container-id-2 div.sk-estimator {font-family: monospace;background-color: #f0f8ff;border: 1px dotted black;border-radius: 0.25em;box-sizing: border-box;margin-bottom: 0.5em;}#sk-container-id-2 div.sk-estimator:hover {background-color: #d4ebff;}#sk-container-id-2 div.sk-parallel-item::after {content: \"\";width: 100%;border-bottom: 1px solid gray;flex-grow: 1;}#sk-container-id-2 div.sk-label:hover label.sk-toggleable__label {background-color: #d4ebff;}#sk-container-id-2 div.sk-serial::before {content: \"\";position: absolute;border-left: 1px solid gray;box-sizing: border-box;top: 0;bottom: 0;left: 50%;z-index: 0;}#sk-container-id-2 div.sk-serial {display: flex;flex-direction: column;align-items: center;background-color: white;padding-right: 0.2em;padding-left: 0.2em;position: relative;}#sk-container-id-2 div.sk-item {position: relative;z-index: 1;}#sk-container-id-2 div.sk-parallel {display: flex;align-items: stretch;justify-content: center;background-color: white;position: relative;}#sk-container-id-2 div.sk-item::before, #sk-container-id-2 div.sk-parallel-item::before {content: \"\";position: absolute;border-left: 1px solid gray;box-sizing: border-box;top: 0;bottom: 0;left: 50%;z-index: -1;}#sk-container-id-2 div.sk-parallel-item {display: flex;flex-direction: column;z-index: 1;position: relative;background-color: white;}#sk-container-id-2 div.sk-parallel-item:first-child::after {align-self: flex-end;width: 50%;}#sk-container-id-2 div.sk-parallel-item:last-child::after {align-self: flex-start;width: 50%;}#sk-container-id-2 div.sk-parallel-item:only-child::after {width: 0;}#sk-container-id-2 div.sk-dashed-wrapped {border: 1px dashed gray;margin: 0 0.4em 0.5em 0.4em;box-sizing: border-box;padding-bottom: 0.4em;background-color: white;}#sk-container-id-2 div.sk-label label {font-family: monospace;font-weight: bold;display: inline-block;line-height: 1.2em;}#sk-container-id-2 div.sk-label-container {text-align: center;}#sk-container-id-2 div.sk-container {/* jupyter's `normalize.less` sets `[hidden] { display: none; }` but bootstrap.min.css set `[hidden] { display: none !important; }` so we also need the `!important` here to be able to override the default hidden behavior on the sphinx rendered scikit-learn.org. See: https://github.com/scikit-learn/scikit-learn/issues/21755 */display: inline-block !important;position: relative;}#sk-container-id-2 div.sk-text-repr-fallback {display: none;}</style><div id=\"sk-container-id-2\" class=\"sk-top-container\"><div class=\"sk-text-repr-fallback\"><pre>DBSCAN(eps=0.9, min_samples=500)</pre><b>In a Jupyter environment, please rerun this cell to show the HTML representation or trust the notebook. <br />On GitHub, the HTML representation is unable to render, please try loading this page with nbviewer.org.</b></div><div class=\"sk-container\" hidden><div class=\"sk-item\"><div class=\"sk-estimator sk-toggleable\"><input class=\"sk-toggleable__control sk-hidden--visually\" id=\"sk-estimator-id-2\" type=\"checkbox\" checked><label for=\"sk-estimator-id-2\" class=\"sk-toggleable__label sk-toggleable__label-arrow\">DBSCAN</label><div class=\"sk-toggleable__content\"><pre>DBSCAN(eps=0.9, min_samples=500)</pre></div></div></div></div></div>"
      ],
      "text/plain": [
       "DBSCAN(eps=0.9, min_samples=500)"
      ]
     },
     "execution_count": 40,
     "metadata": {},
     "output_type": "execute_result"
    }
   ],
   "source": [
    "# Step 3: Clustering with DBSCAN - you can search for the best hyperparameters\n",
    "dbscan = DBSCAN(eps=0.9, min_samples=500)#, metric=\"l1\")\n",
    "dbscan"
   ]
  },
  {
   "cell_type": "code",
   "execution_count": 41,
   "id": "80dc8a60-a110-45d1-a87a-021dc5137a15",
   "metadata": {},
   "outputs": [],
   "source": [
    "paraphrase_clusters = dbscan.fit_predict(reduced_paraphrase_embeddings)\n",
    "node_df[\"Journal-ref-Letters-Paraphrase-DBSCAN\"] = paraphrase_clusters"
   ]
  },
  {
   "cell_type": "code",
   "execution_count": 42,
   "id": "19d9d243-8b51-4c6c-aa78-bcd773843a25",
   "metadata": {},
   "outputs": [
    {
     "data": {
      "text/plain": [
       "(array([-1,  0,  1,  2,  3,  4,  5,  6,  7,  8,  9]),\n",
       " array([5415, 6997, 3747, 3853, 1285, 1721,  551, 1046, 1069, 1555,  531]))"
      ]
     },
     "execution_count": 42,
     "metadata": {},
     "output_type": "execute_result"
    }
   ],
   "source": [
    "# Count the clusters and their sizes\n",
    "np.unique(paraphrase_clusters, return_counts=True)"
   ]
  },
  {
   "cell_type": "code",
   "execution_count": 43,
   "id": "b9cf21f9-8ea6-41a2-90db-51a5cc5ff9c9",
   "metadata": {},
   "outputs": [],
   "source": [
    "all_clusters = dbscan.fit_predict(reduced_all_embeddings)\n",
    "node_df[\"Journal-ref-Letters-All-DBSCAN\"] = all_clusters"
   ]
  },
  {
   "cell_type": "code",
   "execution_count": 44,
   "id": "01088c9b-c7ea-481d-ab01-69c95a11d75c",
   "metadata": {},
   "outputs": [
    {
     "data": {
      "text/plain": [
       "(array([-1,  0,  1,  2,  3,  4,  5,  6,  7,  8,  9]),\n",
       " array([5387, 6997, 3763, 3845, 1285, 1717,  558, 1050, 1065, 1555,  548]))"
      ]
     },
     "execution_count": 44,
     "metadata": {},
     "output_type": "execute_result"
    }
   ],
   "source": [
    "# Count the clusters and their sizes\n",
    "np.unique(all_clusters, return_counts=True)"
   ]
  },
  {
   "cell_type": "markdown",
   "id": "8c7bba40-1f37-40c0-8dde-9387c28ed274",
   "metadata": {},
   "source": [
    "#### Viewing DBSCAN Clusters\n",
    "\n",
    "Let's take a look comparing our two embeddings' clusters... first we need to drop the many records without Journal labels. Those make for bad positive labels... but could be a good source of negative labels, by which we could avoid negative sampling!"
   ]
  },
  {
   "cell_type": "code",
   "execution_count": 45,
   "id": "d935182e-e1d4-42fc-892a-f0b3508f0619",
   "metadata": {},
   "outputs": [],
   "source": [
    "cluster_eval_df = node_df[[\n",
    "    \"Journal-ref\",\n",
    "    \"Journal-ref-Letters\",\n",
    "    \"Journal-ref-Letters-Paraphrase-DBSCAN\",\n",
    "    \"Journal-ref-Letters-All-DBSCAN\"\n",
    "]]"
   ]
  },
  {
   "cell_type": "code",
   "execution_count": 46,
   "id": "35aaee4c-01a0-41e5-aafd-109de9824c4b",
   "metadata": {},
   "outputs": [
    {
     "name": "stderr",
     "output_type": "stream",
     "text": [
      "/tmp/ipykernel_357/543051146.py:2: SettingWithCopyWarning: \n",
      "A value is trying to be set on a copy of a slice from a DataFrame\n",
      "\n",
      "See the caveats in the documentation: https://pandas.pydata.org/pandas-docs/stable/user_guide/indexing.html#returning-a-view-versus-a-copy\n",
      "  cluster_eval_df.replace(r\"^\\s*$\", \"\", regex=True, inplace=True)\n",
      "/tmp/ipykernel_357/543051146.py:8: SettingWithCopyWarning: \n",
      "A value is trying to be set on a copy of a slice from a DataFrame\n",
      "\n",
      "See the caveats in the documentation: https://pandas.pydata.org/pandas-docs/stable/user_guide/indexing.html#returning-a-view-versus-a-copy\n",
      "  cluster_eval_df.drop(empty_rows, inplace=True)\n"
     ]
    }
   ],
   "source": [
    "# Replace all-whitespace strings with empty strings\n",
    "cluster_eval_df.replace(r\"^\\s*$\", \"\", regex=True, inplace=True)\n",
    "\n",
    "# Identify rows where any field is an empty string\n",
    "empty_rows = cluster_eval_df[cluster_eval_df.eq(\"\").any(axis=1)].index\n",
    "\n",
    "# Drop those rows\n",
    "cluster_eval_df.drop(empty_rows, inplace=True)"
   ]
  },
  {
   "cell_type": "code",
   "execution_count": 47,
   "id": "34a2cab6-e936-4716-a3d3-bc3ceb093043",
   "metadata": {},
   "outputs": [
    {
     "data": {
      "text/html": [
       "<div>\n",
       "<style scoped>\n",
       "    .dataframe tbody tr th:only-of-type {\n",
       "        vertical-align: middle;\n",
       "    }\n",
       "\n",
       "    .dataframe tbody tr th {\n",
       "        vertical-align: top;\n",
       "    }\n",
       "\n",
       "    .dataframe thead th {\n",
       "        text-align: right;\n",
       "    }\n",
       "</style>\n",
       "<table border=\"1\" class=\"dataframe\">\n",
       "  <thead>\n",
       "    <tr style=\"text-align: right;\">\n",
       "      <th></th>\n",
       "      <th>Journal-ref</th>\n",
       "      <th>Journal-ref-Letters</th>\n",
       "      <th>Journal-ref-Letters-Paraphrase-DBSCAN</th>\n",
       "      <th>Journal-ref-Letters-All-DBSCAN</th>\n",
       "    </tr>\n",
       "  </thead>\n",
       "  <tbody>\n",
       "    <tr>\n",
       "      <th>25932</th>\n",
       "      <td>Acta Phys.Polon. B28 (1997) 1039-1070</td>\n",
       "      <td>ActaPhys.Polon.</td>\n",
       "      <td>-1</td>\n",
       "      <td>-1</td>\n",
       "    </tr>\n",
       "    <tr>\n",
       "      <th>1064</th>\n",
       "      <td>Nature 387 (1997) 58</td>\n",
       "      <td>Natur</td>\n",
       "      <td>0</td>\n",
       "      <td>-1</td>\n",
       "    </tr>\n",
       "    <tr>\n",
       "      <th>2636</th>\n",
       "      <td>Nucl.Phys. B434 (1995) 283-318; Erratum-ibid. ...</td>\n",
       "      <td>Nucl.Phys.BErratumibid.</td>\n",
       "      <td>-1</td>\n",
       "      <td>-1</td>\n",
       "    </tr>\n",
       "    <tr>\n",
       "      <th>13915</th>\n",
       "      <td>Eur.Phys.J. C18 (2001) 785-794</td>\n",
       "      <td>Eur.Phys.J.</td>\n",
       "      <td>-1</td>\n",
       "      <td>-1</td>\n",
       "    </tr>\n",
       "    <tr>\n",
       "      <th>22490</th>\n",
       "      <td>Phys.Rev. D67 (2003) 044001</td>\n",
       "      <td>Phys.Rev.</td>\n",
       "      <td>-1</td>\n",
       "      <td>-1</td>\n",
       "    </tr>\n",
       "    <tr>\n",
       "      <th>27164</th>\n",
       "      <td>AIP Conf.Proc. 453 (1998) 394-403</td>\n",
       "      <td>AIPConf.Proc</td>\n",
       "      <td>-1</td>\n",
       "      <td>-1</td>\n",
       "    </tr>\n",
       "    <tr>\n",
       "      <th>13821</th>\n",
       "      <td>Lett. Math. Phys. 35 (1995) 229-236</td>\n",
       "      <td>Lett.Math.Phys</td>\n",
       "      <td>-1</td>\n",
       "      <td>-1</td>\n",
       "    </tr>\n",
       "    <tr>\n",
       "      <th>10723</th>\n",
       "      <td>Commun.Math.Phys. 169 (1995) 1-24</td>\n",
       "      <td>Commun.Math.Phys</td>\n",
       "      <td>-1</td>\n",
       "      <td>-1</td>\n",
       "    </tr>\n",
       "    <tr>\n",
       "      <th>7905</th>\n",
       "      <td>Rev.Math.Phys. 11 (1999) 1091-1149</td>\n",
       "      <td>Rev.Math.Phys</td>\n",
       "      <td>-1</td>\n",
       "      <td>-1</td>\n",
       "    </tr>\n",
       "    <tr>\n",
       "      <th>13573</th>\n",
       "      <td>Int.J.Theor.Phys. 38 (1999) 1181-1206</td>\n",
       "      <td>Int.J.Theor.Phys</td>\n",
       "      <td>-1</td>\n",
       "      <td>-1</td>\n",
       "    </tr>\n",
       "    <tr>\n",
       "      <th>22174</th>\n",
       "      <td>J.Phys. A36 (2003) 1643-1654</td>\n",
       "      <td>J.Phys.</td>\n",
       "      <td>-1</td>\n",
       "      <td>-1</td>\n",
       "    </tr>\n",
       "    <tr>\n",
       "      <th>24344</th>\n",
       "      <td>J.Phys. A26 (1993) L45-L52</td>\n",
       "      <td>J.Phys.AL</td>\n",
       "      <td>-1</td>\n",
       "      <td>-1</td>\n",
       "    </tr>\n",
       "    <tr>\n",
       "      <th>19245</th>\n",
       "      <td>Phys.Rev.Lett. 88 (2002) 111602</td>\n",
       "      <td>Phys.Rev.Lett</td>\n",
       "      <td>-1</td>\n",
       "      <td>-1</td>\n",
       "    </tr>\n",
       "    <tr>\n",
       "      <th>18238</th>\n",
       "      <td>Phys.Rev. D65 (2002) 045004</td>\n",
       "      <td>Phys.Rev.</td>\n",
       "      <td>-1</td>\n",
       "      <td>-1</td>\n",
       "    </tr>\n",
       "    <tr>\n",
       "      <th>2059</th>\n",
       "      <td>Path Integral from peV to TeV, 50 years after ...</td>\n",
       "      <td>PathIntegralfrompeVtoTeVyearsafterFeynmansPape</td>\n",
       "      <td>-1</td>\n",
       "      <td>-1</td>\n",
       "    </tr>\n",
       "    <tr>\n",
       "      <th>14227</th>\n",
       "      <td>J.Phys. A29 (1996) 559-564</td>\n",
       "      <td>J.Phys.</td>\n",
       "      <td>-1</td>\n",
       "      <td>-1</td>\n",
       "    </tr>\n",
       "    <tr>\n",
       "      <th>1974</th>\n",
       "      <td>Commun. Math. Phys. 157 (1993) 139-178</td>\n",
       "      <td>Commun.Math.Phys</td>\n",
       "      <td>-1</td>\n",
       "      <td>-1</td>\n",
       "    </tr>\n",
       "    <tr>\n",
       "      <th>3114</th>\n",
       "      <td>Phys.Rev.Lett. 78 (1997) 1412-1415</td>\n",
       "      <td>Phys.Rev.Lett</td>\n",
       "      <td>-1</td>\n",
       "      <td>-1</td>\n",
       "    </tr>\n",
       "    <tr>\n",
       "      <th>25006</th>\n",
       "      <td>Lett.Math.Phys. 36 (1996) 101-108</td>\n",
       "      <td>Lett.Math.Phys</td>\n",
       "      <td>-1</td>\n",
       "      <td>-1</td>\n",
       "    </tr>\n",
       "    <tr>\n",
       "      <th>9249</th>\n",
       "      <td>Nucl.Phys. B406 (1993) 499-515</td>\n",
       "      <td>Nucl.Phys.</td>\n",
       "      <td>1</td>\n",
       "      <td>1</td>\n",
       "    </tr>\n",
       "    <tr>\n",
       "      <th>13253</th>\n",
       "      <td>Nucl.Phys. B566 (2000) 331-347</td>\n",
       "      <td>Nucl.Phys.</td>\n",
       "      <td>1</td>\n",
       "      <td>1</td>\n",
       "    </tr>\n",
       "    <tr>\n",
       "      <th>902</th>\n",
       "      <td>Nucl.Phys. B574 (2000) 761-781</td>\n",
       "      <td>Nucl.Phys.</td>\n",
       "      <td>1</td>\n",
       "      <td>1</td>\n",
       "    </tr>\n",
       "    <tr>\n",
       "      <th>5724</th>\n",
       "      <td>Nucl.Phys. B573 (2000) 275-290</td>\n",
       "      <td>Nucl.Phys.</td>\n",
       "      <td>1</td>\n",
       "      <td>1</td>\n",
       "    </tr>\n",
       "    <tr>\n",
       "      <th>4040</th>\n",
       "      <td>Nucl.Phys. B574 (2000) 263-274</td>\n",
       "      <td>Nucl.Phys.</td>\n",
       "      <td>1</td>\n",
       "      <td>1</td>\n",
       "    </tr>\n",
       "    <tr>\n",
       "      <th>21859</th>\n",
       "      <td>Nucl.Phys. B651 (2003) 71-86</td>\n",
       "      <td>Nucl.Phys.</td>\n",
       "      <td>1</td>\n",
       "      <td>1</td>\n",
       "    </tr>\n",
       "    <tr>\n",
       "      <th>7804</th>\n",
       "      <td>Nucl. Phys. B408 (1993) 551</td>\n",
       "      <td>Nucl.Phys.</td>\n",
       "      <td>1</td>\n",
       "      <td>1</td>\n",
       "    </tr>\n",
       "    <tr>\n",
       "      <th>20553</th>\n",
       "      <td>Nucl.Phys. B654 (2003) 357-403</td>\n",
       "      <td>Nucl.Phys.</td>\n",
       "      <td>1</td>\n",
       "      <td>1</td>\n",
       "    </tr>\n",
       "    <tr>\n",
       "      <th>4191</th>\n",
       "      <td>Nucl.Phys. B437 (1995) 611-626</td>\n",
       "      <td>Nucl.Phys.</td>\n",
       "      <td>1</td>\n",
       "      <td>1</td>\n",
       "    </tr>\n",
       "    <tr>\n",
       "      <th>10906</th>\n",
       "      <td>Nucl.Phys. B474 (1996) 641-677</td>\n",
       "      <td>Nucl.Phys.</td>\n",
       "      <td>1</td>\n",
       "      <td>1</td>\n",
       "    </tr>\n",
       "    <tr>\n",
       "      <th>6564</th>\n",
       "      <td>Phys.Lett. B336 (1994) 402-408</td>\n",
       "      <td>Phys.Lett.</td>\n",
       "      <td>2</td>\n",
       "      <td>2</td>\n",
       "    </tr>\n",
       "    <tr>\n",
       "      <th>9186</th>\n",
       "      <td>Phys.Lett. B482 (2000) 205-212</td>\n",
       "      <td>Phys.Lett.</td>\n",
       "      <td>2</td>\n",
       "      <td>2</td>\n",
       "    </tr>\n",
       "    <tr>\n",
       "      <th>14483</th>\n",
       "      <td>Phys.Lett. B504 (2001) 157-164</td>\n",
       "      <td>Phys.Lett.</td>\n",
       "      <td>2</td>\n",
       "      <td>2</td>\n",
       "    </tr>\n",
       "    <tr>\n",
       "      <th>5728</th>\n",
       "      <td>Phys.Lett. B279 (1992) 291-298</td>\n",
       "      <td>Phys.Lett.</td>\n",
       "      <td>2</td>\n",
       "      <td>2</td>\n",
       "    </tr>\n",
       "    <tr>\n",
       "      <th>18638</th>\n",
       "      <td>Phys.Lett. B441 (1998) 275-284</td>\n",
       "      <td>Phys.Lett.</td>\n",
       "      <td>2</td>\n",
       "      <td>2</td>\n",
       "    </tr>\n",
       "    <tr>\n",
       "      <th>2893</th>\n",
       "      <td>Phys.Lett. B423 (1998) 261-264</td>\n",
       "      <td>Phys.Lett.</td>\n",
       "      <td>2</td>\n",
       "      <td>2</td>\n",
       "    </tr>\n",
       "    <tr>\n",
       "      <th>14453</th>\n",
       "      <td>Phys.Lett. B506 (2001) 161-166</td>\n",
       "      <td>Phys.Lett.</td>\n",
       "      <td>2</td>\n",
       "      <td>2</td>\n",
       "    </tr>\n",
       "    <tr>\n",
       "      <th>18665</th>\n",
       "      <td>Phys.Lett. B357 (1995) 588</td>\n",
       "      <td>Phys.Lett.</td>\n",
       "      <td>2</td>\n",
       "      <td>2</td>\n",
       "    </tr>\n",
       "    <tr>\n",
       "      <th>16963</th>\n",
       "      <td>Phys.Lett. B512 (2001) 189-196</td>\n",
       "      <td>Phys.Lett.</td>\n",
       "      <td>2</td>\n",
       "      <td>2</td>\n",
       "    </tr>\n",
       "    <tr>\n",
       "      <th>12453</th>\n",
       "      <td>Phys.Lett. B332 (1994) 277-282</td>\n",
       "      <td>Phys.Lett.</td>\n",
       "      <td>2</td>\n",
       "      <td>2</td>\n",
       "    </tr>\n",
       "    <tr>\n",
       "      <th>6442</th>\n",
       "      <td>Phys.Lett. B472 (2000) 67-76</td>\n",
       "      <td>Phys.Lett.</td>\n",
       "      <td>2</td>\n",
       "      <td>2</td>\n",
       "    </tr>\n",
       "    <tr>\n",
       "      <th>9430</th>\n",
       "      <td>Phys.Lett. B489 (2000) 207-215</td>\n",
       "      <td>Phys.Lett.</td>\n",
       "      <td>2</td>\n",
       "      <td>2</td>\n",
       "    </tr>\n",
       "    <tr>\n",
       "      <th>5388</th>\n",
       "      <td>Phys.Lett. B320 (1994) 16-20</td>\n",
       "      <td>Phys.Lett.</td>\n",
       "      <td>2</td>\n",
       "      <td>2</td>\n",
       "    </tr>\n",
       "    <tr>\n",
       "      <th>18834</th>\n",
       "      <td>Phys.Lett. B526 (2002) 405-412</td>\n",
       "      <td>Phys.Lett.</td>\n",
       "      <td>2</td>\n",
       "      <td>2</td>\n",
       "    </tr>\n",
       "    <tr>\n",
       "      <th>6706</th>\n",
       "      <td>Phys.Lett. B443 (1998) 159-166</td>\n",
       "      <td>Phys.Lett.</td>\n",
       "      <td>2</td>\n",
       "      <td>2</td>\n",
       "    </tr>\n",
       "    <tr>\n",
       "      <th>3534</th>\n",
       "      <td>Phys. Lett. B323 (1994) 330-338</td>\n",
       "      <td>Phys.Lett.</td>\n",
       "      <td>2</td>\n",
       "      <td>2</td>\n",
       "    </tr>\n",
       "    <tr>\n",
       "      <th>14258</th>\n",
       "      <td>Phys.Lett. A276 (2000) 225-232</td>\n",
       "      <td>Phys.Lett.</td>\n",
       "      <td>2</td>\n",
       "      <td>2</td>\n",
       "    </tr>\n",
       "    <tr>\n",
       "      <th>10720</th>\n",
       "      <td>Phys.Lett. B463 (1999) 181-187</td>\n",
       "      <td>Phys.Lett.</td>\n",
       "      <td>2</td>\n",
       "      <td>2</td>\n",
       "    </tr>\n",
       "    <tr>\n",
       "      <th>10845</th>\n",
       "      <td>Phys.Rev. D60 (1999) 045001</td>\n",
       "      <td>Phys.Rev.</td>\n",
       "      <td>3</td>\n",
       "      <td>3</td>\n",
       "    </tr>\n",
       "    <tr>\n",
       "      <th>6480</th>\n",
       "      <td>Phys.Rev. D52 (1995) 6988-6996</td>\n",
       "      <td>Phys.Rev.</td>\n",
       "      <td>3</td>\n",
       "      <td>3</td>\n",
       "    </tr>\n",
       "    <tr>\n",
       "      <th>9457</th>\n",
       "      <td>Phys.Rev. D50 (1994) 5262-5273</td>\n",
       "      <td>Phys.Rev.</td>\n",
       "      <td>3</td>\n",
       "      <td>3</td>\n",
       "    </tr>\n",
       "    <tr>\n",
       "      <th>2983</th>\n",
       "      <td>JHEP 9911 (1999) 031</td>\n",
       "      <td>JHE</td>\n",
       "      <td>4</td>\n",
       "      <td>4</td>\n",
       "    </tr>\n",
       "    <tr>\n",
       "      <th>8461</th>\n",
       "      <td>Int.J.Mod.Phys. A10 (1995) 2097-2122</td>\n",
       "      <td>Int.J.Mod.Phys.</td>\n",
       "      <td>6</td>\n",
       "      <td>6</td>\n",
       "    </tr>\n",
       "    <tr>\n",
       "      <th>4489</th>\n",
       "      <td>Int.J.Mod.Phys. A14 (1999) 1153-1162</td>\n",
       "      <td>Int.J.Mod.Phys.</td>\n",
       "      <td>6</td>\n",
       "      <td>6</td>\n",
       "    </tr>\n",
       "    <tr>\n",
       "      <th>27118</th>\n",
       "      <td>Mod.Phys.Lett. A13 (1998) 2779-2788</td>\n",
       "      <td>Mod.Phys.Lett.</td>\n",
       "      <td>7</td>\n",
       "      <td>7</td>\n",
       "    </tr>\n",
       "    <tr>\n",
       "      <th>19074</th>\n",
       "      <td>Phys.Rev. D66 (2002) 025020</td>\n",
       "      <td>Phys.Rev.</td>\n",
       "      <td>8</td>\n",
       "      <td>8</td>\n",
       "    </tr>\n",
       "    <tr>\n",
       "      <th>16953</th>\n",
       "      <td>Phys.Rev. D65 (2002) 025001</td>\n",
       "      <td>Phys.Rev.</td>\n",
       "      <td>8</td>\n",
       "      <td>8</td>\n",
       "    </tr>\n",
       "    <tr>\n",
       "      <th>13744</th>\n",
       "      <td>Phys.Rev. D64 (2001) 025023</td>\n",
       "      <td>Phys.Rev.</td>\n",
       "      <td>8</td>\n",
       "      <td>8</td>\n",
       "    </tr>\n",
       "    <tr>\n",
       "      <th>16799</th>\n",
       "      <td>Phys.Rev. D65 (2002) 085027</td>\n",
       "      <td>Phys.Rev.</td>\n",
       "      <td>8</td>\n",
       "      <td>8</td>\n",
       "    </tr>\n",
       "    <tr>\n",
       "      <th>9640</th>\n",
       "      <td>J.Math.Phys. 40 (1999) 6009-6032</td>\n",
       "      <td>J.Math.Phys</td>\n",
       "      <td>9</td>\n",
       "      <td>9</td>\n",
       "    </tr>\n",
       "    <tr>\n",
       "      <th>1649</th>\n",
       "      <td>J.Math.Phys. 40 (1999) 6254-6265</td>\n",
       "      <td>J.Math.Phys</td>\n",
       "      <td>9</td>\n",
       "      <td>9</td>\n",
       "    </tr>\n",
       "  </tbody>\n",
       "</table>\n",
       "</div>"
      ],
      "text/plain": [
       "                                             Journal-ref  \\\n",
       "25932              Acta Phys.Polon. B28 (1997) 1039-1070   \n",
       "1064                                Nature 387 (1997) 58   \n",
       "2636   Nucl.Phys. B434 (1995) 283-318; Erratum-ibid. ...   \n",
       "13915                     Eur.Phys.J. C18 (2001) 785-794   \n",
       "22490                        Phys.Rev. D67 (2003) 044001   \n",
       "27164                  AIP Conf.Proc. 453 (1998) 394-403   \n",
       "13821                Lett. Math. Phys. 35 (1995) 229-236   \n",
       "10723                  Commun.Math.Phys. 169 (1995) 1-24   \n",
       "7905                  Rev.Math.Phys. 11 (1999) 1091-1149   \n",
       "13573              Int.J.Theor.Phys. 38 (1999) 1181-1206   \n",
       "22174                       J.Phys. A36 (2003) 1643-1654   \n",
       "24344                         J.Phys. A26 (1993) L45-L52   \n",
       "19245                    Phys.Rev.Lett. 88 (2002) 111602   \n",
       "18238                        Phys.Rev. D65 (2002) 045004   \n",
       "2059   Path Integral from peV to TeV, 50 years after ...   \n",
       "14227                         J.Phys. A29 (1996) 559-564   \n",
       "1974              Commun. Math. Phys. 157 (1993) 139-178   \n",
       "3114                  Phys.Rev.Lett. 78 (1997) 1412-1415   \n",
       "25006                  Lett.Math.Phys. 36 (1996) 101-108   \n",
       "9249                      Nucl.Phys. B406 (1993) 499-515   \n",
       "13253                     Nucl.Phys. B566 (2000) 331-347   \n",
       "902                       Nucl.Phys. B574 (2000) 761-781   \n",
       "5724                      Nucl.Phys. B573 (2000) 275-290   \n",
       "4040                      Nucl.Phys. B574 (2000) 263-274   \n",
       "21859                       Nucl.Phys. B651 (2003) 71-86   \n",
       "7804                         Nucl. Phys. B408 (1993) 551   \n",
       "20553                     Nucl.Phys. B654 (2003) 357-403   \n",
       "4191                      Nucl.Phys. B437 (1995) 611-626   \n",
       "10906                     Nucl.Phys. B474 (1996) 641-677   \n",
       "6564                      Phys.Lett. B336 (1994) 402-408   \n",
       "9186                      Phys.Lett. B482 (2000) 205-212   \n",
       "14483                     Phys.Lett. B504 (2001) 157-164   \n",
       "5728                      Phys.Lett. B279 (1992) 291-298   \n",
       "18638                     Phys.Lett. B441 (1998) 275-284   \n",
       "2893                      Phys.Lett. B423 (1998) 261-264   \n",
       "14453                     Phys.Lett. B506 (2001) 161-166   \n",
       "18665                         Phys.Lett. B357 (1995) 588   \n",
       "16963                     Phys.Lett. B512 (2001) 189-196   \n",
       "12453                     Phys.Lett. B332 (1994) 277-282   \n",
       "6442                        Phys.Lett. B472 (2000) 67-76   \n",
       "9430                      Phys.Lett. B489 (2000) 207-215   \n",
       "5388                        Phys.Lett. B320 (1994) 16-20   \n",
       "18834                     Phys.Lett. B526 (2002) 405-412   \n",
       "6706                      Phys.Lett. B443 (1998) 159-166   \n",
       "3534                     Phys. Lett. B323 (1994) 330-338   \n",
       "14258                     Phys.Lett. A276 (2000) 225-232   \n",
       "10720                     Phys.Lett. B463 (1999) 181-187   \n",
       "10845                        Phys.Rev. D60 (1999) 045001   \n",
       "6480                      Phys.Rev. D52 (1995) 6988-6996   \n",
       "9457                      Phys.Rev. D50 (1994) 5262-5273   \n",
       "2983                                JHEP 9911 (1999) 031   \n",
       "8461                Int.J.Mod.Phys. A10 (1995) 2097-2122   \n",
       "4489                Int.J.Mod.Phys. A14 (1999) 1153-1162   \n",
       "27118                Mod.Phys.Lett. A13 (1998) 2779-2788   \n",
       "19074                        Phys.Rev. D66 (2002) 025020   \n",
       "16953                        Phys.Rev. D65 (2002) 025001   \n",
       "13744                        Phys.Rev. D64 (2001) 025023   \n",
       "16799                        Phys.Rev. D65 (2002) 085027   \n",
       "9640                    J.Math.Phys. 40 (1999) 6009-6032   \n",
       "1649                    J.Math.Phys. 40 (1999) 6254-6265   \n",
       "\n",
       "                                  Journal-ref-Letters  \\\n",
       "25932                                 ActaPhys.Polon.   \n",
       "1064                                            Natur   \n",
       "2636                          Nucl.Phys.BErratumibid.   \n",
       "13915                                     Eur.Phys.J.   \n",
       "22490                                       Phys.Rev.   \n",
       "27164                                    AIPConf.Proc   \n",
       "13821                                  Lett.Math.Phys   \n",
       "10723                                Commun.Math.Phys   \n",
       "7905                                    Rev.Math.Phys   \n",
       "13573                                Int.J.Theor.Phys   \n",
       "22174                                         J.Phys.   \n",
       "24344                                       J.Phys.AL   \n",
       "19245                                   Phys.Rev.Lett   \n",
       "18238                                       Phys.Rev.   \n",
       "2059   PathIntegralfrompeVtoTeVyearsafterFeynmansPape   \n",
       "14227                                         J.Phys.   \n",
       "1974                                 Commun.Math.Phys   \n",
       "3114                                    Phys.Rev.Lett   \n",
       "25006                                  Lett.Math.Phys   \n",
       "9249                                       Nucl.Phys.   \n",
       "13253                                      Nucl.Phys.   \n",
       "902                                        Nucl.Phys.   \n",
       "5724                                       Nucl.Phys.   \n",
       "4040                                       Nucl.Phys.   \n",
       "21859                                      Nucl.Phys.   \n",
       "7804                                       Nucl.Phys.   \n",
       "20553                                      Nucl.Phys.   \n",
       "4191                                       Nucl.Phys.   \n",
       "10906                                      Nucl.Phys.   \n",
       "6564                                       Phys.Lett.   \n",
       "9186                                       Phys.Lett.   \n",
       "14483                                      Phys.Lett.   \n",
       "5728                                       Phys.Lett.   \n",
       "18638                                      Phys.Lett.   \n",
       "2893                                       Phys.Lett.   \n",
       "14453                                      Phys.Lett.   \n",
       "18665                                      Phys.Lett.   \n",
       "16963                                      Phys.Lett.   \n",
       "12453                                      Phys.Lett.   \n",
       "6442                                       Phys.Lett.   \n",
       "9430                                       Phys.Lett.   \n",
       "5388                                       Phys.Lett.   \n",
       "18834                                      Phys.Lett.   \n",
       "6706                                       Phys.Lett.   \n",
       "3534                                       Phys.Lett.   \n",
       "14258                                      Phys.Lett.   \n",
       "10720                                      Phys.Lett.   \n",
       "10845                                       Phys.Rev.   \n",
       "6480                                        Phys.Rev.   \n",
       "9457                                        Phys.Rev.   \n",
       "2983                                              JHE   \n",
       "8461                                  Int.J.Mod.Phys.   \n",
       "4489                                  Int.J.Mod.Phys.   \n",
       "27118                                  Mod.Phys.Lett.   \n",
       "19074                                       Phys.Rev.   \n",
       "16953                                       Phys.Rev.   \n",
       "13744                                       Phys.Rev.   \n",
       "16799                                       Phys.Rev.   \n",
       "9640                                      J.Math.Phys   \n",
       "1649                                      J.Math.Phys   \n",
       "\n",
       "       Journal-ref-Letters-Paraphrase-DBSCAN  Journal-ref-Letters-All-DBSCAN  \n",
       "25932                                     -1                              -1  \n",
       "1064                                       0                              -1  \n",
       "2636                                      -1                              -1  \n",
       "13915                                     -1                              -1  \n",
       "22490                                     -1                              -1  \n",
       "27164                                     -1                              -1  \n",
       "13821                                     -1                              -1  \n",
       "10723                                     -1                              -1  \n",
       "7905                                      -1                              -1  \n",
       "13573                                     -1                              -1  \n",
       "22174                                     -1                              -1  \n",
       "24344                                     -1                              -1  \n",
       "19245                                     -1                              -1  \n",
       "18238                                     -1                              -1  \n",
       "2059                                      -1                              -1  \n",
       "14227                                     -1                              -1  \n",
       "1974                                      -1                              -1  \n",
       "3114                                      -1                              -1  \n",
       "25006                                     -1                              -1  \n",
       "9249                                       1                               1  \n",
       "13253                                      1                               1  \n",
       "902                                        1                               1  \n",
       "5724                                       1                               1  \n",
       "4040                                       1                               1  \n",
       "21859                                      1                               1  \n",
       "7804                                       1                               1  \n",
       "20553                                      1                               1  \n",
       "4191                                       1                               1  \n",
       "10906                                      1                               1  \n",
       "6564                                       2                               2  \n",
       "9186                                       2                               2  \n",
       "14483                                      2                               2  \n",
       "5728                                       2                               2  \n",
       "18638                                      2                               2  \n",
       "2893                                       2                               2  \n",
       "14453                                      2                               2  \n",
       "18665                                      2                               2  \n",
       "16963                                      2                               2  \n",
       "12453                                      2                               2  \n",
       "6442                                       2                               2  \n",
       "9430                                       2                               2  \n",
       "5388                                       2                               2  \n",
       "18834                                      2                               2  \n",
       "6706                                       2                               2  \n",
       "3534                                       2                               2  \n",
       "14258                                      2                               2  \n",
       "10720                                      2                               2  \n",
       "10845                                      3                               3  \n",
       "6480                                       3                               3  \n",
       "9457                                       3                               3  \n",
       "2983                                       4                               4  \n",
       "8461                                       6                               6  \n",
       "4489                                       6                               6  \n",
       "27118                                      7                               7  \n",
       "19074                                      8                               8  \n",
       "16953                                      8                               8  \n",
       "13744                                      8                               8  \n",
       "16799                                      8                               8  \n",
       "9640                                       9                               9  \n",
       "1649                                       9                               9  "
      ]
     },
     "execution_count": 47,
     "metadata": {},
     "output_type": "execute_result"
    }
   ],
   "source": [
    "(\n",
    "    cluster_eval_df\n",
    "    .sample(60)\n",
    "    .dropna(axis=0)\n",
    "    .sort_values(by=\"Journal-ref-Letters-All-DBSCAN\")\n",
    ")"
   ]
  },
  {
   "cell_type": "markdown",
   "id": "25db28a3-a002-48c9-b073-037738379e70",
   "metadata": {},
   "source": [
    "#### Judging DBSCAN Clusters...\n",
    "\n",
    "These clusters look pretty good! That was a lot of trouble, though.\n",
    "\n",
    "**Q: Do any of you know how to create node labels for journals quicker than that? What about a bag of words model?**\n",
    "\n",
    "### Nominating Labels for our Clusters\n",
    "\n",
    "Before we even evaluate our clusters by displaying them alongside our `Journal-ref` and `Journal-ref-Letters` in the `node_df` `pd.DataFrame`, I want to perform a trick for labeling clusters using a `GROUP BY`, [MapReduce](https://en.wikipedia.org/wiki/MapReduce) or [split-apply-combine strategy] as you prefer :)\n",
    "\n",
    "We will group by the cluster ID, take [pd.Series.value_counts](https://pandas.pydata.org/docs/reference/api/pandas.Series.value_counts.html) [a `pd.Series` is a `pd.DataFrame` column] and assign the top value count as the label for the cluster."
   ]
  },
  {
   "cell_type": "code",
   "execution_count": 48,
   "id": "1b97be23-179f-4283-b858-ee93ad15af4b",
   "metadata": {},
   "outputs": [],
   "source": [
    "# Assign our canonical clusters to the DataFrame\n",
    "node_df[\"Journal-ref-DBSCAN\"] = node_df[\"Journal-ref-Letters-All-DBSCAN\"]"
   ]
  },
  {
   "cell_type": "code",
   "execution_count": 49,
   "id": "959ac38c-9830-44a8-a3df-73fcffd609d2",
   "metadata": {},
   "outputs": [
    {
     "data": {
      "text/plain": [
       "Journal-ref-DBSCAN  Journal-ref                                                         Journal-ref-Letters                               \n",
       "-1                                                                                                                                            466\n",
       "                    Group 21: Physical Applications and Mathematical Aspects of         GroupPhysicalApplicationsandMathematicalAspectso        2\n",
       "                    Strings '93 (M. B. Halpern, G. Rivlis, and A. Sevrin, eds.), World  StringsM.B.HalpernG.RivlisandA.Sevrineds.Worl           2\n",
       "                    Sergiu Vacaru: Interactions, Strings, and Isotopies in Higher       SergiuVacaruInteractionsStringsandIsotopiesinHighe      2\n",
       "                    Phys.Rept. 360 (2002) 353-465                                       Phys.Rept                                               2\n",
       "                                                                                                                                             ... \n",
       " 9                  J.Math.Phys. 40 (1999) 2949-2970                                    J.Math.Phys                                             1\n",
       "                    J.Math.Phys. 40 (1999) 2735-2756                                    J.Math.Phys                                             1\n",
       "                    J.Math.Phys. 40 (1999) 2698-2715                                    J.Math.Phys                                             1\n",
       "                    J.Math.Phys. 40 (1999) 2539-2548                                    J.Math.Phys                                             1\n",
       "                    Russian J.Math.Phys. 4(3) (1996) 287-314                            RussianJ.Math.Phys                                      1\n",
       "Length: 20301, dtype: int64"
      ]
     },
     "execution_count": 49,
     "metadata": {},
     "output_type": "execute_result"
    }
   ],
   "source": [
    "node_df[[\"Journal-ref\", \"Journal-ref-Letters\", \"Journal-ref-DBSCAN\"]].groupby(\"Journal-ref-DBSCAN\").value_counts()"
   ]
  },
  {
   "cell_type": "markdown",
   "id": "35832642-1143-4251-9366-bf3503c08e2b",
   "metadata": {},
   "source": [
    "#### ChatGPT and Me :)\n",
    "\n",
    "I could not get the above code to preview all the clusters... so I enlisted help.\n",
    "\n",
    "Note: this code was written by ChatGPT-4 after 4 attempts. It shows that the `Journal-ref-Count`s are too low to nominate a good name. This led me to allow `.` and ` ` [spaces] in the find/replace above that looked like:\n",
    "\n",
    "```python\n",
    "node_df[\"Journal-ref-Letters\"] = node_df[\"Journal-ref\"].str.replace(r\"[^a-zA-Z]\", \"\", regex=True).str.strip()\n",
    "```\n",
    "\n",
    "The `r\"[^a-zA-Z]\"` now looks like `r\"[^a-zA-Z. ]\"` to include periods and spaces:\n",
    "\n",
    "```python\n",
    "node_df[\"Journal-ref-Letters\"] = node_df[\"Journal-ref\"].str.replace(r\"[^a-zA-Z. ]\", \"\", regex=True).str.strip()\n",
    "```\n",
    "\n",
    "And then things looked good!"
   ]
  },
  {
   "cell_type": "code",
   "execution_count": 50,
   "id": "ed603631-3eed-4e1c-b6fc-3ab284dfb6ef",
   "metadata": {},
   "outputs": [
    {
     "data": {
      "text/html": [
       "<div>\n",
       "<style scoped>\n",
       "    .dataframe tbody tr th:only-of-type {\n",
       "        vertical-align: middle;\n",
       "    }\n",
       "\n",
       "    .dataframe tbody tr th {\n",
       "        vertical-align: top;\n",
       "    }\n",
       "\n",
       "    .dataframe thead th {\n",
       "        text-align: right;\n",
       "    }\n",
       "</style>\n",
       "<table border=\"1\" class=\"dataframe\">\n",
       "  <thead>\n",
       "    <tr style=\"text-align: right;\">\n",
       "      <th></th>\n",
       "      <th>Journal-ref-DBSCAN</th>\n",
       "      <th>Journal-ref-Value</th>\n",
       "      <th>Journal-ref-Count</th>\n",
       "      <th>Journal-ref-Letters-Value</th>\n",
       "      <th>Journal-ref-Letters-Count</th>\n",
       "    </tr>\n",
       "  </thead>\n",
       "  <tbody>\n",
       "    <tr>\n",
       "      <th>0</th>\n",
       "      <td>-1</td>\n",
       "      <td>[, Sergiu Vacaru: Interactions, Strings, and I...</td>\n",
       "      <td>[466, 2, 2, 2, 2]</td>\n",
       "      <td>[J.Phys., , Commun.Math.Phys, Phys.Rev.Lett, P...</td>\n",
       "      <td>[467, 466, 406, 382, 310]</td>\n",
       "    </tr>\n",
       "    <tr>\n",
       "      <th>1</th>\n",
       "      <td>0</td>\n",
       "      <td>[, Published 0 (1996) 0]</td>\n",
       "      <td>[6996, 1]</td>\n",
       "      <td>[, Publishe]</td>\n",
       "      <td>[6996, 1]</td>\n",
       "    </tr>\n",
       "    <tr>\n",
       "      <th>2</th>\n",
       "      <td>1</td>\n",
       "      <td>[Nucl.Phys. B602 (2001) 383-398, Nucl.Phys. B6...</td>\n",
       "      <td>[2, 2, 1, 1, 1]</td>\n",
       "      <td>[Nucl.Phys., J.Nucl.Phys., Nucl.Phys.BAddendum...</td>\n",
       "      <td>[3753, 2, 1, 1, 1]</td>\n",
       "    </tr>\n",
       "    <tr>\n",
       "      <th>3</th>\n",
       "      <td>2</td>\n",
       "      <td>[Phys.Lett. B355 (1995) 141, Phys.Lett. B496 (...</td>\n",
       "      <td>[1, 1, 1, 1, 1]</td>\n",
       "      <td>[Phys.Lett., Found.Phys.Lett, rejectedbyPhys.L...</td>\n",
       "      <td>[3835, 7, 1, 1, 1]</td>\n",
       "    </tr>\n",
       "    <tr>\n",
       "      <th>4</th>\n",
       "      <td>3</td>\n",
       "      <td>[Phys.Rev. D52 (1995) 7168-7173, Phys.Rev. D54...</td>\n",
       "      <td>[1, 1, 1, 1, 1]</td>\n",
       "      <td>[Phys.Rev.]</td>\n",
       "      <td>[1285]</td>\n",
       "    </tr>\n",
       "    <tr>\n",
       "      <th>5</th>\n",
       "      <td>4</td>\n",
       "      <td>[JHEP 9711 (1997) 002, JHEP 0207 (2002) 029, J...</td>\n",
       "      <td>[1, 1, 1, 1, 1]</td>\n",
       "      <td>[JHE, JHEPPhys.Lett.]</td>\n",
       "      <td>[1716, 1]</td>\n",
       "    </tr>\n",
       "    <tr>\n",
       "      <th>6</th>\n",
       "      <td>5</td>\n",
       "      <td>[Class.Quant.Grav. 17 (2000) 3009-3043, Class....</td>\n",
       "      <td>[2, 1, 1, 1, 1]</td>\n",
       "      <td>[Class.Quant.Grav, Class.Quant.Grav., Class.Qu...</td>\n",
       "      <td>[531, 10, 8, 5, 2]</td>\n",
       "    </tr>\n",
       "    <tr>\n",
       "      <th>7</th>\n",
       "      <td>6</td>\n",
       "      <td>[Int.J.Mod.Phys. A16 (2001) 1775, Int.J.Mod.Ph...</td>\n",
       "      <td>[2, 1, 1, 1, 1]</td>\n",
       "      <td>[Int.J.Mod.Phys., Int.J.Mod.Phys.AS, Int.J.Mod...</td>\n",
       "      <td>[1021, 13, 6, 2, 1]</td>\n",
       "    </tr>\n",
       "    <tr>\n",
       "      <th>8</th>\n",
       "      <td>7</td>\n",
       "      <td>[Mod.Phys.Lett. A7 (1992) 1545-1552, Mod.Phys....</td>\n",
       "      <td>[1, 1, 1, 1, 1]</td>\n",
       "      <td>[Mod.Phys.Lett., Mod.Phys.Lett.AJETPLett, Mod....</td>\n",
       "      <td>[1060, 2, 1, 1, 1]</td>\n",
       "    </tr>\n",
       "    <tr>\n",
       "      <th>9</th>\n",
       "      <td>8</td>\n",
       "      <td>[Phys.Rev. D48 (1993) 861-868, Phys.Rev. D64 (...</td>\n",
       "      <td>[1, 1, 1, 1, 1]</td>\n",
       "      <td>[Phys.Rev., Phys.Rev]</td>\n",
       "      <td>[1554, 1]</td>\n",
       "    </tr>\n",
       "    <tr>\n",
       "      <th>10</th>\n",
       "      <td>9</td>\n",
       "      <td>[J.Math.Phys. 35 (1994) 5101-5135, J.Math.Phys...</td>\n",
       "      <td>[1, 1, 1, 1, 1]</td>\n",
       "      <td>[J.Math.Phys, J.Phys.Soc.Jap, J.Nonlin.Math.Ph...</td>\n",
       "      <td>[524, 4, 3, 2, 1]</td>\n",
       "    </tr>\n",
       "  </tbody>\n",
       "</table>\n",
       "</div>"
      ],
      "text/plain": [
       "    Journal-ref-DBSCAN                                  Journal-ref-Value  \\\n",
       "0                   -1  [, Sergiu Vacaru: Interactions, Strings, and I...   \n",
       "1                    0                           [, Published 0 (1996) 0]   \n",
       "2                    1  [Nucl.Phys. B602 (2001) 383-398, Nucl.Phys. B6...   \n",
       "3                    2  [Phys.Lett. B355 (1995) 141, Phys.Lett. B496 (...   \n",
       "4                    3  [Phys.Rev. D52 (1995) 7168-7173, Phys.Rev. D54...   \n",
       "5                    4  [JHEP 9711 (1997) 002, JHEP 0207 (2002) 029, J...   \n",
       "6                    5  [Class.Quant.Grav. 17 (2000) 3009-3043, Class....   \n",
       "7                    6  [Int.J.Mod.Phys. A16 (2001) 1775, Int.J.Mod.Ph...   \n",
       "8                    7  [Mod.Phys.Lett. A7 (1992) 1545-1552, Mod.Phys....   \n",
       "9                    8  [Phys.Rev. D48 (1993) 861-868, Phys.Rev. D64 (...   \n",
       "10                   9  [J.Math.Phys. 35 (1994) 5101-5135, J.Math.Phys...   \n",
       "\n",
       "    Journal-ref-Count                          Journal-ref-Letters-Value  \\\n",
       "0   [466, 2, 2, 2, 2]  [J.Phys., , Commun.Math.Phys, Phys.Rev.Lett, P...   \n",
       "1           [6996, 1]                                       [, Publishe]   \n",
       "2     [2, 2, 1, 1, 1]  [Nucl.Phys., J.Nucl.Phys., Nucl.Phys.BAddendum...   \n",
       "3     [1, 1, 1, 1, 1]  [Phys.Lett., Found.Phys.Lett, rejectedbyPhys.L...   \n",
       "4     [1, 1, 1, 1, 1]                                        [Phys.Rev.]   \n",
       "5     [1, 1, 1, 1, 1]                              [JHE, JHEPPhys.Lett.]   \n",
       "6     [2, 1, 1, 1, 1]  [Class.Quant.Grav, Class.Quant.Grav., Class.Qu...   \n",
       "7     [2, 1, 1, 1, 1]  [Int.J.Mod.Phys., Int.J.Mod.Phys.AS, Int.J.Mod...   \n",
       "8     [1, 1, 1, 1, 1]  [Mod.Phys.Lett., Mod.Phys.Lett.AJETPLett, Mod....   \n",
       "9     [1, 1, 1, 1, 1]                              [Phys.Rev., Phys.Rev]   \n",
       "10    [1, 1, 1, 1, 1]  [J.Math.Phys, J.Phys.Soc.Jap, J.Nonlin.Math.Ph...   \n",
       "\n",
       "    Journal-ref-Letters-Count  \n",
       "0   [467, 466, 406, 382, 310]  \n",
       "1                   [6996, 1]  \n",
       "2          [3753, 2, 1, 1, 1]  \n",
       "3          [3835, 7, 1, 1, 1]  \n",
       "4                      [1285]  \n",
       "5                   [1716, 1]  \n",
       "6          [531, 10, 8, 5, 2]  \n",
       "7         [1021, 13, 6, 2, 1]  \n",
       "8          [1060, 2, 1, 1, 1]  \n",
       "9                   [1554, 1]  \n",
       "10          [524, 4, 3, 2, 1]  "
      ]
     },
     "execution_count": 50,
     "metadata": {},
     "output_type": "execute_result"
    }
   ],
   "source": [
    "def get_top_n_values(group, n=5):\n",
    "    result = {}\n",
    "    for column in [\"Journal-ref\", \"Journal-ref-Letters\"]:\n",
    "        top_values = group[column].value_counts().nlargest(n)\n",
    "        result[f\"{column}-Value\"] = top_values.index.tolist()\n",
    "        result[f\"{column}-Count\"] = top_values.values.tolist()\n",
    "    return pd.Series(result)\n",
    "\n",
    "# Grouping by 'Journal-ref-DBSCAN' and applying the function\n",
    "top_values_df = node_df.groupby(\"Journal-ref-DBSCAN\").apply(get_top_n_values).reset_index()\n",
    "\n",
    "top_values_df"
   ]
  },
  {
   "cell_type": "code",
   "execution_count": 51,
   "id": "2d527bed-0587-413f-8fa5-dcd1b7f52ee6",
   "metadata": {},
   "outputs": [
    {
     "name": "stderr",
     "output_type": "stream",
     "text": [
      "/tmp/ipykernel_357/2333369544.py:5: SettingWithCopyWarning: \n",
      "A value is trying to be set on a copy of a slice from a DataFrame\n",
      "\n",
      "See the caveats in the documentation: https://pandas.pydata.org/pandas-docs/stable/user_guide/indexing.html#returning-a-view-versus-a-copy\n",
      "  journal_label_df.rename(\n"
     ]
    },
    {
     "data": {
      "text/html": [
       "<div>\n",
       "<style scoped>\n",
       "    .dataframe tbody tr th:only-of-type {\n",
       "        vertical-align: middle;\n",
       "    }\n",
       "\n",
       "    .dataframe tbody tr th {\n",
       "        vertical-align: top;\n",
       "    }\n",
       "\n",
       "    .dataframe thead th {\n",
       "        text-align: right;\n",
       "    }\n",
       "</style>\n",
       "<table border=\"1\" class=\"dataframe\">\n",
       "  <thead>\n",
       "    <tr style=\"text-align: right;\">\n",
       "      <th></th>\n",
       "      <th>Journal-ref-DBSCAN-2</th>\n",
       "      <th>Journal-ref-Letters-Cluster</th>\n",
       "    </tr>\n",
       "  </thead>\n",
       "  <tbody>\n",
       "    <tr>\n",
       "      <th>0</th>\n",
       "      <td>-1</td>\n",
       "      <td>J.Phys.</td>\n",
       "    </tr>\n",
       "    <tr>\n",
       "      <th>1</th>\n",
       "      <td>0</td>\n",
       "      <td></td>\n",
       "    </tr>\n",
       "    <tr>\n",
       "      <th>2</th>\n",
       "      <td>1</td>\n",
       "      <td>Nucl.Phys.</td>\n",
       "    </tr>\n",
       "    <tr>\n",
       "      <th>3</th>\n",
       "      <td>2</td>\n",
       "      <td>Phys.Lett.</td>\n",
       "    </tr>\n",
       "    <tr>\n",
       "      <th>4</th>\n",
       "      <td>3</td>\n",
       "      <td>Phys.Rev.</td>\n",
       "    </tr>\n",
       "  </tbody>\n",
       "</table>\n",
       "</div>"
      ],
      "text/plain": [
       "   Journal-ref-DBSCAN-2 Journal-ref-Letters-Cluster\n",
       "0                    -1                     J.Phys.\n",
       "1                     0                            \n",
       "2                     1                  Nucl.Phys.\n",
       "3                     2                  Phys.Lett.\n",
       "4                     3                   Phys.Rev."
      ]
     },
     "execution_count": 51,
     "metadata": {},
     "output_type": "execute_result"
    }
   ],
   "source": [
    "top_values_df['Journal-ref-Letters-Cluster'] = top_values_df['Journal-ref-Letters-Value'].str.get(0)\n",
    "\n",
    "journal_label_df = top_values_df[[\"Journal-ref-DBSCAN\", \"Journal-ref-Letters-Cluster\"]]\n",
    "\n",
    "journal_label_df.rename(\n",
    "    columns={\"Journal-ref-DBSCAN\": \"Journal-ref-DBSCAN-2\"},\n",
    "    inplace=True,\n",
    ")\n",
    "\n",
    "journal_label_df.head()"
   ]
  },
  {
   "cell_type": "markdown",
   "id": "4a6ab0fe-1b04-4098-9bdf-5858d7d8dbdf",
   "metadata": {},
   "source": [
    "### Plot our Clusters\n",
    "\n",
    "Hey, it took me a few tries but the clusters look good! So do our labels. Woohoo! Now we can classify our nodes. Sometimes node labels aren't cleanly available, and you have to work to get training data for graph machine learning. In Part 4 of this class we will use these labels with [PyG](https://pyg.org) to classify nodes with missing journal entries into the journals they belong to. Fun! :)"
   ]
  },
  {
   "cell_type": "code",
   "execution_count": 52,
   "id": "128102e0-1194-45e0-b7fd-3b1b16046b33",
   "metadata": {},
   "outputs": [
    {
     "data": {
      "image/png": "[encoded data removed]",
      "text/plain": [
       "<Figure size 1000x800 with 1 Axes>"
      ]
     },
     "metadata": {},
     "output_type": "display_data"
    }
   ],
   "source": [
    "plot_data = pd.DataFrame(data=reduced_all_embeddings, columns=['UMAP 1', 'UMAP 2'])\n",
    "plot_data['Cluster ID'] = all_clusters  # Add cluster labels to the DataFrame\n",
    "\n",
    "# Step 2: Plot the data\n",
    "# Initialize the plot\n",
    "plt.figure(figsize=(10, 8))\n",
    "\n",
    "# Use seaborn's scatterplot function to plot UMAP dimensions,\n",
    "# coloring the points by their cluster ID.\n",
    "# The 'palette' argument specifies the colors to use for each cluster.\n",
    "sns.scatterplot(\n",
    "    x='UMAP 1',  # X-axis: first dimension from UMAP\n",
    "    y='UMAP 2',  # Y-axis: second dimension from UMAP\n",
    "    hue='Cluster ID',  # Color by cluster ID\n",
    "    palette=sns.color_palette(\"hsv\", len(plot_data['Cluster ID'].unique())),  # Use a color palette with enough colors\n",
    "    data=plot_data,  # Data source\n",
    "    legend=\"full\",  # Display a legend\n",
    "    alpha=0.5  # Make points semi-transparent to see overlapping points\n",
    ")\n",
    "\n",
    "# Display the plot\n",
    "plt.title('Clusters in 2D UMAP space')\n",
    "plt.show()"
   ]
  },
  {
   "cell_type": "markdown",
   "id": "2a478083-5ebc-4727-852d-6cbad06c5d3d",
   "metadata": {},
   "source": [
    "### Assign Class Labels Back to the DataFrame\n",
    "\n",
    "Our last step is to assign both a numeric class number and our nominated raw `Journal-ref` label to represent our clusters in the original `node_df` node list `pd.DataFrame`."
   ]
  },
  {
   "cell_type": "code",
   "execution_count": 53,
   "id": "e11a1a19-f2cf-48d8-b2d1-b4b80ba39150",
   "metadata": {},
   "outputs": [],
   "source": [
    "node_df = node_df.merge(\n",
    "    journal_label_df, \n",
    "    left_on='Journal-ref-DBSCAN', \n",
    "    right_on='Journal-ref-DBSCAN-2', \n",
    "    how='left'\n",
    ")\n",
    "\n",
    "# Rename the merged column to the desired name\n",
    "node_df.rename(\n",
    "    columns={\n",
    "        \"Journal-ref-Letters-Cluster\": 'Journal-ref-Label'},\n",
    "    inplace=True\n",
    ")"
   ]
  },
  {
   "cell_type": "code",
   "execution_count": 54,
   "id": "b7330d55-42e6-4246-99fa-56fb157f91f8",
   "metadata": {},
   "outputs": [
    {
     "data": {
      "text/html": [
       "<div>\n",
       "<style scoped>\n",
       "    .dataframe tbody tr th:only-of-type {\n",
       "        vertical-align: middle;\n",
       "    }\n",
       "\n",
       "    .dataframe tbody tr th {\n",
       "        vertical-align: top;\n",
       "    }\n",
       "\n",
       "    .dataframe thead th {\n",
       "        text-align: right;\n",
       "    }\n",
       "</style>\n",
       "<table border=\"1\" class=\"dataframe\">\n",
       "  <thead>\n",
       "    <tr style=\"text-align: right;\">\n",
       "      <th></th>\n",
       "      <th>Title</th>\n",
       "      <th>Journal-ref</th>\n",
       "      <th>Journal-ref-Label</th>\n",
       "      <th>Journal-ref-DBSCAN</th>\n",
       "    </tr>\n",
       "  </thead>\n",
       "  <tbody>\n",
       "    <tr>\n",
       "      <th>0</th>\n",
       "      <td>Compactification, Geometry and Duality: N=2</td>\n",
       "      <td></td>\n",
       "      <td></td>\n",
       "      <td>0</td>\n",
       "    </tr>\n",
       "    <tr>\n",
       "      <th>1</th>\n",
       "      <td>Generalized Calabi-Yau Manifolds and the Mirro...</td>\n",
       "      <td>Nucl.Phys. B407 (1993) 115-154</td>\n",
       "      <td>Nucl.Phys.</td>\n",
       "      <td>1</td>\n",
       "    </tr>\n",
       "    <tr>\n",
       "      <th>2</th>\n",
       "      <td>Mirror Symmetry, Mirror Map and Applications t...</td>\n",
       "      <td>Commun.Math.Phys. 167 (1995) 301-350</td>\n",
       "      <td>J.Phys.</td>\n",
       "      <td>-1</td>\n",
       "    </tr>\n",
       "    <tr>\n",
       "      <th>3</th>\n",
       "      <td>Calabi-Yau Moduli Space, Mirror Manifolds and ...</td>\n",
       "      <td>Nucl.Phys. B416 (1994) 414-480</td>\n",
       "      <td>Nucl.Phys.</td>\n",
       "      <td>1</td>\n",
       "    </tr>\n",
       "    <tr>\n",
       "      <th>4</th>\n",
       "      <td>Measuring Small Distances in N=2 Sigma Models</td>\n",
       "      <td>Nucl.Phys. B420 (1994) 184-242</td>\n",
       "      <td>Nucl.Phys.</td>\n",
       "      <td>1</td>\n",
       "    </tr>\n",
       "    <tr>\n",
       "      <th>5</th>\n",
       "      <td>Target Space Duality in String Theory</td>\n",
       "      <td>Phys.Rept. 244 (1994) 77-202</td>\n",
       "      <td>J.Phys.</td>\n",
       "      <td>-1</td>\n",
       "    </tr>\n",
       "    <tr>\n",
       "      <th>6</th>\n",
       "      <td>String Theory on K3 Surfaces</td>\n",
       "      <td>Mirror Symmetry II (B. Greene and S.-T. Yau, e...</td>\n",
       "      <td>J.Phys.</td>\n",
       "      <td>-1</td>\n",
       "    </tr>\n",
       "    <tr>\n",
       "      <th>7</th>\n",
       "      <td>Monopole Condensation, And Confinement In N=2 ...</td>\n",
       "      <td>Nucl.Phys. B426 (1994) 19-52; Erratum-ibid. B4...</td>\n",
       "      <td>J.Phys.</td>\n",
       "      <td>-1</td>\n",
       "    </tr>\n",
       "    <tr>\n",
       "      <th>8</th>\n",
       "      <td>Monopoles, Duality and Chiral Symmetry Breakin...</td>\n",
       "      <td>Nucl.Phys. B431 (1994) 484-550</td>\n",
       "      <td>Nucl.Phys.</td>\n",
       "      <td>1</td>\n",
       "    </tr>\n",
       "    <tr>\n",
       "      <th>9</th>\n",
       "      <td>Strong/Weak Coupling Duality from the Dual String</td>\n",
       "      <td>Nucl.Phys. B442 (1995) 47-63</td>\n",
       "      <td>Nucl.Phys.</td>\n",
       "      <td>1</td>\n",
       "    </tr>\n",
       "    <tr>\n",
       "      <th>10</th>\n",
       "      <td>String Theory Dynamics In Various Dimensions</td>\n",
       "      <td>Nucl.Phys. B443 (1995) 85-126</td>\n",
       "      <td>Nucl.Phys.</td>\n",
       "      <td>1</td>\n",
       "    </tr>\n",
       "    <tr>\n",
       "      <th>11</th>\n",
       "      <td>Massless Black Holes and Conifolds in String T...</td>\n",
       "      <td>Nucl.Phys. B451 (1995) 96-108</td>\n",
       "      <td>Nucl.Phys.</td>\n",
       "      <td>1</td>\n",
       "    </tr>\n",
       "    <tr>\n",
       "      <th>12</th>\n",
       "      <td>Black Hole Condensation and the Unification of...</td>\n",
       "      <td>Nucl.Phys. B451 (1995) 109-120</td>\n",
       "      <td>Nucl.Phys.</td>\n",
       "      <td>1</td>\n",
       "    </tr>\n",
       "    <tr>\n",
       "      <th>13</th>\n",
       "      <td>U-Duality and Integral Structures</td>\n",
       "      <td>Phys.Lett. B355 (1995) 141</td>\n",
       "      <td>Phys.Lett.</td>\n",
       "      <td>2</td>\n",
       "    </tr>\n",
       "    <tr>\n",
       "      <th>14</th>\n",
       "      <td>Maximally Supersymmetric String Theories in D&lt;10</td>\n",
       "      <td>Phys.Rev.Lett. 75 (1995) 2264-2267</td>\n",
       "      <td>J.Phys.</td>\n",
       "      <td>-1</td>\n",
       "    </tr>\n",
       "    <tr>\n",
       "      <th>15</th>\n",
       "      <td>Exact Results for N=2 Compactifications of Het...</td>\n",
       "      <td>Nucl.Phys. B450 (1995) 69-89</td>\n",
       "      <td>Nucl.Phys.</td>\n",
       "      <td>1</td>\n",
       "    </tr>\n",
       "    <tr>\n",
       "      <th>16</th>\n",
       "      <td>Second-Quantized Mirror Symmetry</td>\n",
       "      <td>Phys.Lett. B361 (1995) 59-65</td>\n",
       "      <td>Phys.Lett.</td>\n",
       "      <td>2</td>\n",
       "    </tr>\n",
       "    <tr>\n",
       "      <th>17</th>\n",
       "      <td>Moduli Space of CHL Strings</td>\n",
       "      <td>Phys.Rev. D52 (1995) 7168-7173</td>\n",
       "      <td>Phys.Rev.</td>\n",
       "      <td>3</td>\n",
       "    </tr>\n",
       "    <tr>\n",
       "      <th>18</th>\n",
       "      <td>K3--Fibrations and Heterotic-Type II String Du...</td>\n",
       "      <td>Phys.Lett. B357 (1995) 313-322</td>\n",
       "      <td>Phys.Lett.</td>\n",
       "      <td>2</td>\n",
       "    </tr>\n",
       "    <tr>\n",
       "      <th>19</th>\n",
       "      <td>11-Dimensional Supergravity Compactified on Ca...</td>\n",
       "      <td>Phys.Lett. B357 (1995) 76-80</td>\n",
       "      <td>Phys.Lett.</td>\n",
       "      <td>2</td>\n",
       "    </tr>\n",
       "  </tbody>\n",
       "</table>\n",
       "</div>"
      ],
      "text/plain": [
       "                                                Title  \\\n",
       "0         Compactification, Geometry and Duality: N=2   \n",
       "1   Generalized Calabi-Yau Manifolds and the Mirro...   \n",
       "2   Mirror Symmetry, Mirror Map and Applications t...   \n",
       "3   Calabi-Yau Moduli Space, Mirror Manifolds and ...   \n",
       "4       Measuring Small Distances in N=2 Sigma Models   \n",
       "5               Target Space Duality in String Theory   \n",
       "6                        String Theory on K3 Surfaces   \n",
       "7   Monopole Condensation, And Confinement In N=2 ...   \n",
       "8   Monopoles, Duality and Chiral Symmetry Breakin...   \n",
       "9   Strong/Weak Coupling Duality from the Dual String   \n",
       "10       String Theory Dynamics In Various Dimensions   \n",
       "11  Massless Black Holes and Conifolds in String T...   \n",
       "12  Black Hole Condensation and the Unification of...   \n",
       "13                  U-Duality and Integral Structures   \n",
       "14   Maximally Supersymmetric String Theories in D<10   \n",
       "15  Exact Results for N=2 Compactifications of Het...   \n",
       "16                   Second-Quantized Mirror Symmetry   \n",
       "17                        Moduli Space of CHL Strings   \n",
       "18  K3--Fibrations and Heterotic-Type II String Du...   \n",
       "19  11-Dimensional Supergravity Compactified on Ca...   \n",
       "\n",
       "                                          Journal-ref Journal-ref-Label  \\\n",
       "0                                                                         \n",
       "1                      Nucl.Phys. B407 (1993) 115-154        Nucl.Phys.   \n",
       "2                Commun.Math.Phys. 167 (1995) 301-350           J.Phys.   \n",
       "3                      Nucl.Phys. B416 (1994) 414-480        Nucl.Phys.   \n",
       "4                      Nucl.Phys. B420 (1994) 184-242        Nucl.Phys.   \n",
       "5                        Phys.Rept. 244 (1994) 77-202           J.Phys.   \n",
       "6   Mirror Symmetry II (B. Greene and S.-T. Yau, e...           J.Phys.   \n",
       "7   Nucl.Phys. B426 (1994) 19-52; Erratum-ibid. B4...           J.Phys.   \n",
       "8                      Nucl.Phys. B431 (1994) 484-550        Nucl.Phys.   \n",
       "9                        Nucl.Phys. B442 (1995) 47-63        Nucl.Phys.   \n",
       "10                      Nucl.Phys. B443 (1995) 85-126        Nucl.Phys.   \n",
       "11                      Nucl.Phys. B451 (1995) 96-108        Nucl.Phys.   \n",
       "12                     Nucl.Phys. B451 (1995) 109-120        Nucl.Phys.   \n",
       "13                         Phys.Lett. B355 (1995) 141        Phys.Lett.   \n",
       "14                 Phys.Rev.Lett. 75 (1995) 2264-2267           J.Phys.   \n",
       "15                       Nucl.Phys. B450 (1995) 69-89        Nucl.Phys.   \n",
       "16                       Phys.Lett. B361 (1995) 59-65        Phys.Lett.   \n",
       "17                     Phys.Rev. D52 (1995) 7168-7173         Phys.Rev.   \n",
       "18                     Phys.Lett. B357 (1995) 313-322        Phys.Lett.   \n",
       "19                       Phys.Lett. B357 (1995) 76-80        Phys.Lett.   \n",
       "\n",
       "    Journal-ref-DBSCAN  \n",
       "0                    0  \n",
       "1                    1  \n",
       "2                   -1  \n",
       "3                    1  \n",
       "4                    1  \n",
       "5                   -1  \n",
       "6                   -1  \n",
       "7                   -1  \n",
       "8                    1  \n",
       "9                    1  \n",
       "10                   1  \n",
       "11                   1  \n",
       "12                   1  \n",
       "13                   2  \n",
       "14                  -1  \n",
       "15                   1  \n",
       "16                   2  \n",
       "17                   3  \n",
       "18                   2  \n",
       "19                   2  "
      ]
     },
     "execution_count": 54,
     "metadata": {},
     "output_type": "execute_result"
    }
   ],
   "source": [
    "node_df[[\"Title\", \"Journal-ref\", \"Journal-ref-Label\", \"Journal-ref-DBSCAN\"]].head(20)"
   ]
  },
  {
   "cell_type": "markdown",
   "id": "281a1b55-101f-4ccc-b6b0-f3323d3f10c7",
   "metadata": {},
   "source": [
    "### Save `node_df` to Parquet Format\n",
    "\n",
    "We want to use this `pd.DataFrame` for new and improved node features for use to learn node classification, so we will save it in Parquet format. I wrote a popular [guide to Python and Parquet format](https://blog.datasyndrome.com/python-and-parquet-performance-e71da65269ce) you may want to check out :)\n",
    "\n",
    "#### Fix a Small Problem with Empty Strings `\"\"` in the `Published` Column\n",
    "\n",
    "I got a PyArrow error when I tried to save, so I am filling [imputing] that column with 0s.\n",
    "\n",
    "```python\n",
    "ArrowInvalid: (\"Could not convert '' with type str: tried to convert to double\", 'Conversion failed for column Published with type object')\n",
    "```"
   ]
  },
  {
   "cell_type": "code",
   "execution_count": 55,
   "id": "9fc8d08e-67c0-4afb-bf51-493e2463efe8",
   "metadata": {},
   "outputs": [
    {
     "data": {
      "text/plain": [
       "0    946684800\n",
       "1            0\n",
       "2            0\n",
       "3            0\n",
       "4            0\n",
       "5            0\n",
       "6            0\n",
       "7            0\n",
       "8            0\n",
       "9            0\n",
       "Name: Published, dtype: int64"
      ]
     },
     "execution_count": 55,
     "metadata": {},
     "output_type": "execute_result"
    }
   ],
   "source": [
    "node_df[\"Published\"] = node_df[\"Published\"].replace(\"\", \"0\").astype(int)\n",
    "node_df[\"Published\"].head(10)"
   ]
  },
  {
   "cell_type": "markdown",
   "id": "5d1c6873-66bf-4429-b33d-0a9172b54e34",
   "metadata": {},
   "source": [
    "#### Lots of Zeros\n",
    "\n",
    "Hmmmm how many zeros? Enough we may need to find another temporal network or look again at how we parse dates above. Not now :)"
   ]
  },
  {
   "cell_type": "code",
   "execution_count": 56,
   "id": "5906f8d4-4ac2-4426-8111-08878c23018e",
   "metadata": {},
   "outputs": [
    {
     "data": {
      "text/plain": [
       "19444"
      ]
     },
     "execution_count": 56,
     "metadata": {},
     "output_type": "execute_result"
    }
   ],
   "source": [
    "node_df[\"Published\"].where(node_df[\"Published\"] == 0).count()"
   ]
  },
  {
   "cell_type": "code",
   "execution_count": 57,
   "id": "048fb6a3-cd35-4723-912e-b667270e2c35",
   "metadata": {},
   "outputs": [
    {
     "data": {
      "text/plain": [
       "27770"
      ]
     },
     "execution_count": 57,
     "metadata": {},
     "output_type": "execute_result"
    }
   ],
   "source": [
    "# Make sure we didn't drop any nodes...\n",
    "len(node_df)"
   ]
  },
  {
   "cell_type": "code",
   "execution_count": 58,
   "id": "dd330fd1-3513-4efe-b210-8a3df9af4aae",
   "metadata": {},
   "outputs": [],
   "source": [
    "output_df = node_df[[\n",
    "    \"node\",\n",
    "    \"file_id\",\n",
    "    \"sequential_id\",\n",
    "    \"Paper\",\n",
    "    \"From\",\n",
    "    \"Date\",\n",
    "    \"Title\",\n",
    "    \"Authors\",\n",
    "    \"Comments\",\n",
    "    \"Report-no\",\n",
    "    \"Published\",\n",
    "    \"Journal-ref\",\n",
    "    \"Journal-ref-Label\",\n",
    "    \"Journal-ref-DBSCAN\",\n",
    "    \"Abstract\",\n",
    "]].fillna(\"\")"
   ]
  },
  {
   "cell_type": "code",
   "execution_count": 59,
   "id": "e9021933-6f40-4944-a8fd-97acf2726247",
   "metadata": {},
   "outputs": [],
   "source": [
    "output_df.to_parquet(\"data/cit-HepTh-df.parquet\")"
   ]
  },
  {
   "cell_type": "markdown",
   "id": "3abbb5d2-1331-4985-b011-5c3127a4d776",
   "metadata": {},
   "source": [
    "### Adding Journal Label to our NetworkX `nx.DiGraph`\n",
    "\n",
    "Let's add the journal labels back to our `G` `nx.DiGraph` and save it again in [GEXF format](https://gexf.net/)."
   ]
  },
  {
   "cell_type": "code",
   "execution_count": 60,
   "id": "7b25cee0-4e69-432e-bb57-cdb0f77be31d",
   "metadata": {},
   "outputs": [
    {
     "data": {
      "text/html": [
       "<div>\n",
       "<style scoped>\n",
       "    .dataframe tbody tr th:only-of-type {\n",
       "        vertical-align: middle;\n",
       "    }\n",
       "\n",
       "    .dataframe tbody tr th {\n",
       "        vertical-align: top;\n",
       "    }\n",
       "\n",
       "    .dataframe thead th {\n",
       "        text-align: right;\n",
       "    }\n",
       "</style>\n",
       "<table border=\"1\" class=\"dataframe\">\n",
       "  <thead>\n",
       "    <tr style=\"text-align: right;\">\n",
       "      <th></th>\n",
       "      <th>node</th>\n",
       "      <th>Journal-ref-DBSCAN</th>\n",
       "      <th>Journal-ref-Label</th>\n",
       "    </tr>\n",
       "  </thead>\n",
       "  <tbody>\n",
       "    <tr>\n",
       "      <th>0</th>\n",
       "      <td>0</td>\n",
       "      <td>0</td>\n",
       "      <td></td>\n",
       "    </tr>\n",
       "    <tr>\n",
       "      <th>1</th>\n",
       "      <td>1</td>\n",
       "      <td>1</td>\n",
       "      <td>Nucl.Phys.</td>\n",
       "    </tr>\n",
       "    <tr>\n",
       "      <th>2</th>\n",
       "      <td>2</td>\n",
       "      <td>-1</td>\n",
       "      <td>J.Phys.</td>\n",
       "    </tr>\n",
       "    <tr>\n",
       "      <th>3</th>\n",
       "      <td>3</td>\n",
       "      <td>1</td>\n",
       "      <td>Nucl.Phys.</td>\n",
       "    </tr>\n",
       "    <tr>\n",
       "      <th>4</th>\n",
       "      <td>4</td>\n",
       "      <td>1</td>\n",
       "      <td>Nucl.Phys.</td>\n",
       "    </tr>\n",
       "  </tbody>\n",
       "</table>\n",
       "</div>"
      ],
      "text/plain": [
       "   node  Journal-ref-DBSCAN Journal-ref-Label\n",
       "0     0                   0                  \n",
       "1     1                   1        Nucl.Phys.\n",
       "2     2                  -1           J.Phys.\n",
       "3     3                   1        Nucl.Phys.\n",
       "4     4                   1        Nucl.Phys."
      ]
     },
     "execution_count": 60,
     "metadata": {},
     "output_type": "execute_result"
    }
   ],
   "source": [
    "networkx_df = output_df[[\"node\", \"Journal-ref-DBSCAN\", \"Journal-ref-Label\"]]\n",
    "\n",
    "networkx_df.head()"
   ]
  },
  {
   "cell_type": "code",
   "execution_count": 61,
   "id": "c5aa63eb-a60e-40bc-bec0-64903250faf7",
   "metadata": {},
   "outputs": [],
   "source": [
    "# Convert the DataFrame to a dictionary where the key is the 'node' column\n",
    "networkx_dict = networkx_df.set_index('node').T.to_dict('dict')\n",
    "\n",
    "# Now iterate through this dictionary and update the attributes of your nodes\n",
    "for node, attributes in networkx_dict.items():\n",
    "    G.nodes[node].update(attributes)"
   ]
  },
  {
   "cell_type": "code",
   "execution_count": 62,
   "id": "ca082263-d553-42dd-beec-f1bfe21f1f81",
   "metadata": {},
   "outputs": [
    {
     "data": {
      "text/plain": [
       "{'file_id': 9304045,\n",
       " 'sequential_id': 1,\n",
       " 'Paper': 'hep-th/9304045',\n",
       " 'Date': 'Sun, 11 Apr 93 12:29:30 -0500',\n",
       " 'Title': 'Generalized Calabi-Yau Manifolds and the Mirror of a Rigid Manifold',\n",
       " 'Authors': 'P. Candelas, E. Derrick and L. Parkes',\n",
       " 'Comments': '39 pages, plain TeX',\n",
       " 'Report-no': 'CERN-TH.6831/93, UTTG-24-92',\n",
       " 'Journal-ref': 'Nucl.Phys. B407 (1993) 115-154',\n",
       " 'Abstract': 'We describe the mirror of the Z orbifold as a representation of a class of generalized Calabi-Yau manifolds that can be realized as manifolds of dimension five and seven. Despite their dimension these correspond to superconformal theories with $c=9$ and so are perfectly good for compactifying the heterotic string to the four dimensions of space-time. As a check of mirror symmetry we compute the structure of the space of complex structures of the mirror and check that this reproduces the known results for the Yukawa couplings and metric appropriate to the Kahler class parameters on the Z orbifold together with their instanton corrections.',\n",
       " 'Journal-ref-DBSCAN': 1,\n",
       " 'Journal-ref-Label': 'Nucl.Phys.'}"
      ]
     },
     "execution_count": 62,
     "metadata": {},
     "output_type": "execute_result"
    }
   ],
   "source": [
    "G.nodes[1]"
   ]
  },
  {
   "cell_type": "code",
   "execution_count": 63,
   "id": "62e795e2-3c2a-4050-a286-33a095df52b0",
   "metadata": {},
   "outputs": [],
   "source": [
    "nx.write_gexf(G, path=\"data/physics_labeled.gexf.gz\", prettyprint=True)"
   ]
  },
  {
   "cell_type": "markdown",
   "id": "234b6250-5cc4-47d3-ae3d-302b8a7e4e09",
   "metadata": {},
   "source": [
    "### Wrapping up NetworkX Network Construction\n",
    "\n",
    "And that completes building our High Energy Physics `nx.DiGraph` :) We can now perform citation link prediction and journal prediction for papers without journal metadata. Cool! :)"
   ]
  },
  {
   "cell_type": "markdown",
   "id": "b81e7a54-75ee-4efc-a117-c72ca39b0435",
   "metadata": {},
   "source": [
    "## Building K-Nearest-Neighbor Networks\n",
    "\n",
    "Next up... we are going to use the sentence encoded abstracts in `node_df[\"Abstracts-Paraphrase-Embedding\"]` to create a KNN Network.\n",
    "\n",
    "### Remove Null Abstracts\n",
    "\n",
    "First remove all the null string `Abstract` rows, or we will get lots of points with 0 distance from lots of others - poor edges indeed :)"
   ]
  },
  {
   "cell_type": "code",
   "execution_count": 64,
   "id": "c9ee46dd-a0c0-4246-ab89-675494665237",
   "metadata": {},
   "outputs": [
    {
     "data": {
      "text/plain": [
       "20307"
      ]
     },
     "execution_count": 64,
     "metadata": {},
     "output_type": "execute_result"
    }
   ],
   "source": [
    "viz_df = node_df.copy()[[\"node\", \"Title\", \"Authors\", \"Published\", \"Abstract\", \"Journal-ref\", \"Journal-ref-DBSCAN\", \"Journal-ref-Label\", \"Abstract-Paraphrase-Embedding\"]]\n",
    "viz_df = viz_df[viz_df[\"Abstract\"].str.strip() != \"\"]\n",
    "\n",
    "len(viz_df)"
   ]
  },
  {
   "cell_type": "markdown",
   "id": "9417097e-70ee-471b-bc04-3162744ca71e",
   "metadata": {},
   "source": [
    "### Create a Zero-Index to Refer to Below\n",
    "\n",
    "Now that we have filtered our `viz_df` `pd.DataFrame` to filer out some rows... we need a new `zero_index`. We will need to convert `viz_df` to a dict to reference it when building our `KNN_G` `nx.Graph` using `enumerate()` so let's create a column now with a `zero_index`..."
   ]
  },
  {
   "cell_type": "code",
   "execution_count": 65,
   "id": "4e042ab5-b2bd-4ea8-bae2-ae1955ef1b03",
   "metadata": {},
   "outputs": [],
   "source": [
    "enumerated_index = range(0, len(viz_df.index))\n",
    "list(enumerated_index)[0:10]\n",
    "viz_df[\"zero_index\"] = enumerated_index"
   ]
  },
  {
   "cell_type": "code",
   "execution_count": 66,
   "id": "bbb0a48f-99c4-4b24-b184-53d07f25d0cc",
   "metadata": {},
   "outputs": [
    {
     "data": {
      "text/html": [
       "<div>\n",
       "<style scoped>\n",
       "    .dataframe tbody tr th:only-of-type {\n",
       "        vertical-align: middle;\n",
       "    }\n",
       "\n",
       "    .dataframe tbody tr th {\n",
       "        vertical-align: top;\n",
       "    }\n",
       "\n",
       "    .dataframe thead th {\n",
       "        text-align: right;\n",
       "    }\n",
       "</style>\n",
       "<table border=\"1\" class=\"dataframe\">\n",
       "  <thead>\n",
       "    <tr style=\"text-align: right;\">\n",
       "      <th></th>\n",
       "      <th>node</th>\n",
       "      <th>Title</th>\n",
       "      <th>Authors</th>\n",
       "      <th>Published</th>\n",
       "      <th>Abstract</th>\n",
       "      <th>Journal-ref</th>\n",
       "      <th>Journal-ref-DBSCAN</th>\n",
       "      <th>Journal-ref-Label</th>\n",
       "      <th>Abstract-Paraphrase-Embedding</th>\n",
       "      <th>zero_index</th>\n",
       "    </tr>\n",
       "  </thead>\n",
       "  <tbody>\n",
       "    <tr>\n",
       "      <th>1</th>\n",
       "      <td>1</td>\n",
       "      <td>Generalized Calabi-Yau Manifolds and the Mirro...</td>\n",
       "      <td>P. Candelas, E. Derrick and L. Parkes</td>\n",
       "      <td>0</td>\n",
       "      <td>We describe the mirror of the Z orbifold as a ...</td>\n",
       "      <td>Nucl.Phys. B407 (1993) 115-154</td>\n",
       "      <td>1</td>\n",
       "      <td>Nucl.Phys.</td>\n",
       "      <td>[-0.41591331362724304, -0.023612985387444496, ...</td>\n",
       "      <td>0</td>\n",
       "    </tr>\n",
       "    <tr>\n",
       "      <th>2</th>\n",
       "      <td>2</td>\n",
       "      <td>Mirror Symmetry, Mirror Map and Applications t...</td>\n",
       "      <td>S. Hosono, A. Klemm, S. Theisen</td>\n",
       "      <td>0</td>\n",
       "      <td>Mirror Symmetry, Picard-Fuchs equations and in...</td>\n",
       "      <td>Commun.Math.Phys. 167 (1995) 301-350</td>\n",
       "      <td>-1</td>\n",
       "      <td>J.Phys.</td>\n",
       "      <td>[-0.6336995959281921, -0.04637223482131958, 0....</td>\n",
       "      <td>1</td>\n",
       "    </tr>\n",
       "    <tr>\n",
       "      <th>3</th>\n",
       "      <td>3</td>\n",
       "      <td>Calabi-Yau Moduli Space, Mirror Manifolds and ...</td>\n",
       "      <td>P.S. Aspinwall, B.R. Greene and D.R. Morrison</td>\n",
       "      <td>0</td>\n",
       "      <td>We analyze the moduli spaces of Calabi-Yau thr...</td>\n",
       "      <td>Nucl.Phys. B416 (1994) 414-480</td>\n",
       "      <td>1</td>\n",
       "      <td>Nucl.Phys.</td>\n",
       "      <td>[-0.31707778573036194, -0.3076491951942444, -0...</td>\n",
       "      <td>2</td>\n",
       "    </tr>\n",
       "    <tr>\n",
       "      <th>4</th>\n",
       "      <td>4</td>\n",
       "      <td>Measuring Small Distances in N=2 Sigma Models</td>\n",
       "      <td>Paul S. Aspinwall, Brian R. Greene, and David ...</td>\n",
       "      <td>0</td>\n",
       "      <td>We analyze global aspects of the moduli space ...</td>\n",
       "      <td>Nucl.Phys. B420 (1994) 184-242</td>\n",
       "      <td>1</td>\n",
       "      <td>Nucl.Phys.</td>\n",
       "      <td>[-0.2769305109977722, -0.12076812982559204, -0...</td>\n",
       "      <td>3</td>\n",
       "    </tr>\n",
       "    <tr>\n",
       "      <th>5</th>\n",
       "      <td>5</td>\n",
       "      <td>Target Space Duality in String Theory</td>\n",
       "      <td>A. Giveon, M. Porrati and E. Rabinovici</td>\n",
       "      <td>0</td>\n",
       "      <td>A review article submitted to Physics Report: ...</td>\n",
       "      <td>Phys.Rept. 244 (1994) 77-202</td>\n",
       "      <td>-1</td>\n",
       "      <td>J.Phys.</td>\n",
       "      <td>[0.007352926768362522, -0.21861080825328827, 0...</td>\n",
       "      <td>4</td>\n",
       "    </tr>\n",
       "    <tr>\n",
       "      <th>...</th>\n",
       "      <td>...</td>\n",
       "      <td>...</td>\n",
       "      <td>...</td>\n",
       "      <td>...</td>\n",
       "      <td>...</td>\n",
       "      <td>...</td>\n",
       "      <td>...</td>\n",
       "      <td>...</td>\n",
       "      <td>...</td>\n",
       "      <td>...</td>\n",
       "    </tr>\n",
       "    <tr>\n",
       "      <th>27760</th>\n",
       "      <td>27760</td>\n",
       "      <td>Bianchi Type I Cosmology in N=2, D=5 Supergravity</td>\n",
       "      <td>Chiang-Mei Chen, T. Harko and M. K. Mak</td>\n",
       "      <td>0</td>\n",
       "      <td>The dynamics and evolution of Bianchi type I s...</td>\n",
       "      <td>Phys.Rev. D61 (2000) 104017</td>\n",
       "      <td>-1</td>\n",
       "      <td>J.Phys.</td>\n",
       "      <td>[-0.35450202226638794, -0.010109743103384972, ...</td>\n",
       "      <td>20302</td>\n",
       "    </tr>\n",
       "    <tr>\n",
       "      <th>27765</th>\n",
       "      <td>27765</td>\n",
       "      <td>The Causal Phase in $QED_{3}$</td>\n",
       "      <td>J. L. Boldo, B. M. Pimentel and J. L. Tomazelli</td>\n",
       "      <td>0</td>\n",
       "      <td>The operator ${\\bf S}$ in Fock space which des...</td>\n",
       "      <td>Int.J.Theor.Phys. 36 (1997) 1565-1574</td>\n",
       "      <td>-1</td>\n",
       "      <td>J.Phys.</td>\n",
       "      <td>[-0.42021292448043823, -0.1430262327194214, 0....</td>\n",
       "      <td>20303</td>\n",
       "    </tr>\n",
       "    <tr>\n",
       "      <th>27766</th>\n",
       "      <td>27766</td>\n",
       "      <td>Ground State of the Quantum Symmetric Finite S...</td>\n",
       "      <td>V. Fridkin (RIMS, Kyoto), Yu. Stroganov (IFVE,...</td>\n",
       "      <td>944438400</td>\n",
       "      <td>We find an analytic solution of the Bethe Ansa...</td>\n",
       "      <td>J.Phys. A33 (2000) L121-L125</td>\n",
       "      <td>-1</td>\n",
       "      <td>J.Phys.</td>\n",
       "      <td>[-0.48000141978263855, 0.10498613864183426, -0...</td>\n",
       "      <td>20304</td>\n",
       "    </tr>\n",
       "    <tr>\n",
       "      <th>27767</th>\n",
       "      <td>27767</td>\n",
       "      <td>Exact Scattering States of Dirac-Born-Infeld E...</td>\n",
       "      <td>Chuan-Tsung Chan (National Taiwan University)</td>\n",
       "      <td>944524800</td>\n",
       "      <td>Exact solutions to the Dirac-Born-Infeld equat...</td>\n",
       "      <td>Phys.Rev. D62 (2000) 026002</td>\n",
       "      <td>8</td>\n",
       "      <td>Phys.Rev.</td>\n",
       "      <td>[-0.38627296686172485, 0.14306101202964783, 0....</td>\n",
       "      <td>20305</td>\n",
       "    </tr>\n",
       "    <tr>\n",
       "      <th>27768</th>\n",
       "      <td>27768</td>\n",
       "      <td>Yang-Lee Zeros of the Ising model on Random Gr...</td>\n",
       "      <td>Luiz C. de Albuquerque, Nelson A. Alves and D....</td>\n",
       "      <td>944611200</td>\n",
       "      <td>We obtain in a closed form the 1/N^2 contribut...</td>\n",
       "      <td>Nucl.Phys. B580 (2000) 739-756</td>\n",
       "      <td>1</td>\n",
       "      <td>Nucl.Phys.</td>\n",
       "      <td>[-0.49326276779174805, 0.14107821881771088, 0....</td>\n",
       "      <td>20306</td>\n",
       "    </tr>\n",
       "  </tbody>\n",
       "</table>\n",
       "<p>20307 rows × 10 columns</p>\n",
       "</div>"
      ],
      "text/plain": [
       "        node                                              Title  \\\n",
       "1          1  Generalized Calabi-Yau Manifolds and the Mirro...   \n",
       "2          2  Mirror Symmetry, Mirror Map and Applications t...   \n",
       "3          3  Calabi-Yau Moduli Space, Mirror Manifolds and ...   \n",
       "4          4      Measuring Small Distances in N=2 Sigma Models   \n",
       "5          5              Target Space Duality in String Theory   \n",
       "...      ...                                                ...   \n",
       "27760  27760  Bianchi Type I Cosmology in N=2, D=5 Supergravity   \n",
       "27765  27765                      The Causal Phase in $QED_{3}$   \n",
       "27766  27766  Ground State of the Quantum Symmetric Finite S...   \n",
       "27767  27767  Exact Scattering States of Dirac-Born-Infeld E...   \n",
       "27768  27768  Yang-Lee Zeros of the Ising model on Random Gr...   \n",
       "\n",
       "                                                 Authors  Published  \\\n",
       "1                  P. Candelas, E. Derrick and L. Parkes          0   \n",
       "2                        S. Hosono, A. Klemm, S. Theisen          0   \n",
       "3          P.S. Aspinwall, B.R. Greene and D.R. Morrison          0   \n",
       "4      Paul S. Aspinwall, Brian R. Greene, and David ...          0   \n",
       "5                A. Giveon, M. Porrati and E. Rabinovici          0   \n",
       "...                                                  ...        ...   \n",
       "27760            Chiang-Mei Chen, T. Harko and M. K. Mak          0   \n",
       "27765    J. L. Boldo, B. M. Pimentel and J. L. Tomazelli          0   \n",
       "27766  V. Fridkin (RIMS, Kyoto), Yu. Stroganov (IFVE,...  944438400   \n",
       "27767      Chuan-Tsung Chan (National Taiwan University)  944524800   \n",
       "27768  Luiz C. de Albuquerque, Nelson A. Alves and D....  944611200   \n",
       "\n",
       "                                                Abstract  \\\n",
       "1      We describe the mirror of the Z orbifold as a ...   \n",
       "2      Mirror Symmetry, Picard-Fuchs equations and in...   \n",
       "3      We analyze the moduli spaces of Calabi-Yau thr...   \n",
       "4      We analyze global aspects of the moduli space ...   \n",
       "5      A review article submitted to Physics Report: ...   \n",
       "...                                                  ...   \n",
       "27760  The dynamics and evolution of Bianchi type I s...   \n",
       "27765  The operator ${\\bf S}$ in Fock space which des...   \n",
       "27766  We find an analytic solution of the Bethe Ansa...   \n",
       "27767  Exact solutions to the Dirac-Born-Infeld equat...   \n",
       "27768  We obtain in a closed form the 1/N^2 contribut...   \n",
       "\n",
       "                                 Journal-ref  Journal-ref-DBSCAN  \\\n",
       "1             Nucl.Phys. B407 (1993) 115-154                   1   \n",
       "2       Commun.Math.Phys. 167 (1995) 301-350                  -1   \n",
       "3             Nucl.Phys. B416 (1994) 414-480                   1   \n",
       "4             Nucl.Phys. B420 (1994) 184-242                   1   \n",
       "5               Phys.Rept. 244 (1994) 77-202                  -1   \n",
       "...                                      ...                 ...   \n",
       "27760            Phys.Rev. D61 (2000) 104017                  -1   \n",
       "27765  Int.J.Theor.Phys. 36 (1997) 1565-1574                  -1   \n",
       "27766           J.Phys. A33 (2000) L121-L125                  -1   \n",
       "27767            Phys.Rev. D62 (2000) 026002                   8   \n",
       "27768         Nucl.Phys. B580 (2000) 739-756                   1   \n",
       "\n",
       "      Journal-ref-Label                      Abstract-Paraphrase-Embedding  \\\n",
       "1            Nucl.Phys.  [-0.41591331362724304, -0.023612985387444496, ...   \n",
       "2               J.Phys.  [-0.6336995959281921, -0.04637223482131958, 0....   \n",
       "3            Nucl.Phys.  [-0.31707778573036194, -0.3076491951942444, -0...   \n",
       "4            Nucl.Phys.  [-0.2769305109977722, -0.12076812982559204, -0...   \n",
       "5               J.Phys.  [0.007352926768362522, -0.21861080825328827, 0...   \n",
       "...                 ...                                                ...   \n",
       "27760           J.Phys.  [-0.35450202226638794, -0.010109743103384972, ...   \n",
       "27765           J.Phys.  [-0.42021292448043823, -0.1430262327194214, 0....   \n",
       "27766           J.Phys.  [-0.48000141978263855, 0.10498613864183426, -0...   \n",
       "27767         Phys.Rev.  [-0.38627296686172485, 0.14306101202964783, 0....   \n",
       "27768        Nucl.Phys.  [-0.49326276779174805, 0.14107821881771088, 0....   \n",
       "\n",
       "       zero_index  \n",
       "1               0  \n",
       "2               1  \n",
       "3               2  \n",
       "4               3  \n",
       "5               4  \n",
       "...           ...  \n",
       "27760       20302  \n",
       "27765       20303  \n",
       "27766       20304  \n",
       "27767       20305  \n",
       "27768       20306  \n",
       "\n",
       "[20307 rows x 10 columns]"
      ]
     },
     "execution_count": 66,
     "metadata": {},
     "output_type": "execute_result"
    }
   ],
   "source": [
    "viz_df"
   ]
  },
  {
   "cell_type": "code",
   "execution_count": 67,
   "id": "526edad5-1ce6-4d33-a8f9-bb05d37c1389",
   "metadata": {},
   "outputs": [],
   "source": [
    "from sklearn.neighbors import NearestNeighbors\n",
    "\n",
    "\n",
    "# Determines the edges per node - how far out to match in similarity of the embedding vector space\n",
    "RADIUS = 2.6\n",
    "\n",
    "# Convert the embedding column to a 2D numpy array\n",
    "embeddings = np.vstack(viz_df[\"Abstract-Paraphrase-Embedding\"])\n",
    "\n",
    "# Step 1: Compute nearest neighbors\n",
    "knn = NearestNeighbors(radius=RADIUS, algorithm='auto')\n",
    "knn.fit(embeddings)\n",
    "\n",
    "# Use radius_neighbors instead of kneighbors\n",
    "distances, indices = knn.radius_neighbors(embeddings, sort_results=True)"
   ]
  },
  {
   "cell_type": "code",
   "execution_count": 68,
   "id": "d1131473-7253-4a55-a58c-6e77c5c93a29",
   "metadata": {},
   "outputs": [
    {
     "data": {
      "text/plain": [
       "(20307, 384)"
      ]
     },
     "execution_count": 68,
     "metadata": {},
     "output_type": "execute_result"
    }
   ],
   "source": [
    "embeddings.shape"
   ]
  },
  {
   "cell_type": "code",
   "execution_count": 69,
   "id": "23751c71-dea7-4ac4-a160-49cc923e80d3",
   "metadata": {},
   "outputs": [
    {
     "data": {
      "text/plain": [
       "{'node': 3,\n",
       " 'Title': 'Calabi-Yau Moduli Space, Mirror Manifolds and Spacetime Topology Change',\n",
       " 'Authors': 'P.S. Aspinwall, B.R. Greene and D.R. Morrison',\n",
       " 'Published': 0,\n",
       " 'Abstract': 'We analyze the moduli spaces of Calabi-Yau threefolds and their associated conformally invariant nonlinear sigma-models and show that they are described by an unexpectedly rich geometrical structure. Specifically, the Kahler sector of the moduli space of such Calabi-Yau conformal theories admits a decomposition into adjacent domains some of which correspond to the (complexified) Kahler cones of topologically distinct manifolds. These domains are separated by walls corresponding to singular Calabi-Yau spaces in which the spacetime metric has degenerated in certain regions. We show that the union of these domains is isomorphic to the complex structure moduli space of a single topological Calabi-Yau space---the mirror. In this way we resolve a puzzle for mirror symmetry raised by the apparent asymmetry between the Kahler and complex structure moduli spaces of a Calabi-Yau manifold. Furthermore, using mirror symmetry, we show that we can interpolate in a physically smooth manner between any two theories represented by distinct points in the Kahler moduli space, even if such points correspond to topologically distinct spaces. Spacetime topology change in string theory, therefore, is realized by the most basic operation of deformation by a truly marginal operator. Finally, this work also yields some important insights on the nature of orbifolds in string theory.',\n",
       " 'Journal-ref': 'Nucl.Phys. B416 (1994) 414-480',\n",
       " 'Journal-ref-DBSCAN': 1,\n",
       " 'Journal-ref-Label': 'Nucl.Phys.',\n",
       " 'zero_index': 2}"
      ]
     },
     "execution_count": 69,
     "metadata": {},
     "output_type": "execute_result"
    }
   ],
   "source": [
    "viz_dict = viz_df.drop(columns=[\"Abstract-Paraphrase-Embedding\"], axis=1).set_index(\"zero_index\", drop=False).to_dict(orient=\"index\")\n",
    "viz_dict[2]"
   ]
  },
  {
   "cell_type": "code",
   "execution_count": 70,
   "id": "6d504a29-6bf4-4c06-bbc8-302a45c06ddd",
   "metadata": {},
   "outputs": [
    {
     "data": {
      "text/html": [
       "<div>\n",
       "<style scoped>\n",
       "    .dataframe tbody tr th:only-of-type {\n",
       "        vertical-align: middle;\n",
       "    }\n",
       "\n",
       "    .dataframe tbody tr th {\n",
       "        vertical-align: top;\n",
       "    }\n",
       "\n",
       "    .dataframe thead th {\n",
       "        text-align: right;\n",
       "    }\n",
       "</style>\n",
       "<table border=\"1\" class=\"dataframe\">\n",
       "  <thead>\n",
       "    <tr style=\"text-align: right;\">\n",
       "      <th></th>\n",
       "      <th>node</th>\n",
       "      <th>Title</th>\n",
       "      <th>Abstract</th>\n",
       "    </tr>\n",
       "  </thead>\n",
       "  <tbody>\n",
       "    <tr>\n",
       "      <th>1</th>\n",
       "      <td>1</td>\n",
       "      <td>Generalized Calabi-Yau Manifolds and the Mirro...</td>\n",
       "      <td>We describe the mirror of the Z orbifold as a ...</td>\n",
       "    </tr>\n",
       "  </tbody>\n",
       "</table>\n",
       "</div>"
      ],
      "text/plain": [
       "   node                                              Title  \\\n",
       "1     1  Generalized Calabi-Yau Manifolds and the Mirro...   \n",
       "\n",
       "                                            Abstract  \n",
       "1  We describe the mirror of the Z orbifold as a ...  "
      ]
     },
     "execution_count": 70,
     "metadata": {},
     "output_type": "execute_result"
    }
   ],
   "source": [
    "viz_df.iloc[indices[0]][[\"node\", \"Title\", \"Abstract\"]]"
   ]
  },
  {
   "cell_type": "code",
   "execution_count": 71,
   "id": "71ccee65-81f7-4a87-bc5e-9f6f2435d60c",
   "metadata": {},
   "outputs": [
    {
     "data": {
      "text/plain": [
       "(array([array([0.]), array([1.1920929e-07]), array([8.4293697e-08]), ...,\n",
       "        array([0.        , 2.53718072]), array([8.4293697e-08]),\n",
       "        array([0.])], dtype=object),\n",
       " (20307,))"
      ]
     },
     "execution_count": 71,
     "metadata": {},
     "output_type": "execute_result"
    }
   ],
   "source": [
    "distances, distances.shape"
   ]
  },
  {
   "cell_type": "code",
   "execution_count": 72,
   "id": "da5d8d65-3896-4636-b8c5-dbdb50323269",
   "metadata": {},
   "outputs": [
    {
     "data": {
      "text/plain": [
       "(array([array([0]), array([1]), array([2]), ..., array([20304, 15961]),\n",
       "        array([20305]), array([20306])], dtype=object),\n",
       " (20307,))"
      ]
     },
     "execution_count": 72,
     "metadata": {},
     "output_type": "execute_result"
    }
   ],
   "source": [
    "indices, indices.shape"
   ]
  },
  {
   "cell_type": "code",
   "execution_count": 73,
   "id": "e7861338-a06b-490c-9749-282adb2783e4",
   "metadata": {},
   "outputs": [],
   "source": [
    "# Step 2: Create a graph from nearest neighbor relationships\n",
    "KNN_G = nx.Graph()\n",
    "i = 0\n",
    "while i < 10:\n",
    "    for i, neighbors in enumerate(indices):\n",
    "        for j, neighbor in enumerate(neighbors[1:]):  # Skip the point itself (neighbors[0] is always the point itself)\n",
    "            \n",
    "            # Add the node properties if we are adding an edge we haven't seen before\n",
    "            if not i in KNN_G.nodes():\n",
    "                KNN_G.add_node(i, **viz_dict[i])\n",
    "            if not neighbor in KNN_G.nodes():\n",
    "                KNN_G.add_node(neighbor, **viz_dict[neighbor])\n",
    "            \n",
    "            KNN_G.add_edge(i, neighbor, weight=distances[i][j])  # Add an edge between the point and each neighbor"
   ]
  },
  {
   "cell_type": "markdown",
   "id": "f5604516-a6be-4b2d-bb21-f912b854a6d5",
   "metadata": {},
   "source": [
    "### Verify that Edges Have Weights\n",
    "\n",
    "We set weights using `i` and `j` because the `indices` `np.ndarray` is the same size and structure of the corresponding `distances` `np.ndarray`."
   ]
  },
  {
   "cell_type": "code",
   "execution_count": 74,
   "id": "9568aed1-fea5-4a22-9401-b8b9c607d816",
   "metadata": {},
   "outputs": [
    {
     "data": {
      "text/plain": [
       "{'weight': 2.548567406235295}"
      ]
     },
     "execution_count": 74,
     "metadata": {},
     "output_type": "execute_result"
    }
   ],
   "source": [
    "(u, v) = list(KNN_G.edges())[0]\n",
    "\n",
    "KNN_G.get_edge_data(u, v)"
   ]
  },
  {
   "cell_type": "markdown",
   "id": "54155cd1-511b-4b23-a276-546d34760b78",
   "metadata": {},
   "source": [
    "### Check One Node's Properties"
   ]
  },
  {
   "cell_type": "code",
   "execution_count": 75,
   "id": "35d590b2-db78-485d-9611-c4a338531c1a",
   "metadata": {},
   "outputs": [
    {
     "name": "stdout",
     "output_type": "stream",
     "text": [
      "{\n",
      "    \"node\": 4,\n",
      "    \"Title\": \"Measuring Small Distances in N=2 Sigma Models\",\n",
      "    \"Authors\": \"Paul S. Aspinwall, Brian R. Greene, and David R. Morrison\",\n",
      "    \"Published\": 0,\n",
      "    \"Abstract\": \"We analyze global aspects of the moduli space of K\\\\\\\"ahler forms for $N$=(2,2) conformal $\\\\sigma$-models. Using algebraic methods and mirror symmetry we study extensions of the mathematical notion of length (as specified by a K\\\\\\\"ahler structure) to conformal field theory and calculate the way in which lengths change as the moduli fields are varied along distinguished paths in the moduli space. We find strong evidence supporting the notion that, in the robust setting of quantum Calabi-Yau moduli space, string theory restricts the set of possible K\\\\\\\"ahler forms by enforcing ``minimal length'' scales, provided that topology change is properly taken into account. Some lengths, however, may shrink to zero. We also compare stringy geometry to classical general relativity in this context.\",\n",
      "    \"Journal-ref\": \"Nucl.Phys. B420 (1994) 184-242\",\n",
      "    \"Journal-ref-DBSCAN\": 1,\n",
      "    \"Journal-ref-Label\": \"Nucl.Phys.\",\n",
      "    \"zero_index\": 3\n",
      "}\n"
     ]
    }
   ],
   "source": [
    "# I had to try 0-3 to find a real one. Look, the zero_index is correct.\n",
    "print(json.dumps(KNN_G.nodes[3], indent=4))"
   ]
  },
  {
   "cell_type": "markdown",
   "id": "6cea4883-9a7a-443a-8aa8-1e678feba8cc",
   "metadata": {},
   "source": [
    "### How Big is Our Network?\n",
    "\n",
    "I had to play with this to get useful structure out of it. Click arond in the rendered network below and see if you agree it is useful :) Remember that it might work well for your data - high energy physics papers are a complex topic that a domain-specific model like [sentence-transformers/paraphrase-MiniLM-L6-v2](https://huggingface.co/sentence-transformers/paraphrase-MiniLM-L6-v2) may not work well with... I just got it working man, I didn't tune it. In practice you have to tweek these things but this should get you started."
   ]
  },
  {
   "cell_type": "code",
   "execution_count": 76,
   "id": "e5fa345c-3438-4994-b0a0-6351bf9c5583",
   "metadata": {},
   "outputs": [
    {
     "data": {
      "text/plain": [
       "(7683, 14826)"
      ]
     },
     "execution_count": 76,
     "metadata": {},
     "output_type": "execute_result"
    }
   ],
   "source": [
    "# How big is our network?\n",
    "KNN_G.number_of_nodes(), KNN_G.number_of_edges()"
   ]
  },
  {
   "cell_type": "markdown",
   "id": "bd103be8-6c12-4332-8ee6-c4c599afbfa5",
   "metadata": {},
   "source": [
    "Now KNN_G is a graph where each node represents a row in df, and edges connect each node to its k-nearest neighbors.\n",
    "\n",
    "### Visualizing KNN Networks in Graphistry\n",
    "\n",
    "Now we will use Graphistry to visualize this network, checking if the edges make sense by comparing nodes' `Title`s and `Abstract`s."
   ]
  },
  {
   "cell_type": "code",
   "execution_count": 77,
   "id": "6501a5f9-4b3c-4808-88f4-afe5a7d7e9c5",
   "metadata": {},
   "outputs": [],
   "source": [
    "g = (\n",
    "    graphistry.bind(\n",
    "        source=\"src\",\n",
    "        destination=\"dst\",\n",
    "        node=\"nodeid\",\n",
    "        point_title=\"Title\",\n",
    "        point_label=\"Title\",\n",
    "        edge_weight=\"weight\",\n",
    "    )\n",
    "    .addStyle(\n",
    "        page={\n",
    "            \"title\": \"KNN Network Plot\",\n",
    "            \"favicon\": FAVICON_URL\n",
    "        },\n",
    "        logo=LOGO,\n",
    "    )\n",
    "    .settings(\n",
    "        url_params=GRAPHISTRY_PARAMS,\n",
    "        height=800,\n",
    "    )\n",
    ")"
   ]
  },
  {
   "cell_type": "code",
   "execution_count": 78,
   "id": "22859a61-dbdb-4216-9c2f-202e85ffa4f9",
   "metadata": {},
   "outputs": [],
   "source": [
    "# pygraphistry has API to encode point color by our clusters... but it doesn't work :)\n",
    "g2: Plottable = g.encode_point_color(\n",
    "    \"Journal-ref-Label\",\n",
    "    as_categorical=True,\n",
    "    palette=CATEGORICAL_PALETTE,\n",
    "    default_mapping=\"#CCC\",\n",
    ")"
   ]
  },
  {
   "cell_type": "code",
   "execution_count": 79,
   "id": "c9b099f6-4623-4fa6-bfca-e8f2afafaf25",
   "metadata": {},
   "outputs": [
    {
     "data": {
      "text/html": [
       "\n",
       "            <iframe id=\"9de43baa-9bd2-44cd-9e93-b33d98814af0\" src=\"https://hub.graphistry.com/graph/graph.html?dataset=90e1dbd4b7994ec2a52037d44114648a&type=arrow&viztoken=ec9b2a47-8fd6-4418-ba1d-548f9031d572&usertag=f9fcc99a-pygraphistry-0.29.5&splashAfter=1696818435&info=true&play=1000&pointOpacity=0.7&edgeOpacity=0.3&edgeCurvature=0.3&showArrows=True&gravity=0.15&showPointsOfInterestLabel=False&labels={'shortenLabels': False}\"\n",
       "                    allowfullscreen=\"true\" webkitallowfullscreen=\"true\" mozallowfullscreen=\"true\"\n",
       "                    oallowfullscreen=\"true\" msallowfullscreen=\"true\"\n",
       "                    style=\"width:100%; height:800px; border: 1px solid #DDD; overflow: hidden\"\n",
       "                    \n",
       "            >\n",
       "            </iframe>\n",
       "        \n",
       "            <script>\n",
       "                try {\n",
       "                  $(\"#9de43baa-9bd2-44cd-9e93-b33d98814af0\").bind('mousewheel', function(e) { e.preventDefault(); });\n",
       "                } catch (e) { console.error('exn catching scroll', e); }\n",
       "            </script>\n",
       "        "
      ],
      "text/plain": [
       "<IPython.core.display.HTML object>"
      ]
     },
     "execution_count": 79,
     "metadata": {},
     "output_type": "execute_result"
    }
   ],
   "source": [
    "g2.plot(KNN_G)"
   ]
  },
  {
   "cell_type": "markdown",
   "id": "8e81d12b-ad39-4602-b888-0762ebe1afd1",
   "metadata": {},
   "source": [
    "### Scaling KNN with Approximate Nearest Neighbors: A-KNN\n",
    "\n",
    "\n",
    "Both popular search engines have Elasticsearch and OpenSearch have A-KNN capabilities as does a very easy to use vector search engine \n",
    "\n",
    "Another option is the Python A-KNN library [PyNNDescent](https://github.com/lmcinnes/pynndescent). Another tool is `faiss` discussed below. Here is a [good tutorial on KNN and FAISS](https://towardsdatascience.com/comprehensive-guide-to-approximate-nearest-neighbors-algorithms-8b94f057d6b6).\n",
    "\n",
    "#### Bottom Line: KNN Can Scale\n",
    "\n",
    "Using one of the tools above or many others, you can make KNN scale via A-KNN with a little engineering or help from a data engineer :)\n",
    "\n",
    "# Final Exercise: LSH Vector Networks\n",
    "\n",
    "I ran out of time, so as an exercise, I want you to look at the code we used to generate the KNN network and make it more scalable using `faiss`. :)\n",
    "\n",
    "## Building More Scalable Locality Sensitive Hashing (LSH) Networks\n",
    "\n",
    "This works similarly, but [Locality Sensitive Hashing (LSH)](https://en.wikipedia.org/wiki/Locality-sensitive_hashing) is a more scalable algorithm that hashes data points into buckets such that similar data points are near one another in the same bucket. It is a general purpose operator for creating pairs of nodes in graph machine learning. \n",
    "\n",
    "### FAISS\n",
    "\n",
    "FAISS [[intro here](https://engineering.fb.com/2017/03/29/data-infrastructure/faiss-a-library-for-efficient-similarity-search/)] is a popular vector search engine from Facebook with an LSH feature... L2 below.\n",
    "\n",
    "### ChatGPT Takes a Swing...\n",
    "\n",
    "Here is what me and ChatGPT wrote as a first pass:"
   ]
  },
  {
   "cell_type": "code",
   "execution_count": 80,
   "id": "a3d01cd5-c38e-4f55-bc43-0441f4d8a01b",
   "metadata": {},
   "outputs": [
    {
     "ename": "AttributeError",
     "evalue": "'ellipsis' object has no attribute 'index'",
     "output_type": "error",
     "traceback": [
      "\u001b[0;31m---------------------------------------------------------------------------\u001b[0m",
      "\u001b[0;31mAttributeError\u001b[0m                            Traceback (most recent call last)",
      "Cell \u001b[0;32mIn[80], line 28\u001b[0m\n\u001b[1;32m     26\u001b[0m \u001b[38;5;28;01mfor\u001b[39;00m idx, neighbors \u001b[38;5;129;01min\u001b[39;00m \u001b[38;5;28menumerate\u001b[39m(indices):\n\u001b[1;32m     27\u001b[0m     \u001b[38;5;28;01mfor\u001b[39;00m neighbor, distance \u001b[38;5;129;01min\u001b[39;00m \u001b[38;5;28mzip\u001b[39m(neighbors[\u001b[38;5;241m1\u001b[39m:], distances[idx][\u001b[38;5;241m1\u001b[39m:]):  \u001b[38;5;66;03m# Skip the first neighbor as it will be the node itself\u001b[39;00m\n\u001b[0;32m---> 28\u001b[0m         G\u001b[38;5;241m.\u001b[39madd_edge(\u001b[43mdf\u001b[49m\u001b[38;5;241;43m.\u001b[39;49m\u001b[43mindex\u001b[49m[idx], df\u001b[38;5;241m.\u001b[39mindex[neighbor], weight\u001b[38;5;241m=\u001b[39mdistance)\n\u001b[1;32m     30\u001b[0m \u001b[38;5;66;03m# Now G is your K-Nearest-Neighbor network!\u001b[39;00m\n",
      "\u001b[0;31mAttributeError\u001b[0m: 'ellipsis' object has no attribute 'index'"
     ]
    }
   ],
   "source": [
    "# import faiss\n",
    "# import pandas as pd\n",
    "# import numpy as np\n",
    "# import networkx as nx\n",
    "\n",
    "# # Assume df is your DataFrame and 'sentence_embedding' is the column with embeddings\n",
    "# df = ...  # your DataFrame\n",
    "\n",
    "# # Assume embeddings are stored as lists, so we'll convert to a numpy array\n",
    "# # Also, FAISS requires data to be in float32\n",
    "# embedding_matrix = np.array(node_df[\"Abstract-Paraphrase-Embedding\"].tolist(), dtype=\"float32\")\n",
    "\n",
    "# # Build the FAISS index\n",
    "# dimension = embedding_matrix.shape[1]  # assuming embedding_matrix is your matrix of embeddings\n",
    "# index = faiss.IndexFlatL2(dimension)\n",
    "# index.add(embedding_matrix)\n",
    "\n",
    "# # Perform the KNN search\n",
    "# k = 6  # Search for 5 nearest neighbors + 1 because the query set is the same as the database\n",
    "# distances, indices = index.search(embedding_matrix, k)\n",
    "\n",
    "# # Construct the network\n",
    "# G = nx.Graph()\n",
    "\n",
    "# # Iterate through each row in the DataFrame\n",
    "# for idx, neighbors in enumerate(indices):\n",
    "#     for neighbor, distance in zip(neighbors[1:], distances[idx][1:]):  # Skip the first neighbor as it will be the node itself\n",
    "#         G.add_edge(df.index[idx], df.index[neighbor], weight=distance)\n",
    "\n",
    "# # Now G is your K-Nearest-Neighbor network!"
   ]
  },
  {
   "cell_type": "code",
   "execution_count": null,
   "id": "8cd2fe5e-3bba-461f-9e3f-585d59ddaef6",
   "metadata": {},
   "outputs": [],
   "source": [
    "node_df.columns"
   ]
  },
  {
   "cell_type": "markdown",
   "id": "142db9b9-0bc1-4f22-9ebc-60c32ce12077",
   "metadata": {},
   "source": [
    "# Big Data and Large Knowledge Graphs\n",
    "\n",
    "I'll be honest with you... I am a big data, large knowledge graph specialist. All the data we have used so far is very small to me. While it is difficult to cover scalable methods for everything, I wanted to introduce you to a tool for PySpark called [GraphFrames](https://graphframes.github.io/graphframes/docs/_site/index.html). It has some powerful utility methods like [connected components](https://graphframes.github.io/graphframes/docs/_site/user-guide.html#connected-components) that many teams use to perform tasks like merging nodes during entity resolution - node deduplication. It can also perform property graph [motif finding](https://graphframes.github.io/graphframes/docs/_site/user-guide.html#motif-finding) for networks with billions of nodes and edges.\n",
    "\n",
    "GraphFrames are graphs [created from node / edge lists](https://graphframes.github.io/graphframes/docs/_site/user-guide.html#creating-graphframes) which are [pyspark.sql.DataFrames](https://spark.apache.org/docs/latest/api/python/reference/pyspark.sql/dataframe.html). This means you get the power of PySpark to write arbitrary graph operations on large datasets thanks to [Spark](https://spark.apache.org/docs/latest/).\n",
    "\n",
    "To run GraphFrames locally from a shell, you can import the package with the `spark-shell` or `pyspark` `--packages` argument:\n",
    "\n",
    "```bash\n",
    "pyspark --packages graphframes:graphframes:0.8.3-spark3.5-s_2.12\n",
    "```"
   ]
  },
  {
   "cell_type": "code",
   "execution_count": 81,
   "id": "a64efde8-74bd-4b49-b0aa-d4654037a2ae",
   "metadata": {},
   "outputs": [],
   "source": [
    "# This is actually already set in Docker, just reminding you Java is needed\n",
    "os.environ[\"JAVA_HOME\"] = \"/usr/lib/jvm/java-17-openjdk-amd64\"\n",
    "\n",
    "# Setup PySpark to use the GraphFrames jar package from maven central\n",
    "os.environ[\"PYSPARK_SUBMIT_ARGS\"] = \"--packages graphframes:graphframes:0.8.3-spark3.5-s_2.12 pyspark-shell\""
   ]
  },
  {
   "cell_type": "code",
   "execution_count": 82,
   "id": "3c5950fb-f74a-4c7f-bcbf-f0650aabc852",
   "metadata": {},
   "outputs": [
    {
     "name": "stdout",
     "output_type": "stream",
     "text": [
      ":: loading settings :: url = jar:file:/opt/conda/lib/python3.10/site-packages/pyspark/jars/ivy-2.5.1.jar!/org/apache/ivy/core/settings/ivysettings.xml\n"
     ]
    },
    {
     "name": "stderr",
     "output_type": "stream",
     "text": [
      "Ivy Default Cache set to: /home/jovyan/.ivy2/cache\n",
      "The jars for the packages stored in: /home/jovyan/.ivy2/jars\n",
      "graphframes#graphframes added as a dependency\n",
      ":: resolving dependencies :: org.apache.spark#spark-submit-parent-e7d80e9d-0a84-4e54-a452-2c2de83d9970;1.0\n",
      "\tconfs: [default]\n",
      "\tfound graphframes#graphframes;0.8.3-spark3.5-s_2.12 in spark-packages\n",
      "\tfound org.slf4j#slf4j-api;1.7.16 in central\n",
      "downloading https://repos.spark-packages.org/graphframes/graphframes/0.8.3-spark3.5-s_2.12/graphframes-0.8.3-spark3.5-s_2.12.jar ...\n",
      "\t[SUCCESSFUL ] graphframes#graphframes;0.8.3-spark3.5-s_2.12!graphframes.jar (114ms)\n",
      "downloading https://repo1.maven.org/maven2/org/slf4j/slf4j-api/1.7.16/slf4j-api-1.7.16.jar ...\n",
      "\t[SUCCESSFUL ] org.slf4j#slf4j-api;1.7.16!slf4j-api.jar (46ms)\n",
      ":: resolution report :: resolve 1011ms :: artifacts dl 163ms\n",
      "\t:: modules in use:\n",
      "\tgraphframes#graphframes;0.8.3-spark3.5-s_2.12 from spark-packages in [default]\n",
      "\torg.slf4j#slf4j-api;1.7.16 from central in [default]\n",
      "\t---------------------------------------------------------------------\n",
      "\t|                  |            modules            ||   artifacts   |\n",
      "\t|       conf       | number| search|dwnlded|evicted|| number|dwnlded|\n",
      "\t---------------------------------------------------------------------\n",
      "\t|      default     |   2   |   2   |   2   |   0   ||   2   |   2   |\n",
      "\t---------------------------------------------------------------------\n",
      ":: retrieving :: org.apache.spark#spark-submit-parent-e7d80e9d-0a84-4e54-a452-2c2de83d9970\n",
      "\tconfs: [default]\n",
      "\t2 artifacts copied, 0 already retrieved (280kB/5ms)\n",
      "23/10/09 02:38:17 WARN NativeCodeLoader: Unable to load native-hadoop library for your platform... using builtin-java classes where applicable\n",
      "Setting default log level to \"WARN\".\n",
      "To adjust logging level use sc.setLogLevel(newLevel). For SparkR, use setLogLevel(newLevel).\n"
     ]
    }
   ],
   "source": [
    "from pyspark.sql import SparkSession\n",
    "\n",
    "# Initialize a SparkSession. You can configre SparkSession via: .config(\"spark.some.config.option\", \"some-value\")\n",
    "spark = (\n",
    "    SparkSession.builder\n",
    "    .appName(\"Big Graph Builder\")  # Set app name\n",
    "    .getOrCreate()  # Get or create the SparkSession\n",
    ")"
   ]
  },
  {
   "cell_type": "code",
   "execution_count": null,
   "id": "dccb1a8d-34b9-4f44-ad03-04cc1db6c00f",
   "metadata": {},
   "outputs": [],
   "source": []
  }
 ],
 "metadata": {
  "kernelspec": {
   "display_name": "Python 3 (ipykernel)",
   "language": "python",
   "name": "python3"
  },
  "language_info": {
   "codemirror_mode": {
    "name": "ipython",
    "version": 3
   },
   "file_extension": ".py",
   "mimetype": "text/x-python",
   "name": "python",
   "nbconvert_exporter": "python",
   "pygments_lexer": "ipython3",
   "version": "3.10.11"
  }
 },
 "nbformat": 4,
 "nbformat_minor": 5
}
