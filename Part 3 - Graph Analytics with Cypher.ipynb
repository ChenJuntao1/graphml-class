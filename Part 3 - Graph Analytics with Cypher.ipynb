{
 "cells": [
  {
   "cell_type": "code",
   "execution_count": 1,
   "id": "5470c409-dd28-44f6-9259-cd7996f08bae",
   "metadata": {},
   "outputs": [],
   "source": [
    "import os\n",
    "from typing import Dict, List"
   ]
  },
  {
   "cell_type": "markdown",
   "id": "a8194767-3613-4c5b-ba2d-48894ecb093e",
   "metadata": {},
   "source": [
    "Part 3 - Graph Analytics with Cypher and Neo4j\n",
    "==============================================\n",
    "\n",
    "<center><img src=\"images/Neo4j-logo_color.png\" width=\"500px\" /></center>\n",
    "\n",
    "<br />\n",
    "\n",
    "In Part 3 of our course, we will use Neo4j and Bloom to learn Graph Analytics against the Open Sanctions database as outlined on Github at [opensanctions/offshore-graph](https://github.com/opensanctions/offshore-graph#sanctionsoffshores-graph-demo).\n",
    "\n",
    "The following resources will assist you in learning Cypher to query Neo4j and other graph databases via [openCypher](https://opencypher.org/) ([github](https://github.com/opencypher)):\n",
    "\n",
    "* [Neo4j Cypher Manual - Overview](https://neo4j.com/docs/cypher-manual/current/introduction/cypher_overview/)\n",
    "* [Neo4j Cypher Manual - Cypher and Neo4j](https://neo4j.com/docs/cypher-manual/current/introduction/cypher_neo4j/)\n",
    "* [Neo4j 5 Cypher Cheat Sheet](https://neo4j.com/docs/cypher-cheat-sheet/5/auradb-enterprise/)\n",
    "* [Neo4j Graph Academy Cypher Fundamentals - 1 Hour Video](https://graphacademy.neo4j.com/courses/cypher-fundamentals/)\n",
    "* [Neo4j Cypher Manual PDF](https://neo4j.com/docs/pdf/neo4j-cypher-manual-5.pdf)\n",
    "* [Neo4j Getting Started - Query a Neo4j database using Cypher](https://neo4j.com/docs/getting-started/cypher-intro/)\n",
    "* [Bite-Sized Neo4j for Data Scientists](https://neo4j.com/video/bite-sized-neo4j-for-data-scientists/) [[github code](https://github.com/cj2001/bite_sized_data_science)]\n",
    "* [Using Neo4j from Python](https://neo4j.com/developer/python/)\n",
    "\n",
    "We are going to call Neo4j from Python in this notebook. For simplicity's sake in setting up the course's software, I build a docker image and we run Neo4j Community on Docker via our [docker-compose.yml](docker-compose.yml) file. Docker only supports Neo4j Community unless you get a license (checkout [Neo4j for Startups](https://neo4j.com/startups/)) If you install [Neo4j Desktop](https://neo4j.com/download/) - which comes with a [developers' license]() to [Neo4j Enterprise]() - you can use [Neo4j Bloom](https://neo4j.com/product/bloom/). It is snazzy! :) It can visualize schemas and query results."
   ]
  },
  {
   "cell_type": "markdown",
   "id": "ca87e767-b31e-44a2-9467-36d70f5f9fc8",
   "metadata": {},
   "source": [
    "# Connecting to Neo4j from Python\n",
    "\n",
    "We are going to be using two ways to query Cypher.\n",
    "\n",
    "1) The [neo4j]() PyPi module [[github](https://github.com/neo4j/neo4j-python-driver)], [[Neo4j docs](https://neo4j.com/docs/api/python-driver/current/)]\n",
    "2) Neo4j's Graphistry Integration [[example notebook](https://github.com/graphistry/pygraphistry/blob/master/demos/demos_databases_apis/neo4j/official/graphistry_bolt_tutorial_public.ipynb)]\n",
    "\n",
    "We're going to use one or the other as the instructor prefers, depending on how important it is to visualize our results in a table, chart or as a network visualizaton using [Graphistry](https://graphistry.com).\n",
    "\n",
    "## Connecting Using `neo4j` PyPi Package\n",
    "\n",
    "The documentation for this library can be out of date, so I'd recommend consulting the source code on Github at [neo4j/neo4j-python-driver](https://github.com/neo4j/neo4j-python-driver) directly, if you run into trouble. I could not import a `neo4j.GraphDatabase` object... kind of an oversight :) It happens, enterprise software is difficult.\n",
    "\n",
    "This setup uses Docker, which publishes port 7687 to your local machine. Check out the `neo4j` service defined in [docker-compose.yml](docker-compose.yml) if you're curious."
   ]
  },
  {
   "cell_type": "code",
   "execution_count": 21,
   "id": "20503462-fd9e-4fc3-8352-c00c9abc3e48",
   "metadata": {},
   "outputs": [
    {
     "data": {
      "text/plain": [
       "<neo4j._sync.driver.Neo4jDriver at 0x7fe02472b550>"
      ]
     },
     "execution_count": 21,
     "metadata": {},
     "output_type": "execute_result"
    }
   ],
   "source": [
    "from neo4j import GraphDatabase, RoutingControl\n",
    "\n",
    "# Docker sends port 7687 to localhost\n",
    "URI = \"neo4j://heracles:7687\"\n",
    "# We have no authentication setup... in practice you may ;)\n",
    "# AUTH = (\"neo4j\", \"neo4j\")\n",
    "\n",
    "driver = GraphDatabase.driver(URI)\n",
    "driver"
   ]
  },
  {
   "cell_type": "code",
   "execution_count": null,
   "id": "53d872a4-f8a7-49e5-957a-a0ab118f4cdb",
   "metadata": {},
   "outputs": [],
   "source": [
    "eager_result = driver.execute_query(\n",
    "    \"MATCH (n) RETURN DISTINCT labels(n), COUNT(*) as c ORDER BY c DESC\",\n",
    "    database_=\"neo4j\",\n",
    "    routing_=RoutingControl.READ,\n",
    ")\n",
    "eager_result"
   ]
  },
  {
   "cell_type": "markdown",
   "id": "6d5df2be-5ba9-462f-829e-3f7f3fa4823e",
   "metadata": {},
   "source": [
    "## Using Graphistry via `Plotter.cypher()`\n",
    "\n"
   ]
  },
  {
   "cell_type": "code",
   "execution_count": 5,
   "id": "7b897485-7b84-4b65-a868-1711e527cd70",
   "metadata": {},
   "outputs": [],
   "source": [
    "import graphistry"
   ]
  },
  {
   "cell_type": "code",
   "execution_count": 6,
   "id": "96782731-d375-41d1-b687-295b9cacc5ef",
   "metadata": {},
   "outputs": [],
   "source": [
    "# Environment variable setup\n",
    "GRAPHISTRY_USERNAME = os.getenv(\"GRAPHISTRY_USERNAME\")\n",
    "GRAPHISTRY_PASSWORD = os.getenv(\"GRAPHISTRY_PASSWORD\")"
   ]
  },
  {
   "cell_type": "code",
   "execution_count": 7,
   "id": "7c1ab414-7c71-47bc-ae14-8ac6340fa9e2",
   "metadata": {},
   "outputs": [],
   "source": [
    "graphistry.register(\n",
    "    api=3,\n",
    "    username=GRAPHISTRY_USERNAME,\n",
    "    password=GRAPHISTRY_PASSWORD,\n",
    ")"
   ]
  },
  {
   "cell_type": "code",
   "execution_count": 8,
   "id": "90bdf5d4-3bff-42b3-b73f-6971244ea927",
   "metadata": {},
   "outputs": [],
   "source": [
    "# Configuration for Graphistry\n",
    "GRAPHISTRY_PARAMS = {\n",
    "    \"play\": 1000,\n",
    "    \"pointOpacity\": 0.7,\n",
    "    \"edgeOpacity\": 0.3,\n",
    "    \"edgeCurvature\": 0.3,\n",
    "    \"showArrows\": True,\n",
    "    \"gravity\": 0.15,\n",
    "    \"showPointsOfInterestLabel\": False,\n",
    "    \"labels\": {\n",
    "        \"shortenLabels\": False,\n",
    "    },\n",
    "}\n",
    "FAVICON_URL = \"https://graphlet.ai/assets/icons/favicon.ico\"\n",
    "LOGO = {\"url\": \"https://graphlet.ai/assets/Branding/Graphlet%20AI.svg\", \"dimensions\": {\"maxWidth\": 100, \"maxHeight\": 100}}"
   ]
  },
  {
   "cell_type": "code",
   "execution_count": 20,
   "id": "55ad5a45-df03-4a7d-8399-5b5422fe06a3",
   "metadata": {},
   "outputs": [
    {
     "name": "stderr",
     "output_type": "stream",
     "text": [
      "/opt/conda/lib/python3.10/site-packages/graphistry/util.py:266: RuntimeWarning: Query returned no edges; may have surprising visual results or need to add missing columns for encodings\n",
      "  warnings.warn(RuntimeWarning(msg))\n",
      "/opt/conda/lib/python3.10/site-packages/graphistry/util.py:266: RuntimeWarning: Query returned no nodes\n",
      "  warnings.warn(RuntimeWarning(msg))\n"
     ]
    },
    {
     "data": {
      "text/plain": [
       "{'bindings': {'edges': Empty DataFrame\n",
       "  Columns: [_bolt_relationship_id, type, _bolt_start_node_id_key, _bolt_end_node_id_key]\n",
       "  Index: [],\n",
       "  'nodes': Empty DataFrame\n",
       "  Columns: [_bolt_node_id_key, type]\n",
       "  Index: [],\n",
       "  'source': '_bolt_start_node_id_key',\n",
       "  'destination': '_bolt_end_node_id_key',\n",
       "  'node': '_bolt_node_id_key',\n",
       "  'edge_label': None,\n",
       "  'edge_color': None,\n",
       "  'edge_size': None,\n",
       "  'edge_weight': None,\n",
       "  'edge_title': None,\n",
       "  'edge_icon': None,\n",
       "  'edge_opacity': None,\n",
       "  'edge_source_color': None,\n",
       "  'edge_destination_color': None,\n",
       "  'point_label': None,\n",
       "  'point_color': None,\n",
       "  'point_size': None,\n",
       "  'point_weight': None,\n",
       "  'point_title': None,\n",
       "  'point_icon': None,\n",
       "  'point_opacity': None,\n",
       "  'point_x': None,\n",
       "  'point_y': None},\n",
       " 'settings': {'height': 500, 'url_params': {'info': 'true'}}}"
      ]
     },
     "execution_count": 20,
     "metadata": {},
     "output_type": "execute_result"
    }
   ],
   "source": [
    "NEO4J = {\n",
    "    'uri': \"bolt://heracles:7687\", \n",
    "    #'auth': (\"neo4j\", \"myalphapwd1\")\n",
    "}\n",
    "\n",
    "graphistry.register(bolt=NEO4J)\n",
    "graphistry.cypher(\"MATCH (n) RETURN DISTINCT labels(n), COUNT(*) as c ORDER BY c DESC\")"
   ]
  },
  {
   "cell_type": "markdown",
   "id": "a3ee2ef6-3d5a-49fa-bbc2-cecd94e54966",
   "metadata": {},
   "source": [
    "## Describe Our Network\n",
    "\n",
    "When you start working with a new graph database, you need to get oriented by describing the schema, then the network, then sampling some data and finally with some exploratory data analysis. From there you know enough to begin your own workflows.\n",
    "\n",
    "### Describing our Property Graph Model\n",
    "\n",
    "Let's start by describing our network. What kinds of nodes are there?"
   ]
  },
  {
   "cell_type": "code",
   "execution_count": null,
   "id": "fa5aca2b-36b1-44f3-9db4-53b498427cf5",
   "metadata": {},
   "outputs": [],
   "source": [
    "\"MATCH (n) RETURN DISTINCT labels(n), COUNT(*) as c ORDER BY c DESC\""
   ]
  },
  {
   "cell_type": "code",
   "execution_count": null,
   "id": "2b84ff44-9cf6-4c90-bc49-d38f4557372c",
   "metadata": {},
   "outputs": [],
   "source": []
  }
 ],
 "metadata": {
  "kernelspec": {
   "display_name": "Python 3 (ipykernel)",
   "language": "python",
   "name": "python3"
  },
  "language_info": {
   "codemirror_mode": {
    "name": "ipython",
    "version": 3
   },
   "file_extension": ".py",
   "mimetype": "text/x-python",
   "name": "python",
   "nbconvert_exporter": "python",
   "pygments_lexer": "ipython3",
   "version": "3.10.11"
  }
 },
 "nbformat": 4,
 "nbformat_minor": 5
}
