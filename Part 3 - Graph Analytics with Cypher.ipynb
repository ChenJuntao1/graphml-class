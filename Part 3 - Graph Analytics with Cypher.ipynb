{
 "cells": [
  {
   "cell_type": "markdown",
   "id": "a8194767-3613-4c5b-ba2d-48894ecb093e",
   "metadata": {},
   "source": [
    "Part 3 - Graph Analytics with Cypher\n",
    "====================================\n",
    "\n",
    "In this section we will use Neo4j and Bloom to learn Graph Analytics against the Open Sanctions database as outlined on Github at [opensanctions/offshore-graph](https://github.com/opensanctions/offshore-graph#sanctionsoffshores-graph-demo).\n",
    "\n",
    "The following resources will assist you in learning Cypher to query Neo4j and other platforms via [openCypher]:\n",
    "\n",
    "* [Neo4j Cypher Manual - Overview](https://neo4j.com/docs/cypher-manual/current/introduction/cypher_overview/)\n",
    "* [Neo4j Cypher Manual - Cypher and Neo4j](https://neo4j.com/docs/cypher-manual/current/introduction/cypher_neo4j/)\n",
    "* [Neo4j 5 Cypher Cheat Sheet](https://neo4j.com/docs/cypher-cheat-sheet/5/auradb-enterprise/)\n",
    "* [Neo4j Graph Academy Cypher Fundamentals - 1 Hour Video](https://graphacademy.neo4j.com/courses/cypher-fundamentals/)\n",
    "* [Neo4j Cypher Manual PDF](https://neo4j.com/docs/pdf/neo4j-cypher-manual-5.pdf)\n",
    "* [Neo4j Getting Started - Query a Neo4j database using Cypher](https://neo4j.com/docs/getting-started/cypher-intro/)\n",
    "* [Bite-Sized Neo4j for Data Scientists](https://neo4j.com/video/bite-sized-neo4j-for-data-scientists/) [[github code](https://github.com/cj2001/bite_sized_data_science)]\n",
    "* [Using Neo4j from Python]("
   ]
  },
  {
   "cell_type": "markdown",
   "id": "a3ee2ef6-3d5a-49fa-bbc2-cecd94e54966",
   "metadata": {},
   "source": [
    "## Describe Our Network\n",
    "\n",
    "Let's start by describing our network..."
   ]
  },
  {
   "cell_type": "code",
   "execution_count": null,
   "id": "525a9dae-2a22-46e0-ba0c-0cf2775b8457",
   "metadata": {},
   "outputs": [],
   "source": [
    "MATCH (n) RETURN distinct labels(n), count(*)"
   ]
  }
 ],
 "metadata": {
  "kernelspec": {
   "display_name": "Python 3 (ipykernel)",
   "language": "python",
   "name": "python3"
  },
  "language_info": {
   "codemirror_mode": {
    "name": "ipython",
    "version": 3
   },
   "file_extension": ".py",
   "mimetype": "text/x-python",
   "name": "python",
   "nbconvert_exporter": "python",
   "pygments_lexer": "ipython3",
   "version": "3.10.11"
  }
 },
 "nbformat": 4,
 "nbformat_minor": 5
}
